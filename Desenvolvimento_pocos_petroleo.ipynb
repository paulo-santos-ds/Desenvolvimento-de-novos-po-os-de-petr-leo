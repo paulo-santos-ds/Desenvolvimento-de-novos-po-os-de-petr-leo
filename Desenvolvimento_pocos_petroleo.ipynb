{
 "cells": [
  {
   "cell_type": "markdown",
   "metadata": {},
   "source": [
    "# Visão geral do projeto\n"
   ]
  },
  {
   "cell_type": "markdown",
   "metadata": {},
   "source": [
    "Você trabalha na empresa de mineração OilyGiant. Sua tarefa é encontrar os melhores lugares para o **Desenvolvimento de novos poços de petróleo**.\n",
    "\n",
    "Para concluir essa tarefa, você vai precisar executar as seguintes etapas:\n",
    "\n",
    "+ Ler os arquivos com parâmetros coletados de poços de petróleo na região selecionada: a quantidade de petróleo e o volume de reservas;\n",
    "+ Construir um modelo para predizer o volume de reservas em novos poços;\n",
    "+ Escolher os poços de petróleo que têm os maiores valores estimados;\n",
    "+ Escolher a região com o maior lucro total para os poços de petróleo selecionados.\n",
    "\n",
    "Você tem dados sobre amostras de petróleo de três regiões.\n",
    "Os parâmetros de cada poço de petróleo na região já são conhecidos. Construa um modelo que te ajudará a escolher a região com a margem de lucro mais alta. Utilize a técnica de Bootstrapping para analisar lucro potencial e riscos."
   ]
  },
  {
   "cell_type": "markdown",
   "metadata": {},
   "source": [
    "# Descrição dos dados"
   ]
  },
  {
   "cell_type": "markdown",
   "metadata": {},
   "source": [
    "Os dados de exploração geológica para as três regiões estão armazenados em arquivos:\n",
    "\n",
    "+ geo_data_0 conjunto de dados\n",
    "+ geo_data_1 conjunto de dados\n",
    "+ geo_data_2 conjunto de dados\n",
    "+ id — identificador unívoco de poço de petróleo\n",
    "+ f0, f1, f2 — três características de pontos (seu significado específico não é importante, mas as próprias características são significativas)\n",
    "+ product — volume de reservas no poço de petróleo (milhares de barris)."
   ]
  },
  {
   "cell_type": "markdown",
   "metadata": {},
   "source": [
    "# Condições"
   ]
  },
  {
   "cell_type": "markdown",
   "metadata": {},
   "source": [
    "+ Apenas regressão linear deve ser usada para o treinamento do modelo.\n",
    "+ Ao explorar a região, um estudo de 500 pontos é realizado e os melhores 200 pontos são selecionados para calcular o lucro.\n",
    "+ O orçamento para o desenvolvimento de 200 poços de petróleo é 100 milhões de dólares.\n",
    "+ Um barril de petróleo bruto traz 4.5 dólares de receita. A receita de uma unidade de produto é 4.500 dólares (o volume de reservas está em milhares de barris).\n",
    "+ Depois de ter avaliado os riscos, mantenha apenas as regiões com o risco de perdas inferior a 2.5%. Entre aquelas que se enquadram no critério, você precisa selecionar a região com o lucro médio mais alto.\n",
    "+ Os dados são sintéticos e não incluem nenhum detalhe de contratos ou características de poços."
   ]
  },
  {
   "cell_type": "markdown",
   "metadata": {},
   "source": [
    "## Bibliotecas utilizadas"
   ]
  },
  {
   "cell_type": "code",
   "execution_count": 235,
   "metadata": {},
   "outputs": [],
   "source": [
    "\n",
    "import pandas as pd\n",
    "import numpy as np\n",
    "import seaborn as sns\n",
    "import math\n",
    "import matplotlib.pyplot as plt\n",
    "from sklearn.model_selection import train_test_split\n",
    "from sklearn.metrics import mean_squared_error\n",
    "from sklearn.linear_model import LinearRegression\n",
    "\n"
   ]
  },
  {
   "cell_type": "markdown",
   "metadata": {},
   "source": [
    "## Importando os Dados"
   ]
  },
  {
   "cell_type": "markdown",
   "metadata": {},
   "source": [
    "### Importando os Dados geodata 0"
   ]
  },
  {
   "cell_type": "code",
   "execution_count": 236,
   "metadata": {},
   "outputs": [
    {
     "data": {
      "text/html": [
       "<div>\n",
       "<style scoped>\n",
       "    .dataframe tbody tr th:only-of-type {\n",
       "        vertical-align: middle;\n",
       "    }\n",
       "\n",
       "    .dataframe tbody tr th {\n",
       "        vertical-align: top;\n",
       "    }\n",
       "\n",
       "    .dataframe thead th {\n",
       "        text-align: right;\n",
       "    }\n",
       "</style>\n",
       "<table border=\"1\" class=\"dataframe\">\n",
       "  <thead>\n",
       "    <tr style=\"text-align: right;\">\n",
       "      <th></th>\n",
       "      <th>id</th>\n",
       "      <th>f0</th>\n",
       "      <th>f1</th>\n",
       "      <th>f2</th>\n",
       "      <th>product</th>\n",
       "    </tr>\n",
       "  </thead>\n",
       "  <tbody>\n",
       "    <tr>\n",
       "      <th>0</th>\n",
       "      <td>txEyH</td>\n",
       "      <td>0.705745</td>\n",
       "      <td>-0.497823</td>\n",
       "      <td>1.221170</td>\n",
       "      <td>105.280062</td>\n",
       "    </tr>\n",
       "    <tr>\n",
       "      <th>1</th>\n",
       "      <td>2acmU</td>\n",
       "      <td>1.334711</td>\n",
       "      <td>-0.340164</td>\n",
       "      <td>4.365080</td>\n",
       "      <td>73.037750</td>\n",
       "    </tr>\n",
       "    <tr>\n",
       "      <th>2</th>\n",
       "      <td>409Wp</td>\n",
       "      <td>1.022732</td>\n",
       "      <td>0.151990</td>\n",
       "      <td>1.419926</td>\n",
       "      <td>85.265647</td>\n",
       "    </tr>\n",
       "    <tr>\n",
       "      <th>3</th>\n",
       "      <td>iJLyR</td>\n",
       "      <td>-0.032172</td>\n",
       "      <td>0.139033</td>\n",
       "      <td>2.978566</td>\n",
       "      <td>168.620776</td>\n",
       "    </tr>\n",
       "    <tr>\n",
       "      <th>4</th>\n",
       "      <td>Xdl7t</td>\n",
       "      <td>1.988431</td>\n",
       "      <td>0.155413</td>\n",
       "      <td>4.751769</td>\n",
       "      <td>154.036647</td>\n",
       "    </tr>\n",
       "  </tbody>\n",
       "</table>\n",
       "</div>"
      ],
      "text/plain": [
       "      id        f0        f1        f2     product\n",
       "0  txEyH  0.705745 -0.497823  1.221170  105.280062\n",
       "1  2acmU  1.334711 -0.340164  4.365080   73.037750\n",
       "2  409Wp  1.022732  0.151990  1.419926   85.265647\n",
       "3  iJLyR -0.032172  0.139033  2.978566  168.620776\n",
       "4  Xdl7t  1.988431  0.155413  4.751769  154.036647"
      ]
     },
     "execution_count": 236,
     "metadata": {},
     "output_type": "execute_result"
    }
   ],
   "source": [
    "#local_0\n",
    "df_0 = pd.read_csv('/datasets/geo_data_0.csv')\n",
    "df_0.head()"
   ]
  },
  {
   "cell_type": "markdown",
   "metadata": {},
   "source": [
    "#### numeros duplicados"
   ]
  },
  {
   "cell_type": "code",
   "execution_count": 237,
   "metadata": {},
   "outputs": [
    {
     "data": {
      "text/plain": [
       "0"
      ]
     },
     "execution_count": 237,
     "metadata": {},
     "output_type": "execute_result"
    }
   ],
   "source": [
    "df_0.duplicated().sum()"
   ]
  },
  {
   "cell_type": "markdown",
   "metadata": {},
   "source": [
    "#### informação Dados geodata 0"
   ]
  },
  {
   "cell_type": "code",
   "execution_count": 238,
   "metadata": {},
   "outputs": [
    {
     "name": "stdout",
     "output_type": "stream",
     "text": [
      "<class 'pandas.core.frame.DataFrame'>\n",
      "RangeIndex: 100000 entries, 0 to 99999\n",
      "Data columns (total 5 columns):\n",
      " #   Column   Non-Null Count   Dtype  \n",
      "---  ------   --------------   -----  \n",
      " 0   id       100000 non-null  object \n",
      " 1   f0       100000 non-null  float64\n",
      " 2   f1       100000 non-null  float64\n",
      " 3   f2       100000 non-null  float64\n",
      " 4   product  100000 non-null  float64\n",
      "dtypes: float64(4), object(1)\n",
      "memory usage: 3.8+ MB\n"
     ]
    }
   ],
   "source": [
    "df_0.info()"
   ]
  },
  {
   "cell_type": "markdown",
   "metadata": {},
   "source": [
    "#### numeros Nulos"
   ]
  },
  {
   "cell_type": "code",
   "execution_count": 239,
   "metadata": {},
   "outputs": [
    {
     "data": {
      "text/plain": [
       "id    0\n",
       "f0    0\n",
       "f1    0\n",
       "f2    0\n",
       "dtype: int64"
      ]
     },
     "execution_count": 239,
     "metadata": {},
     "output_type": "execute_result"
    }
   ],
   "source": [
    "df_0[['id','f0','f1','f2']].isna().sum()"
   ]
  },
  {
   "cell_type": "markdown",
   "metadata": {},
   "source": [
    "#### estatistica dos Dados geodata 0"
   ]
  },
  {
   "cell_type": "code",
   "execution_count": 240,
   "metadata": {},
   "outputs": [
    {
     "data": {
      "text/html": [
       "<div>\n",
       "<style scoped>\n",
       "    .dataframe tbody tr th:only-of-type {\n",
       "        vertical-align: middle;\n",
       "    }\n",
       "\n",
       "    .dataframe tbody tr th {\n",
       "        vertical-align: top;\n",
       "    }\n",
       "\n",
       "    .dataframe thead th {\n",
       "        text-align: right;\n",
       "    }\n",
       "</style>\n",
       "<table border=\"1\" class=\"dataframe\">\n",
       "  <thead>\n",
       "    <tr style=\"text-align: right;\">\n",
       "      <th></th>\n",
       "      <th>count</th>\n",
       "      <th>mean</th>\n",
       "      <th>std</th>\n",
       "      <th>min</th>\n",
       "      <th>25%</th>\n",
       "      <th>50%</th>\n",
       "      <th>75%</th>\n",
       "      <th>max</th>\n",
       "    </tr>\n",
       "  </thead>\n",
       "  <tbody>\n",
       "    <tr>\n",
       "      <th>f0</th>\n",
       "      <td>100000.0</td>\n",
       "      <td>0.500419</td>\n",
       "      <td>0.871832</td>\n",
       "      <td>-1.408605</td>\n",
       "      <td>-0.072580</td>\n",
       "      <td>0.502360</td>\n",
       "      <td>1.073581</td>\n",
       "      <td>2.362331</td>\n",
       "    </tr>\n",
       "    <tr>\n",
       "      <th>f1</th>\n",
       "      <td>100000.0</td>\n",
       "      <td>0.250143</td>\n",
       "      <td>0.504433</td>\n",
       "      <td>-0.848218</td>\n",
       "      <td>-0.200881</td>\n",
       "      <td>0.250252</td>\n",
       "      <td>0.700646</td>\n",
       "      <td>1.343769</td>\n",
       "    </tr>\n",
       "    <tr>\n",
       "      <th>f2</th>\n",
       "      <td>100000.0</td>\n",
       "      <td>2.502647</td>\n",
       "      <td>3.248248</td>\n",
       "      <td>-12.088328</td>\n",
       "      <td>0.287748</td>\n",
       "      <td>2.515969</td>\n",
       "      <td>4.715088</td>\n",
       "      <td>16.003790</td>\n",
       "    </tr>\n",
       "    <tr>\n",
       "      <th>product</th>\n",
       "      <td>100000.0</td>\n",
       "      <td>92.500000</td>\n",
       "      <td>44.288691</td>\n",
       "      <td>0.000000</td>\n",
       "      <td>56.497507</td>\n",
       "      <td>91.849972</td>\n",
       "      <td>128.564089</td>\n",
       "      <td>185.364347</td>\n",
       "    </tr>\n",
       "  </tbody>\n",
       "</table>\n",
       "</div>"
      ],
      "text/plain": [
       "            count       mean        std        min        25%        50%  \\\n",
       "f0       100000.0   0.500419   0.871832  -1.408605  -0.072580   0.502360   \n",
       "f1       100000.0   0.250143   0.504433  -0.848218  -0.200881   0.250252   \n",
       "f2       100000.0   2.502647   3.248248 -12.088328   0.287748   2.515969   \n",
       "product  100000.0  92.500000  44.288691   0.000000  56.497507  91.849972   \n",
       "\n",
       "                75%         max  \n",
       "f0         1.073581    2.362331  \n",
       "f1         0.700646    1.343769  \n",
       "f2         4.715088   16.003790  \n",
       "product  128.564089  185.364347  "
      ]
     },
     "execution_count": 240,
     "metadata": {},
     "output_type": "execute_result"
    }
   ],
   "source": [
    "df_0.describe().T"
   ]
  },
  {
   "cell_type": "markdown",
   "metadata": {},
   "source": [
    "#### correlação dos dados geodata 0"
   ]
  },
  {
   "cell_type": "code",
   "execution_count": 241,
   "metadata": {},
   "outputs": [
    {
     "data": {
      "image/png": "[encoded data removed]",
      "text/plain": [
       "<Figure size 640x480 with 2 Axes>"
      ]
     },
     "metadata": {},
     "output_type": "display_data"
    }
   ],
   "source": [
    "corr = df_0.corr()\n",
    "sns.heatmap(corr, cmap = 'coolwarm', annot= True);"
   ]
  },
  {
   "cell_type": "markdown",
   "metadata": {},
   "source": [
    "#### Grafico de distribuição"
   ]
  },
  {
   "cell_type": "code",
   "execution_count": 242,
   "metadata": {},
   "outputs": [
    {
     "data": {
      "image/png": "[encoded data removed]",
      "text/plain": [
       "<Figure size 1200x800 with 4 Axes>"
      ]
     },
     "metadata": {},
     "output_type": "display_data"
    }
   ],
   "source": [
    "\n",
    "fig, axes = plt.subplots(2, 2, figsize=(12, 8))\n",
    "\n",
    "# Histograma de f0\n",
    "axes[0, 0].hist(df_0['f0'], bins=10, color='blue', edgecolor='red')\n",
    "axes[0, 0].set_title('f0')\n",
    "\n",
    "# Histograma de f1\n",
    "axes[0, 1].hist(df_0['f1'], bins=10, color='blue', edgecolor='red')\n",
    "axes[0, 1].set_title('f1')\n",
    "\n",
    "# Histograma de f2\n",
    "axes[1, 0].hist(df_0['f2'], bins=10, color='blue', edgecolor='red')\n",
    "axes[1, 0].set_title('f2')\n",
    "\n",
    "# Histograma de product\n",
    "axes[1, 1].hist(df_0['product'], bins=10, color='blue', edgecolor='red')\n",
    "axes[1, 1].set_title('product')\n",
    "\n",
    "\n",
    "plt.tight_layout()\n",
    "plt.show()\n"
   ]
  },
  {
   "cell_type": "markdown",
   "metadata": {},
   "source": [
    "### Importando os Dados geodata 1"
   ]
  },
  {
   "cell_type": "code",
   "execution_count": 243,
   "metadata": {},
   "outputs": [
    {
     "data": {
      "text/html": [
       "<div>\n",
       "<style scoped>\n",
       "    .dataframe tbody tr th:only-of-type {\n",
       "        vertical-align: middle;\n",
       "    }\n",
       "\n",
       "    .dataframe tbody tr th {\n",
       "        vertical-align: top;\n",
       "    }\n",
       "\n",
       "    .dataframe thead th {\n",
       "        text-align: right;\n",
       "    }\n",
       "</style>\n",
       "<table border=\"1\" class=\"dataframe\">\n",
       "  <thead>\n",
       "    <tr style=\"text-align: right;\">\n",
       "      <th></th>\n",
       "      <th>id</th>\n",
       "      <th>f0</th>\n",
       "      <th>f1</th>\n",
       "      <th>f2</th>\n",
       "      <th>product</th>\n",
       "    </tr>\n",
       "  </thead>\n",
       "  <tbody>\n",
       "    <tr>\n",
       "      <th>0</th>\n",
       "      <td>kBEdx</td>\n",
       "      <td>-15.001348</td>\n",
       "      <td>-8.276000</td>\n",
       "      <td>-0.005876</td>\n",
       "      <td>3.179103</td>\n",
       "    </tr>\n",
       "    <tr>\n",
       "      <th>1</th>\n",
       "      <td>62mP7</td>\n",
       "      <td>14.272088</td>\n",
       "      <td>-3.475083</td>\n",
       "      <td>0.999183</td>\n",
       "      <td>26.953261</td>\n",
       "    </tr>\n",
       "    <tr>\n",
       "      <th>2</th>\n",
       "      <td>vyE1P</td>\n",
       "      <td>6.263187</td>\n",
       "      <td>-5.948386</td>\n",
       "      <td>5.001160</td>\n",
       "      <td>134.766305</td>\n",
       "    </tr>\n",
       "    <tr>\n",
       "      <th>3</th>\n",
       "      <td>KcrkZ</td>\n",
       "      <td>-13.081196</td>\n",
       "      <td>-11.506057</td>\n",
       "      <td>4.999415</td>\n",
       "      <td>137.945408</td>\n",
       "    </tr>\n",
       "    <tr>\n",
       "      <th>4</th>\n",
       "      <td>AHL4O</td>\n",
       "      <td>12.702195</td>\n",
       "      <td>-8.147433</td>\n",
       "      <td>5.004363</td>\n",
       "      <td>134.766305</td>\n",
       "    </tr>\n",
       "  </tbody>\n",
       "</table>\n",
       "</div>"
      ],
      "text/plain": [
       "      id         f0         f1        f2     product\n",
       "0  kBEdx -15.001348  -8.276000 -0.005876    3.179103\n",
       "1  62mP7  14.272088  -3.475083  0.999183   26.953261\n",
       "2  vyE1P   6.263187  -5.948386  5.001160  134.766305\n",
       "3  KcrkZ -13.081196 -11.506057  4.999415  137.945408\n",
       "4  AHL4O  12.702195  -8.147433  5.004363  134.766305"
      ]
     },
     "execution_count": 243,
     "metadata": {},
     "output_type": "execute_result"
    }
   ],
   "source": [
    "#Local_1\n",
    "df_1 = pd.read_csv('/datasets/geo_data_1.csv')\n",
    "df_1.head()"
   ]
  },
  {
   "cell_type": "markdown",
   "metadata": {},
   "source": [
    "#### valores duplicados"
   ]
  },
  {
   "cell_type": "code",
   "execution_count": 244,
   "metadata": {},
   "outputs": [
    {
     "data": {
      "text/plain": [
       "0"
      ]
     },
     "execution_count": 244,
     "metadata": {},
     "output_type": "execute_result"
    }
   ],
   "source": [
    "df_1.duplicated().sum()"
   ]
  },
  {
   "cell_type": "markdown",
   "metadata": {},
   "source": [
    "#### informação Dados geodata 1"
   ]
  },
  {
   "cell_type": "code",
   "execution_count": 245,
   "metadata": {},
   "outputs": [
    {
     "name": "stdout",
     "output_type": "stream",
     "text": [
      "<class 'pandas.core.frame.DataFrame'>\n",
      "RangeIndex: 100000 entries, 0 to 99999\n",
      "Data columns (total 5 columns):\n",
      " #   Column   Non-Null Count   Dtype  \n",
      "---  ------   --------------   -----  \n",
      " 0   id       100000 non-null  object \n",
      " 1   f0       100000 non-null  float64\n",
      " 2   f1       100000 non-null  float64\n",
      " 3   f2       100000 non-null  float64\n",
      " 4   product  100000 non-null  float64\n",
      "dtypes: float64(4), object(1)\n",
      "memory usage: 3.8+ MB\n"
     ]
    }
   ],
   "source": [
    "df_1.info()"
   ]
  },
  {
   "cell_type": "markdown",
   "metadata": {},
   "source": [
    "#### Numeros nulos"
   ]
  },
  {
   "cell_type": "code",
   "execution_count": 246,
   "metadata": {},
   "outputs": [
    {
     "data": {
      "text/plain": [
       "id    0\n",
       "f0    0\n",
       "f1    0\n",
       "f2    0\n",
       "dtype: int64"
      ]
     },
     "execution_count": 246,
     "metadata": {},
     "output_type": "execute_result"
    }
   ],
   "source": [
    "df_1[['id','f0','f1','f2']].isna().sum()"
   ]
  },
  {
   "cell_type": "markdown",
   "metadata": {},
   "source": [
    "#### Estatistica dos Dados geodata 1"
   ]
  },
  {
   "cell_type": "code",
   "execution_count": 247,
   "metadata": {},
   "outputs": [
    {
     "data": {
      "text/html": [
       "<div>\n",
       "<style scoped>\n",
       "    .dataframe tbody tr th:only-of-type {\n",
       "        vertical-align: middle;\n",
       "    }\n",
       "\n",
       "    .dataframe tbody tr th {\n",
       "        vertical-align: top;\n",
       "    }\n",
       "\n",
       "    .dataframe thead th {\n",
       "        text-align: right;\n",
       "    }\n",
       "</style>\n",
       "<table border=\"1\" class=\"dataframe\">\n",
       "  <thead>\n",
       "    <tr style=\"text-align: right;\">\n",
       "      <th></th>\n",
       "      <th>count</th>\n",
       "      <th>mean</th>\n",
       "      <th>std</th>\n",
       "      <th>min</th>\n",
       "      <th>25%</th>\n",
       "      <th>50%</th>\n",
       "      <th>75%</th>\n",
       "      <th>max</th>\n",
       "    </tr>\n",
       "  </thead>\n",
       "  <tbody>\n",
       "    <tr>\n",
       "      <th>f0</th>\n",
       "      <td>100000.0</td>\n",
       "      <td>1.141296</td>\n",
       "      <td>8.965932</td>\n",
       "      <td>-31.609576</td>\n",
       "      <td>-6.298551</td>\n",
       "      <td>1.153055</td>\n",
       "      <td>8.621015</td>\n",
       "      <td>29.421755</td>\n",
       "    </tr>\n",
       "    <tr>\n",
       "      <th>f1</th>\n",
       "      <td>100000.0</td>\n",
       "      <td>-4.796579</td>\n",
       "      <td>5.119872</td>\n",
       "      <td>-26.358598</td>\n",
       "      <td>-8.267985</td>\n",
       "      <td>-4.813172</td>\n",
       "      <td>-1.332816</td>\n",
       "      <td>18.734063</td>\n",
       "    </tr>\n",
       "    <tr>\n",
       "      <th>f2</th>\n",
       "      <td>100000.0</td>\n",
       "      <td>2.494541</td>\n",
       "      <td>1.703572</td>\n",
       "      <td>-0.018144</td>\n",
       "      <td>1.000021</td>\n",
       "      <td>2.011479</td>\n",
       "      <td>3.999904</td>\n",
       "      <td>5.019721</td>\n",
       "    </tr>\n",
       "    <tr>\n",
       "      <th>product</th>\n",
       "      <td>100000.0</td>\n",
       "      <td>68.825000</td>\n",
       "      <td>45.944423</td>\n",
       "      <td>0.000000</td>\n",
       "      <td>26.953261</td>\n",
       "      <td>57.085625</td>\n",
       "      <td>107.813044</td>\n",
       "      <td>137.945408</td>\n",
       "    </tr>\n",
       "  </tbody>\n",
       "</table>\n",
       "</div>"
      ],
      "text/plain": [
       "            count       mean        std        min        25%        50%  \\\n",
       "f0       100000.0   1.141296   8.965932 -31.609576  -6.298551   1.153055   \n",
       "f1       100000.0  -4.796579   5.119872 -26.358598  -8.267985  -4.813172   \n",
       "f2       100000.0   2.494541   1.703572  -0.018144   1.000021   2.011479   \n",
       "product  100000.0  68.825000  45.944423   0.000000  26.953261  57.085625   \n",
       "\n",
       "                75%         max  \n",
       "f0         8.621015   29.421755  \n",
       "f1        -1.332816   18.734063  \n",
       "f2         3.999904    5.019721  \n",
       "product  107.813044  137.945408  "
      ]
     },
     "execution_count": 247,
     "metadata": {},
     "output_type": "execute_result"
    }
   ],
   "source": [
    "df_1.describe().T"
   ]
  },
  {
   "cell_type": "markdown",
   "metadata": {},
   "source": [
    "#### correlação dos dados geodata 1"
   ]
  },
  {
   "cell_type": "code",
   "execution_count": 248,
   "metadata": {},
   "outputs": [
    {
     "data": {
      "image/png": "[encoded data removed]",
      "text/plain": [
       "<Figure size 640x480 with 2 Axes>"
      ]
     },
     "metadata": {},
     "output_type": "display_data"
    }
   ],
   "source": [
    "corr = df_1.corr()\n",
    "sns.heatmap(corr, cmap = 'coolwarm', annot= True);"
   ]
  },
  {
   "cell_type": "markdown",
   "metadata": {},
   "source": [
    "#### Grafico de distribuição"
   ]
  },
  {
   "cell_type": "code",
   "execution_count": 249,
   "metadata": {},
   "outputs": [
    {
     "data": {
      "image/png": "[encoded data removed]",
      "text/plain": [
       "<Figure size 1200x800 with 4 Axes>"
      ]
     },
     "metadata": {},
     "output_type": "display_data"
    }
   ],
   "source": [
    "fig, axes = plt.subplots(2, 2, figsize=(12, 8))\n",
    "\n",
    "# Histograma de f0\n",
    "axes[0, 0].hist(df_1['f0'], bins=10, color='blue', edgecolor='red')\n",
    "axes[0, 0].set_title('f0')\n",
    "\n",
    "# Histograma de f1\n",
    "axes[0, 1].hist(df_1['f1'], bins=10, color='blue', edgecolor='red')\n",
    "axes[0, 1].set_title('f1')\n",
    "\n",
    "# Histograma de f2\n",
    "axes[1, 0].hist(df_1['f2'], bins=10, color='blue', edgecolor='red')\n",
    "axes[1, 0].set_title('f2')\n",
    "\n",
    "# Histograma de product\n",
    "axes[1, 1].hist(df_1['product'], bins=10, color='blue', edgecolor='red')\n",
    "axes[1, 1].set_title('product')\n",
    "\n",
    "\n",
    "plt.tight_layout()\n",
    "plt.show()"
   ]
  },
  {
   "cell_type": "markdown",
   "metadata": {},
   "source": [
    "### Importando os Dados geodata 2"
   ]
  },
  {
   "cell_type": "code",
   "execution_count": 250,
   "metadata": {},
   "outputs": [
    {
     "data": {
      "text/html": [
       "<div>\n",
       "<style scoped>\n",
       "    .dataframe tbody tr th:only-of-type {\n",
       "        vertical-align: middle;\n",
       "    }\n",
       "\n",
       "    .dataframe tbody tr th {\n",
       "        vertical-align: top;\n",
       "    }\n",
       "\n",
       "    .dataframe thead th {\n",
       "        text-align: right;\n",
       "    }\n",
       "</style>\n",
       "<table border=\"1\" class=\"dataframe\">\n",
       "  <thead>\n",
       "    <tr style=\"text-align: right;\">\n",
       "      <th></th>\n",
       "      <th>id</th>\n",
       "      <th>f0</th>\n",
       "      <th>f1</th>\n",
       "      <th>f2</th>\n",
       "      <th>product</th>\n",
       "    </tr>\n",
       "  </thead>\n",
       "  <tbody>\n",
       "    <tr>\n",
       "      <th>0</th>\n",
       "      <td>fwXo0</td>\n",
       "      <td>-1.146987</td>\n",
       "      <td>0.963328</td>\n",
       "      <td>-0.828965</td>\n",
       "      <td>27.758673</td>\n",
       "    </tr>\n",
       "    <tr>\n",
       "      <th>1</th>\n",
       "      <td>WJtFt</td>\n",
       "      <td>0.262778</td>\n",
       "      <td>0.269839</td>\n",
       "      <td>-2.530187</td>\n",
       "      <td>56.069697</td>\n",
       "    </tr>\n",
       "    <tr>\n",
       "      <th>2</th>\n",
       "      <td>ovLUW</td>\n",
       "      <td>0.194587</td>\n",
       "      <td>0.289035</td>\n",
       "      <td>-5.586433</td>\n",
       "      <td>62.871910</td>\n",
       "    </tr>\n",
       "    <tr>\n",
       "      <th>3</th>\n",
       "      <td>q6cA6</td>\n",
       "      <td>2.236060</td>\n",
       "      <td>-0.553760</td>\n",
       "      <td>0.930038</td>\n",
       "      <td>114.572842</td>\n",
       "    </tr>\n",
       "    <tr>\n",
       "      <th>4</th>\n",
       "      <td>WPMUX</td>\n",
       "      <td>-0.515993</td>\n",
       "      <td>1.716266</td>\n",
       "      <td>5.899011</td>\n",
       "      <td>149.600746</td>\n",
       "    </tr>\n",
       "  </tbody>\n",
       "</table>\n",
       "</div>"
      ],
      "text/plain": [
       "      id        f0        f1        f2     product\n",
       "0  fwXo0 -1.146987  0.963328 -0.828965   27.758673\n",
       "1  WJtFt  0.262778  0.269839 -2.530187   56.069697\n",
       "2  ovLUW  0.194587  0.289035 -5.586433   62.871910\n",
       "3  q6cA6  2.236060 -0.553760  0.930038  114.572842\n",
       "4  WPMUX -0.515993  1.716266  5.899011  149.600746"
      ]
     },
     "execution_count": 250,
     "metadata": {},
     "output_type": "execute_result"
    }
   ],
   "source": [
    "#Local_2\n",
    "df_2 = pd.read_csv('/datasets/geo_data_2.csv')\n",
    "df_2.head()"
   ]
  },
  {
   "cell_type": "markdown",
   "metadata": {},
   "source": [
    "#### Valore duplicados"
   ]
  },
  {
   "cell_type": "code",
   "execution_count": 251,
   "metadata": {},
   "outputs": [
    {
     "data": {
      "text/plain": [
       "0"
      ]
     },
     "execution_count": 251,
     "metadata": {},
     "output_type": "execute_result"
    }
   ],
   "source": [
    "df_2.duplicated().sum()"
   ]
  },
  {
   "cell_type": "markdown",
   "metadata": {},
   "source": [
    "#### informação Dados geodata 2"
   ]
  },
  {
   "cell_type": "code",
   "execution_count": 252,
   "metadata": {},
   "outputs": [
    {
     "name": "stdout",
     "output_type": "stream",
     "text": [
      "<class 'pandas.core.frame.DataFrame'>\n",
      "RangeIndex: 100000 entries, 0 to 99999\n",
      "Data columns (total 5 columns):\n",
      " #   Column   Non-Null Count   Dtype  \n",
      "---  ------   --------------   -----  \n",
      " 0   id       100000 non-null  object \n",
      " 1   f0       100000 non-null  float64\n",
      " 2   f1       100000 non-null  float64\n",
      " 3   f2       100000 non-null  float64\n",
      " 4   product  100000 non-null  float64\n",
      "dtypes: float64(4), object(1)\n",
      "memory usage: 3.8+ MB\n"
     ]
    }
   ],
   "source": [
    "df_2.info()"
   ]
  },
  {
   "cell_type": "markdown",
   "metadata": {},
   "source": [
    "#### Numeros nulos"
   ]
  },
  {
   "cell_type": "code",
   "execution_count": 254,
   "metadata": {},
   "outputs": [
    {
     "data": {
      "text/plain": [
       "id    0\n",
       "f0    0\n",
       "f1    0\n",
       "f2    0\n",
       "dtype: int64"
      ]
     },
     "execution_count": 254,
     "metadata": {},
     "output_type": "execute_result"
    }
   ],
   "source": [
    "df_2[['id','f0','f1','f2']].isna().sum()"
   ]
  },
  {
   "cell_type": "markdown",
   "metadata": {},
   "source": [
    "#### Estatistica dos Dados geodata 2"
   ]
  },
  {
   "cell_type": "code",
   "execution_count": 253,
   "metadata": {},
   "outputs": [
    {
     "data": {
      "text/html": [
       "<div>\n",
       "<style scoped>\n",
       "    .dataframe tbody tr th:only-of-type {\n",
       "        vertical-align: middle;\n",
       "    }\n",
       "\n",
       "    .dataframe tbody tr th {\n",
       "        vertical-align: top;\n",
       "    }\n",
       "\n",
       "    .dataframe thead th {\n",
       "        text-align: right;\n",
       "    }\n",
       "</style>\n",
       "<table border=\"1\" class=\"dataframe\">\n",
       "  <thead>\n",
       "    <tr style=\"text-align: right;\">\n",
       "      <th></th>\n",
       "      <th>count</th>\n",
       "      <th>mean</th>\n",
       "      <th>std</th>\n",
       "      <th>min</th>\n",
       "      <th>25%</th>\n",
       "      <th>50%</th>\n",
       "      <th>75%</th>\n",
       "      <th>max</th>\n",
       "    </tr>\n",
       "  </thead>\n",
       "  <tbody>\n",
       "    <tr>\n",
       "      <th>f0</th>\n",
       "      <td>100000.0</td>\n",
       "      <td>0.002023</td>\n",
       "      <td>1.732045</td>\n",
       "      <td>-8.760004</td>\n",
       "      <td>-1.162288</td>\n",
       "      <td>0.009424</td>\n",
       "      <td>1.158535</td>\n",
       "      <td>7.238262</td>\n",
       "    </tr>\n",
       "    <tr>\n",
       "      <th>f1</th>\n",
       "      <td>100000.0</td>\n",
       "      <td>-0.002081</td>\n",
       "      <td>1.730417</td>\n",
       "      <td>-7.084020</td>\n",
       "      <td>-1.174820</td>\n",
       "      <td>-0.009482</td>\n",
       "      <td>1.163678</td>\n",
       "      <td>7.844801</td>\n",
       "    </tr>\n",
       "    <tr>\n",
       "      <th>f2</th>\n",
       "      <td>100000.0</td>\n",
       "      <td>2.495128</td>\n",
       "      <td>3.473445</td>\n",
       "      <td>-11.970335</td>\n",
       "      <td>0.130359</td>\n",
       "      <td>2.484236</td>\n",
       "      <td>4.858794</td>\n",
       "      <td>16.739402</td>\n",
       "    </tr>\n",
       "    <tr>\n",
       "      <th>product</th>\n",
       "      <td>100000.0</td>\n",
       "      <td>95.000000</td>\n",
       "      <td>44.749921</td>\n",
       "      <td>0.000000</td>\n",
       "      <td>59.450441</td>\n",
       "      <td>94.925613</td>\n",
       "      <td>130.595027</td>\n",
       "      <td>190.029838</td>\n",
       "    </tr>\n",
       "  </tbody>\n",
       "</table>\n",
       "</div>"
      ],
      "text/plain": [
       "            count       mean        std        min        25%        50%  \\\n",
       "f0       100000.0   0.002023   1.732045  -8.760004  -1.162288   0.009424   \n",
       "f1       100000.0  -0.002081   1.730417  -7.084020  -1.174820  -0.009482   \n",
       "f2       100000.0   2.495128   3.473445 -11.970335   0.130359   2.484236   \n",
       "product  100000.0  95.000000  44.749921   0.000000  59.450441  94.925613   \n",
       "\n",
       "                75%         max  \n",
       "f0         1.158535    7.238262  \n",
       "f1         1.163678    7.844801  \n",
       "f2         4.858794   16.739402  \n",
       "product  130.595027  190.029838  "
      ]
     },
     "execution_count": 253,
     "metadata": {},
     "output_type": "execute_result"
    }
   ],
   "source": [
    "df_2.describe().T"
   ]
  },
  {
   "cell_type": "markdown",
   "metadata": {},
   "source": [
    "#### Correlação dos dados geodata 2"
   ]
  },
  {
   "cell_type": "code",
   "execution_count": 21,
   "metadata": {},
   "outputs": [
    {
     "data": {
      "image/png": "[encoded data removed]",
      "text/plain": [
       "<Figure size 640x480 with 2 Axes>"
      ]
     },
     "metadata": {},
     "output_type": "display_data"
    }
   ],
   "source": [
    "corr = df_2.corr()\n",
    "sns.heatmap(corr, cmap = 'coolwarm', annot= True);"
   ]
  },
  {
   "cell_type": "markdown",
   "metadata": {},
   "source": [
    "#### Grafico de distribuição"
   ]
  },
  {
   "cell_type": "code",
   "execution_count": 22,
   "metadata": {},
   "outputs": [
    {
     "data": {
      "image/png": "[encoded data removed]",
      "text/plain": [
       "<Figure size 1200x800 with 4 Axes>"
      ]
     },
     "metadata": {},
     "output_type": "display_data"
    }
   ],
   "source": [
    "fig, axes = plt.subplots(2, 2, figsize=(12, 8))\n",
    "\n",
    "# Histograma de f0\n",
    "axes[0, 0].hist(df_2['f0'], bins=10, color='blue', edgecolor='red')\n",
    "axes[0, 0].set_title('f0')\n",
    "\n",
    "# Histograma de f1\n",
    "axes[0, 1].hist(df_2['f1'], bins=10, color='blue', edgecolor='red')\n",
    "axes[0, 1].set_title('f1')\n",
    "\n",
    "# Histograma de f2\n",
    "axes[1, 0].hist(df_2['f2'], bins=10, color='blue', edgecolor='red')\n",
    "axes[1, 0].set_title('f2')\n",
    "\n",
    "# Histograma de product\n",
    "axes[1, 1].hist(df_2['product'], bins=10, color='blue', edgecolor='red')\n",
    "axes[1, 1].set_title('product')\n",
    "\n",
    "\n",
    "plt.tight_layout()\n",
    "plt.show()"
   ]
  },
  {
   "cell_type": "markdown",
   "metadata": {},
   "source": [
    "## Treinamento do Modelo"
   ]
  },
  {
   "cell_type": "markdown",
   "metadata": {},
   "source": [
    "### Definindo as características do modelo, todas exceto \"Product\" e \"id\""
   ]
  },
  {
   "cell_type": "code",
   "execution_count": 220,
   "metadata": {},
   "outputs": [],
   "source": [
    "features_0 = df_0.drop(['product', 'id'], axis=1)\n",
    "features_1 = df_1.drop(['product', 'id'], axis=1)\n",
    "features_2 = df_2.drop(['product', 'id'], axis=1)\n",
    "\n",
    "# Defininindo os objetivos\n",
    "target_0 = df_0['product']\n",
    "target_1 = df_1['product']\n",
    "target_2 = df_2['product']"
   ]
  },
  {
   "cell_type": "markdown",
   "metadata": {},
   "source": [
    "## Local_0"
   ]
  },
  {
   "cell_type": "markdown",
   "metadata": {},
   "source": [
    "#### Separando os dados para treino e teste, colocando 75% em terinamento e o resto em validdação"
   ]
  },
  {
   "cell_type": "code",
   "execution_count": 24,
   "metadata": {},
   "outputs": [],
   "source": [
    "features_train_0, features_valid_0, target_train_0, target_valid_0 = train_test_split(\n",
    "    features_0,target_0 , test_size=0.25, random_state=12345)"
   ]
  },
  {
   "cell_type": "markdown",
   "metadata": {},
   "source": [
    "#### Conferindo se os dados foram separados corretamente"
   ]
  },
  {
   "cell_type": "code",
   "execution_count": 25,
   "metadata": {},
   "outputs": [
    {
     "name": "stdout",
     "output_type": "stream",
     "text": [
      "Tamanho do conjunto features_train_0: 75.0 %\n",
      "Tamanho do conjunto target_train_0: 75.0 %\n"
     ]
    }
   ],
   "source": [
    "print('Tamanho do conjunto features_train_0:',len(features_train_0)/len(features_0)*100,\"%\")\n",
    "print('Tamanho do conjunto target_train_0:', len(target_train_0)/len(target_0)*100, \"%\")"
   ]
  },
  {
   "cell_type": "markdown",
   "metadata": {},
   "source": [
    "#### Treinando o modelo de Regressão Linear"
   ]
  },
  {
   "cell_type": "code",
   "execution_count": 26,
   "metadata": {},
   "outputs": [],
   "source": [
    "model = LinearRegression()\n",
    "model.fit(features_train_0,target_train_0) \n",
    "predictions_valid_0 = model.predict(features_valid_0)"
   ]
  },
  {
   "cell_type": "markdown",
   "metadata": {},
   "source": [
    "####  Calculando o REQM do conjunto de validação"
   ]
  },
  {
   "cell_type": "code",
   "execution_count": 27,
   "metadata": {},
   "outputs": [
    {
     "name": "stdout",
     "output_type": "stream",
     "text": [
      "O REQM do modelo de regressão linear no conjunto de validação: 37.5794217150813\n"
     ]
    }
   ],
   "source": [
    "result = mean_squared_error(target_valid_0, predictions_valid_0) ** 0.5\n",
    "print(\"O REQM do modelo de regressão linear no conjunto de validação:\", result)"
   ]
  },
  {
   "cell_type": "markdown",
   "metadata": {},
   "source": [
    "#### Calculando o valor médio de reservas da predição"
   ]
  },
  {
   "cell_type": "code",
   "execution_count": 28,
   "metadata": {},
   "outputs": [
    {
     "name": "stdout",
     "output_type": "stream",
     "text": [
      "O valor médio no conjunto de validação do local_0: 92.59256778438035\n"
     ]
    }
   ],
   "source": [
    "med_0 = predictions_valid_0.mean()\n",
    "print(\"O valor médio no conjunto de validação do local_0:\", med_0)"
   ]
  },
  {
   "cell_type": "markdown",
   "metadata": {},
   "source": [
    "#### Salvando as predições e respostas corretas para o conjunto de validação"
   ]
  },
  {
   "cell_type": "code",
   "execution_count": 29,
   "metadata": {},
   "outputs": [
    {
     "data": {
      "text/html": [
       "<div>\n",
       "<style scoped>\n",
       "    .dataframe tbody tr th:only-of-type {\n",
       "        vertical-align: middle;\n",
       "    }\n",
       "\n",
       "    .dataframe tbody tr th {\n",
       "        vertical-align: top;\n",
       "    }\n",
       "\n",
       "    .dataframe thead th {\n",
       "        text-align: right;\n",
       "    }\n",
       "</style>\n",
       "<table border=\"1\" class=\"dataframe\">\n",
       "  <thead>\n",
       "    <tr style=\"text-align: right;\">\n",
       "      <th></th>\n",
       "      <th>target_valid</th>\n",
       "      <th>predictions_valid</th>\n",
       "    </tr>\n",
       "  </thead>\n",
       "  <tbody>\n",
       "    <tr>\n",
       "      <th>71751</th>\n",
       "      <td>10.038645</td>\n",
       "      <td>95.894952</td>\n",
       "    </tr>\n",
       "    <tr>\n",
       "      <th>80493</th>\n",
       "      <td>114.551489</td>\n",
       "      <td>77.572583</td>\n",
       "    </tr>\n",
       "    <tr>\n",
       "      <th>2655</th>\n",
       "      <td>132.603635</td>\n",
       "      <td>77.892640</td>\n",
       "    </tr>\n",
       "    <tr>\n",
       "      <th>53233</th>\n",
       "      <td>169.072125</td>\n",
       "      <td>90.175134</td>\n",
       "    </tr>\n",
       "    <tr>\n",
       "      <th>91141</th>\n",
       "      <td>122.325180</td>\n",
       "      <td>70.510088</td>\n",
       "    </tr>\n",
       "    <tr>\n",
       "      <th>9539</th>\n",
       "      <td>37.735331</td>\n",
       "      <td>69.127076</td>\n",
       "    </tr>\n",
       "    <tr>\n",
       "      <th>8482</th>\n",
       "      <td>139.227191</td>\n",
       "      <td>125.106759</td>\n",
       "    </tr>\n",
       "    <tr>\n",
       "      <th>30284</th>\n",
       "      <td>72.491987</td>\n",
       "      <td>87.643849</td>\n",
       "    </tr>\n",
       "    <tr>\n",
       "      <th>66393</th>\n",
       "      <td>11.465993</td>\n",
       "      <td>86.035871</td>\n",
       "    </tr>\n",
       "    <tr>\n",
       "      <th>99584</th>\n",
       "      <td>110.562031</td>\n",
       "      <td>98.655311</td>\n",
       "    </tr>\n",
       "  </tbody>\n",
       "</table>\n",
       "</div>"
      ],
      "text/plain": [
       "       target_valid  predictions_valid\n",
       "71751     10.038645          95.894952\n",
       "80493    114.551489          77.572583\n",
       "2655     132.603635          77.892640\n",
       "53233    169.072125          90.175134\n",
       "91141    122.325180          70.510088\n",
       "9539      37.735331          69.127076\n",
       "8482     139.227191         125.106759\n",
       "30284     72.491987          87.643849\n",
       "66393     11.465993          86.035871\n",
       "99584    110.562031          98.655311"
      ]
     },
     "execution_count": 29,
     "metadata": {},
     "output_type": "execute_result"
    }
   ],
   "source": [
    "valid_0 = pd.DataFrame({'target_valid': target_valid_0, 'predictions_valid': predictions_valid_0})\n",
    "valid_0.head(10)"
   ]
  },
  {
   "cell_type": "markdown",
   "metadata": {},
   "source": [
    "O REQM (Erro Quadrático Médio) do modelo de regressão linear no conjunto de validação está acima de 0. No entanto, ao compará-lo com o valor médio do nosso conjunto de validação, podemos considerar o valor do REQM aceitável, pois a média é quase três vezes maior que a diferença do REQM."
   ]
  },
  {
   "cell_type": "markdown",
   "metadata": {},
   "source": [
    "### Local_1"
   ]
  },
  {
   "cell_type": "markdown",
   "metadata": {},
   "source": [
    "#### Separando os dados para treino e teste, colocando 75% em terinamento e o resto em validdação"
   ]
  },
  {
   "cell_type": "code",
   "execution_count": 30,
   "metadata": {},
   "outputs": [],
   "source": [
    "features_train_1, features_valid_1, target_train_1, target_valid_1= train_test_split(\n",
    "    features_1,target_1 , test_size=0.25, random_state=12345)"
   ]
  },
  {
   "cell_type": "markdown",
   "metadata": {},
   "source": [
    "#### Conferindo se os dados foram separados corretamente"
   ]
  },
  {
   "cell_type": "code",
   "execution_count": 31,
   "metadata": {},
   "outputs": [
    {
     "name": "stdout",
     "output_type": "stream",
     "text": [
      "Tamanho do conjunto features_train_1: 75.0 %\n",
      "Tamanho do conjunto target_train_1: 75.0 %\n"
     ]
    }
   ],
   "source": [
    "print('Tamanho do conjunto features_train_1:',len(features_train_1)/len(features_1)*100,\"%\")\n",
    "print('Tamanho do conjunto target_train_1:', len(target_train_1)/len(target_1)*100, \"%\")"
   ]
  },
  {
   "cell_type": "markdown",
   "metadata": {},
   "source": [
    "#### Treinando o modelo de Regressão Linear Local_1"
   ]
  },
  {
   "cell_type": "code",
   "execution_count": 32,
   "metadata": {},
   "outputs": [],
   "source": [
    "model = LinearRegression()\n",
    "model.fit(features_train_1,target_train_1) \n",
    "predictions_valid_1 = model.predict(features_valid_1)"
   ]
  },
  {
   "cell_type": "markdown",
   "metadata": {},
   "source": [
    "#### Calculando o REQM do conjunto de validação Local_1"
   ]
  },
  {
   "cell_type": "code",
   "execution_count": 33,
   "metadata": {},
   "outputs": [
    {
     "name": "stdout",
     "output_type": "stream",
     "text": [
      "O REQM do modelo de regressão linear no conjunto de validação: 0.893099286775617\n"
     ]
    }
   ],
   "source": [
    "result = mean_squared_error(target_valid_1, predictions_valid_1) ** 0.5\n",
    "print(\"O REQM do modelo de regressão linear no conjunto de validação:\", result)"
   ]
  },
  {
   "cell_type": "markdown",
   "metadata": {},
   "source": [
    "#### Calculando o valor médio de reservas da predição"
   ]
  },
  {
   "cell_type": "code",
   "execution_count": 34,
   "metadata": {},
   "outputs": [
    {
     "name": "stdout",
     "output_type": "stream",
     "text": [
      "O valor médio no conjunto de validação do local_1: 68.728546895446\n"
     ]
    }
   ],
   "source": [
    "med_1 = predictions_valid_1.mean()\n",
    "print(\"O valor médio no conjunto de validação do local_1:\", med_1)"
   ]
  },
  {
   "cell_type": "markdown",
   "metadata": {},
   "source": [
    "#### Respostas corretas para o conjunto de validação"
   ]
  },
  {
   "cell_type": "code",
   "execution_count": 35,
   "metadata": {},
   "outputs": [
    {
     "data": {
      "text/html": [
       "<div>\n",
       "<style scoped>\n",
       "    .dataframe tbody tr th:only-of-type {\n",
       "        vertical-align: middle;\n",
       "    }\n",
       "\n",
       "    .dataframe tbody tr th {\n",
       "        vertical-align: top;\n",
       "    }\n",
       "\n",
       "    .dataframe thead th {\n",
       "        text-align: right;\n",
       "    }\n",
       "</style>\n",
       "<table border=\"1\" class=\"dataframe\">\n",
       "  <thead>\n",
       "    <tr style=\"text-align: right;\">\n",
       "      <th></th>\n",
       "      <th>target_valid</th>\n",
       "      <th>predictions_valid</th>\n",
       "    </tr>\n",
       "  </thead>\n",
       "  <tbody>\n",
       "    <tr>\n",
       "      <th>71751</th>\n",
       "      <td>80.859783</td>\n",
       "      <td>82.663314</td>\n",
       "    </tr>\n",
       "    <tr>\n",
       "      <th>80493</th>\n",
       "      <td>53.906522</td>\n",
       "      <td>54.431786</td>\n",
       "    </tr>\n",
       "    <tr>\n",
       "      <th>2655</th>\n",
       "      <td>30.132364</td>\n",
       "      <td>29.748760</td>\n",
       "    </tr>\n",
       "    <tr>\n",
       "      <th>53233</th>\n",
       "      <td>53.906522</td>\n",
       "      <td>53.552133</td>\n",
       "    </tr>\n",
       "    <tr>\n",
       "      <th>91141</th>\n",
       "      <td>0.000000</td>\n",
       "      <td>1.243856</td>\n",
       "    </tr>\n",
       "    <tr>\n",
       "      <th>9539</th>\n",
       "      <td>110.992147</td>\n",
       "      <td>111.438490</td>\n",
       "    </tr>\n",
       "    <tr>\n",
       "      <th>8482</th>\n",
       "      <td>137.945408</td>\n",
       "      <td>137.134374</td>\n",
       "    </tr>\n",
       "    <tr>\n",
       "      <th>30284</th>\n",
       "      <td>84.038886</td>\n",
       "      <td>82.888902</td>\n",
       "    </tr>\n",
       "    <tr>\n",
       "      <th>66393</th>\n",
       "      <td>110.992147</td>\n",
       "      <td>110.897311</td>\n",
       "    </tr>\n",
       "    <tr>\n",
       "      <th>99584</th>\n",
       "      <td>26.953261</td>\n",
       "      <td>29.219306</td>\n",
       "    </tr>\n",
       "  </tbody>\n",
       "</table>\n",
       "</div>"
      ],
      "text/plain": [
       "       target_valid  predictions_valid\n",
       "71751     80.859783          82.663314\n",
       "80493     53.906522          54.431786\n",
       "2655      30.132364          29.748760\n",
       "53233     53.906522          53.552133\n",
       "91141      0.000000           1.243856\n",
       "9539     110.992147         111.438490\n",
       "8482     137.945408         137.134374\n",
       "30284     84.038886          82.888902\n",
       "66393    110.992147         110.897311\n",
       "99584     26.953261          29.219306"
      ]
     },
     "execution_count": 35,
     "metadata": {},
     "output_type": "execute_result"
    }
   ],
   "source": [
    "valid_1 = pd.DataFrame({'target_valid': target_valid_1, 'predictions_valid': predictions_valid_1})\n",
    "valid_1.head(10)"
   ]
  },
  {
   "cell_type": "markdown",
   "metadata": {},
   "source": [
    "O REQM do modelo de regressão linear do conjunto de validação está bem próximo de 0, ou seja, quase não existe variação entre o conjunto de validação e o de teste. Podemos dizer que os valores são mais confiáveis que as demais regiões."
   ]
  },
  {
   "cell_type": "markdown",
   "metadata": {},
   "source": [
    "### Local_2"
   ]
  },
  {
   "cell_type": "markdown",
   "metadata": {},
   "source": [
    "#### Separando os dados para treino e teste, colocando 75% em terinamento e o resto em validdação"
   ]
  },
  {
   "cell_type": "code",
   "execution_count": 36,
   "metadata": {},
   "outputs": [],
   "source": [
    "features_train_2, features_valid_2, target_train_2, target_valid_2= train_test_split(\n",
    "    features_2,target_2 , test_size=0.25, random_state=12345)"
   ]
  },
  {
   "cell_type": "markdown",
   "metadata": {},
   "source": [
    "#### Conferindo se os dados foram separados corretamente"
   ]
  },
  {
   "cell_type": "code",
   "execution_count": 37,
   "metadata": {},
   "outputs": [
    {
     "name": "stdout",
     "output_type": "stream",
     "text": [
      "Tamanho do conjunto features_train_2: 75.0 %\n",
      "Tamanho do conjunto target_train_2: 75.0 %\n"
     ]
    }
   ],
   "source": [
    "print('Tamanho do conjunto features_train_2:',len(features_train_2)/len(features_2)*100,\"%\")\n",
    "print('Tamanho do conjunto target_train_2:', len(target_train_2)/len(target_2)*100,\"%\")"
   ]
  },
  {
   "cell_type": "markdown",
   "metadata": {},
   "source": [
    "#### Treinando o modelo de Regressão Linear"
   ]
  },
  {
   "cell_type": "code",
   "execution_count": 38,
   "metadata": {},
   "outputs": [],
   "source": [
    "model = LinearRegression()\n",
    "model.fit(features_train_2,target_train_2) \n",
    "predictions_valid_2 = model.predict(features_valid_2)"
   ]
  },
  {
   "cell_type": "markdown",
   "metadata": {},
   "source": [
    "####  Calculando o REQM do conjunto de validação"
   ]
  },
  {
   "cell_type": "code",
   "execution_count": 39,
   "metadata": {},
   "outputs": [
    {
     "name": "stdout",
     "output_type": "stream",
     "text": [
      "O REQM do modelo de regressão linear no conjunto de validação: 40.02970873393434\n"
     ]
    }
   ],
   "source": [
    "result = mean_squared_error(target_valid_2, predictions_valid_2) ** 0.5\n",
    "print(\"O REQM do modelo de regressão linear no conjunto de validação:\", result)\n"
   ]
  },
  {
   "cell_type": "markdown",
   "metadata": {},
   "source": [
    "####  Calculando o valor médio de reservas da predição"
   ]
  },
  {
   "cell_type": "code",
   "execution_count": 40,
   "metadata": {},
   "outputs": [
    {
     "name": "stdout",
     "output_type": "stream",
     "text": [
      "O valor médio no conjunto de validação do local_2: 94.96504596800489\n"
     ]
    }
   ],
   "source": [
    "med_2 = predictions_valid_2.mean()\n",
    "print(\"O valor médio no conjunto de validação do local_2:\", med_2)"
   ]
  },
  {
   "cell_type": "markdown",
   "metadata": {},
   "source": [
    "####  Salvando as predições e respostas corretas para o conjunto de validação"
   ]
  },
  {
   "cell_type": "code",
   "execution_count": 41,
   "metadata": {},
   "outputs": [
    {
     "data": {
      "text/html": [
       "<div>\n",
       "<style scoped>\n",
       "    .dataframe tbody tr th:only-of-type {\n",
       "        vertical-align: middle;\n",
       "    }\n",
       "\n",
       "    .dataframe tbody tr th {\n",
       "        vertical-align: top;\n",
       "    }\n",
       "\n",
       "    .dataframe thead th {\n",
       "        text-align: right;\n",
       "    }\n",
       "</style>\n",
       "<table border=\"1\" class=\"dataframe\">\n",
       "  <thead>\n",
       "    <tr style=\"text-align: right;\">\n",
       "      <th></th>\n",
       "      <th>target_valid</th>\n",
       "      <th>predictions_valid</th>\n",
       "    </tr>\n",
       "  </thead>\n",
       "  <tbody>\n",
       "    <tr>\n",
       "      <th>71751</th>\n",
       "      <td>61.212375</td>\n",
       "      <td>93.599633</td>\n",
       "    </tr>\n",
       "    <tr>\n",
       "      <th>80493</th>\n",
       "      <td>41.850118</td>\n",
       "      <td>75.105159</td>\n",
       "    </tr>\n",
       "    <tr>\n",
       "      <th>2655</th>\n",
       "      <td>57.776581</td>\n",
       "      <td>90.066809</td>\n",
       "    </tr>\n",
       "    <tr>\n",
       "      <th>53233</th>\n",
       "      <td>100.053761</td>\n",
       "      <td>105.162375</td>\n",
       "    </tr>\n",
       "    <tr>\n",
       "      <th>91141</th>\n",
       "      <td>109.897122</td>\n",
       "      <td>115.303310</td>\n",
       "    </tr>\n",
       "    <tr>\n",
       "      <th>9539</th>\n",
       "      <td>105.904629</td>\n",
       "      <td>121.939197</td>\n",
       "    </tr>\n",
       "    <tr>\n",
       "      <th>8482</th>\n",
       "      <td>51.646180</td>\n",
       "      <td>119.053040</td>\n",
       "    </tr>\n",
       "    <tr>\n",
       "      <th>30284</th>\n",
       "      <td>173.162121</td>\n",
       "      <td>75.396575</td>\n",
       "    </tr>\n",
       "    <tr>\n",
       "      <th>66393</th>\n",
       "      <td>113.143072</td>\n",
       "      <td>111.400543</td>\n",
       "    </tr>\n",
       "    <tr>\n",
       "      <th>99584</th>\n",
       "      <td>56.803215</td>\n",
       "      <td>84.029320</td>\n",
       "    </tr>\n",
       "  </tbody>\n",
       "</table>\n",
       "</div>"
      ],
      "text/plain": [
       "       target_valid  predictions_valid\n",
       "71751     61.212375          93.599633\n",
       "80493     41.850118          75.105159\n",
       "2655      57.776581          90.066809\n",
       "53233    100.053761         105.162375\n",
       "91141    109.897122         115.303310\n",
       "9539     105.904629         121.939197\n",
       "8482      51.646180         119.053040\n",
       "30284    173.162121          75.396575\n",
       "66393    113.143072         111.400543\n",
       "99584     56.803215          84.029320"
      ]
     },
     "execution_count": 41,
     "metadata": {},
     "output_type": "execute_result"
    }
   ],
   "source": [
    "valid_2 = pd.DataFrame({'target_valid': target_valid_2, 'predictions_valid': predictions_valid_2})\n",
    "valid_2.head(10)"
   ]
  },
  {
   "cell_type": "markdown",
   "metadata": {},
   "source": [
    "É possível perceber que o REQM do modelo de regressão linear do conjunto de validação está bem acima de 0, mas ao comparar com o valor médio do nosso conjunto de validação, percebemos que o valor médio está mais que o dobro de diferença do REQM, não considero essa diferença média entre o modelo e o teste aceitável pois pode interfeir na previsão de forma mais acentuada."
   ]
  },
  {
   "cell_type": "markdown",
   "metadata": {},
   "source": [
    "## Cálculo do Lucro"
   ]
  },
  {
   "cell_type": "markdown",
   "metadata": {},
   "source": [
    "###  Custo para desenvolvimento de 200 poços"
   ]
  },
  {
   "cell_type": "code",
   "execution_count": 212,
   "metadata": {},
   "outputs": [
    {
     "data": {
      "text/plain": [
       "500000.0"
      ]
     },
     "execution_count": 212,
     "metadata": {},
     "output_type": "execute_result"
    }
   ],
   "source": [
    "custo_200 = 100000000\n",
    "custo_1 = custo_200/200\n",
    "custo_1"
   ]
  },
  {
   "cell_type": "markdown",
   "metadata": {},
   "source": [
    "### Receita por unidade de produto (sendo que cada unidade de produto = 1.000 barris com lucro de 4,5 dólares por bar"
   ]
  },
  {
   "cell_type": "code",
   "execution_count": 43,
   "metadata": {},
   "outputs": [],
   "source": [
    "receita = 4500"
   ]
  },
  {
   "cell_type": "markdown",
   "metadata": {},
   "source": [
    "### cálculo para desenvolver um novo poço com lucro, QUAL VALOR DE PRODUTO QUE A RESERVA DEVE APRESENTAR?"
   ]
  },
  {
   "cell_type": "code",
   "execution_count": 44,
   "metadata": {},
   "outputs": [
    {
     "name": "stdout",
     "output_type": "stream",
     "text": [
      "\n",
      "Arredondando valor sera necessario 112 poços\n"
     ]
    }
   ],
   "source": [
    "reserva = custo_1/receita\n",
    "reserva=math.ceil(reserva)\n",
    "print()\n",
    "print(\"Arredondando valor sera necessario\" , reserva, \"poços\")"
   ]
  },
  {
   "cell_type": "markdown",
   "metadata": {},
   "source": [
    "### O poço precisa ter mais de 112 unidades de produto em reserva para possuir lucro."
   ]
  },
  {
   "cell_type": "code",
   "execution_count": 50,
   "metadata": {},
   "outputs": [
    {
     "name": "stdout",
     "output_type": "stream",
     "text": [
      "O valor médio das reservas de petróleo do local_0: 92.50000000000001\n",
      "O valor médio das reservas de petróleo do local_1: 68.82500000000002\n",
      "O valor médio das reservas de petróleo do local_2: 95.00000000000004\n"
     ]
    }
   ],
   "source": [
    "print('O valor médio das reservas de petróleo do local_0:', df_0['product'].mean())\n",
    "print('O valor médio das reservas de petróleo do local_1:', df_1['product'].mean())\n",
    "print('O valor médio das reservas de petróleo do local_2:', df_2['product'].mean())"
   ]
  },
  {
   "cell_type": "markdown",
   "metadata": {},
   "source": [
    "## Cálculo de eficiencia dos poços"
   ]
  },
  {
   "cell_type": "code",
   "execution_count": 292,
   "metadata": {},
   "outputs": [],
   "source": [
    "total_investment = 100_000_000\n",
    "value_per_well = 500_000\n",
    "investment_per_well = total_investment // value_per_well \n",
    "value_per_unit  = 4500\n"
   ]
  },
  {
   "cell_type": "markdown",
   "metadata": {},
   "source": [
    "### Calcular o lucro a partir de uma amostra de previsões e valores reais\n"
   ]
  },
  {
   "cell_type": "code",
   "execution_count": 304,
   "metadata": {},
   "outputs": [],
   "source": [
    "\n",
    "def profit_calculate(y_real, y_pred):\n",
    "    # Ordena as previsões e seleciona os pontos correspondentes dos valores reais\n",
    "\n",
    "    selected_well = y_real.loc[y_pred.sort_values(ascending=False).index][:investment_per_well]\n",
    "    revenue =  selected_well.sum() * value_per_unit\n",
    "    profit = revenue - total_investment\n",
    "    return profit"
   ]
  },
  {
   "cell_type": "code",
   "execution_count": 294,
   "metadata": {},
   "outputs": [],
   "source": [
    "prediction_0 = pd.DataFrame({'y_valid_real': target_valid_0, 'y_valid_pred': predictions_valid_0})\n",
    "prediction_1 = pd.DataFrame({'y_valid_real': target_valid_1, 'y_valid_pred': predictions_valid_1})\n",
    "prediction_2 = pd.DataFrame({'y_valid_real': target_valid_2, 'y_valid_pred': predictions_valid_2})"
   ]
  },
  {
   "cell_type": "code",
   "execution_count": 296,
   "metadata": {},
   "outputs": [
    {
     "name": "stdout",
     "output_type": "stream",
     "text": [
      "Região 0: 33208260.43139851\n",
      "Região 1: 24150866.966815114\n",
      "Região 2: 27103499.635998324\n"
     ]
    }
   ],
   "source": [
    "print('Região 0:', profit_calculate(prediction_0['y_valid_real'], prediction_0['y_valid_pred']))\n",
    "print('Região 1:', profit_calculate(prediction_1['y_valid_real'], prediction_1['y_valid_pred']))\n",
    "print('Região 2:', profit_calculate(prediction_2['y_valid_real'], prediction_2['y_valid_pred']))"
   ]
  },
  {
   "cell_type": "markdown",
   "metadata": {},
   "source": [
    "Para o cálculo do lucro de cada região, peguei os 200 maiores valores da reserva que foi predito pelo modelo e apliquei a fórmula do lucro, onde é o quantidade de reserva multiplicada pela receita (4500) menos o custo de apenas 1 posto de petróleo (se para 200 postos o custo é de 100 milhões, o custo para apenas 1 é de 500 mil) e o resultado é um DF com o valor do lucro de cada posto"
   ]
  },
  {
   "cell_type": "markdown",
   "metadata": {},
   "source": [
    "## Bootstrapping"
   ]
  },
  {
   "cell_type": "markdown",
   "metadata": {},
   "source": [
    "###  Calcular o lucro por região"
   ]
  },
  {
   "cell_type": "code",
   "execution_count": 297,
   "metadata": {},
   "outputs": [],
   "source": [
    "prediction_0 = pd.DataFrame({'y_valid_real': target_valid_0, 'y_valid_pred': predictions_valid_0})\n",
    "top_200_well_0 = prediction_0.nlargest(200, 'y_valid_pred')\n"
   ]
  },
  {
   "cell_type": "code",
   "execution_count": 298,
   "metadata": {},
   "outputs": [],
   "source": [
    "prediction_1 = pd.DataFrame({'y_valid_real': target_valid_1, 'y_valid_pred': predictions_valid_1})\n",
    "top_200_well_1 = prediction_1.nlargest(200, 'y_valid_pred')\n"
   ]
  },
  {
   "cell_type": "code",
   "execution_count": 305,
   "metadata": {},
   "outputs": [],
   "source": [
    "prediction_2 = pd.DataFrame({'y_valid_real': target_valid_2, 'y_valid_pred': predictions_valid_2})\n",
    "top_200_well_2 = prediction_2.nlargest(200, 'y_valid_pred')"
   ]
  },
  {
   "cell_type": "markdown",
   "metadata": {},
   "source": [
    "### Informações basicas"
   ]
  },
  {
   "cell_type": "code",
   "execution_count": 307,
   "metadata": {},
   "outputs": [],
   "source": [
    "total_investment = 100_000_000\n",
    "value_per_well = 500_000\n",
    "investment_per_well = total_investment // value_per_well \n",
    "value_per_unit  = 4500"
   ]
  },
  {
   "cell_type": "markdown",
   "metadata": {},
   "source": [
    "### Parametros Bootstrapping"
   ]
  },
  {
   "cell_type": "code",
   "execution_count": 310,
   "metadata": {},
   "outputs": [
    {
     "name": "stdout",
     "output_type": "stream",
     "text": [
      "Region geo_data 0\n",
      "Average profit: 4036575.54\n",
      "Confidence interval 95%: (-910343.0446826189, 9111575.707463238)\n",
      "Negative profit probability: 6.60%\n"
     ]
    },
    {
     "data": {
      "image/png": "[encoded data removed]",
      "text/plain": [
       "<Figure size 640x480 with 1 Axes>"
      ]
     },
     "metadata": {},
     "output_type": "display_data"
    },
    {
     "name": "stdout",
     "output_type": "stream",
     "text": [
      "Region geo_data 1\n",
      "Average profit: 5098464.06\n",
      "Confidence interval 95%: (949893.8031423447, 9595950.510200808)\n",
      "Negative profit probability: 0.80%\n"
     ]
    },
    {
     "data": {
      "image/png": "[encoded data removed]",
      "text/plain": [
       "<Figure size 640x480 with 1 Axes>"
      ]
     },
     "metadata": {},
     "output_type": "display_data"
    },
    {
     "name": "stdout",
     "output_type": "stream",
     "text": [
      "Region geo_data 2\n",
      "Average profit: 4164221.04\n",
      "Confidence interval 95%: (-1142146.6281561896, 9518605.203559376)\n",
      "Negative profit probability: 6.70%\n"
     ]
    },
    {
     "data": {
      "image/png": "[encoded data removed]",
      "text/plain": [
       "<Figure size 640x480 with 1 Axes>"
      ]
     },
     "metadata": {},
     "output_type": "display_data"
    }
   ],
   "source": [
    "\n",
    "sample_size = 500\n",
    "bootstrapping_size = 1000\n",
    "\n",
    "# Loop pelas regiões para calcular os lucros e intervalos de confiança.\n",
    "for idx, prediction in enumerate([prediction_0, prediction_1, prediction_2]):\n",
    "    print(f'Region geo_data {idx}')\n",
    "    profits = [\n",
    "        profit_calculate(\n",
    "            sample['y_valid_real'], \n",
    "            sample['y_valid_pred']\n",
    "        ) \n",
    "        for sample in [prediction.sample(n=sample_size, replace=True) for _ in range(bootstrapping_size)]\n",
    "    ]\n",
    "\n",
    "    profit_aver = np.mean(profits)\n",
    "    inter_conf_profit = (np.quantile(profits, q=0.025), np.quantile(profits, q=0.975))\n",
    "    prob_negative_profit = (np.array(profits) < 0).mean()\n",
    "\n",
    "    # resultados\n",
    "    print(f'Average profit: {profit_aver:.2f}')\n",
    "    print(f'Confidence interval 95%: {inter_conf_profit}')\n",
    "    print(f'Negative profit probability: {prob_negative_profit:.2%}')\n",
    "    '/n'\n",
    "\n",
    "    # grafico de distribuição de lucro\n",
    "    sns.histplot(profits)\n",
    "    plt.xlabel('Profit')\n",
    "    plt.title(f'Profit Distribution for Region geo_data {idx}')\n",
    "    plt.show()\n"
   ]
  },
  {
   "cell_type": "markdown",
   "metadata": {},
   "source": [
    "## Conlusão"
   ]
  },
  {
   "cell_type": "markdown",
   "metadata": {},
   "source": [
    "Ao analisar todos os locais e postos selecionados e considerando a qualidade do modelo de regressão que desenvolvemos, acredito que a melhor região é a segunda. Embora apresente o menor lucro, o modelo é mais preciso do que os demais e considero que essa região tem a menor chance de risco"
   ]
  }
 ],
 "metadata": {
  "ExecuteTimeLog": [
   {
    "duration": 159,
    "start_time": "2024-10-22T00:39:49.134Z"
   },
   {
    "duration": 277,
    "start_time": "2024-10-22T00:40:11.499Z"
   },
   {
    "duration": 295,
    "start_time": "2024-10-22T00:40:13.773Z"
   },
   {
    "duration": 1844,
    "start_time": "2024-10-22T00:40:35.614Z"
   },
   {
    "duration": 2164,
    "start_time": "2024-10-22T15:40:20.279Z"
   },
   {
    "duration": 121,
    "start_time": "2024-10-22T15:42:39.135Z"
   },
   {
    "duration": 2,
    "start_time": "2024-10-22T15:43:01.262Z"
   },
   {
    "duration": 2,
    "start_time": "2024-10-22T15:43:47.421Z"
   },
   {
    "duration": 77,
    "start_time": "2024-10-22T15:43:50.170Z"
   },
   {
    "duration": 111,
    "start_time": "2024-10-22T15:43:51.659Z"
   },
   {
    "duration": 117,
    "start_time": "2024-10-22T15:43:56.066Z"
   },
   {
    "duration": 2,
    "start_time": "2024-10-22T16:14:04.183Z"
   },
   {
    "duration": 458,
    "start_time": "2024-10-22T16:14:24.776Z"
   },
   {
    "duration": 272,
    "start_time": "2024-10-22T16:15:09.950Z"
   },
   {
    "duration": 9,
    "start_time": "2024-10-22T16:15:55.878Z"
   },
   {
    "duration": 8,
    "start_time": "2024-10-22T16:53:13.561Z"
   },
   {
    "duration": 3,
    "start_time": "2024-10-22T16:56:25.708Z"
   },
   {
    "duration": 12,
    "start_time": "2024-10-22T16:57:15.513Z"
   },
   {
    "duration": 11,
    "start_time": "2024-10-22T17:05:51.662Z"
   },
   {
    "duration": 84,
    "start_time": "2024-10-22T17:05:57.682Z"
   },
   {
    "duration": 11,
    "start_time": "2024-10-22T17:06:38.623Z"
   },
   {
    "duration": 11,
    "start_time": "2024-10-22T17:07:24.704Z"
   },
   {
    "duration": 3,
    "start_time": "2024-10-22T17:10:32.049Z"
   },
   {
    "duration": 2,
    "start_time": "2024-10-22T17:11:45.421Z"
   },
   {
    "duration": 9,
    "start_time": "2024-10-22T17:12:06.685Z"
   },
   {
    "duration": 10,
    "start_time": "2024-10-22T17:12:18.388Z"
   },
   {
    "duration": 2,
    "start_time": "2024-10-22T17:12:25.342Z"
   },
   {
    "duration": 3,
    "start_time": "2024-10-22T17:12:37.896Z"
   },
   {
    "duration": 3,
    "start_time": "2024-10-22T17:12:52.322Z"
   },
   {
    "duration": 2,
    "start_time": "2024-10-22T17:13:00.786Z"
   },
   {
    "duration": 9,
    "start_time": "2024-10-22T17:13:17.383Z"
   },
   {
    "duration": 2,
    "start_time": "2024-10-22T17:13:32.099Z"
   },
   {
    "duration": 4,
    "start_time": "2024-10-22T17:13:40.174Z"
   },
   {
    "duration": 5,
    "start_time": "2024-10-22T17:13:48.176Z"
   },
   {
    "duration": 3,
    "start_time": "2024-10-22T17:14:10.101Z"
   },
   {
    "duration": 4,
    "start_time": "2024-10-22T17:14:26.047Z"
   },
   {
    "duration": 2,
    "start_time": "2024-10-22T17:14:34.798Z"
   },
   {
    "duration": 8,
    "start_time": "2024-10-22T17:14:46.719Z"
   },
   {
    "duration": 7,
    "start_time": "2024-10-22T17:38:41.729Z"
   },
   {
    "duration": 3,
    "start_time": "2024-10-22T17:40:25.451Z"
   },
   {
    "duration": 3,
    "start_time": "2024-10-22T17:46:51.877Z"
   },
   {
    "duration": 3,
    "start_time": "2024-10-22T17:47:35.751Z"
   },
   {
    "duration": 12,
    "start_time": "2024-10-22T17:48:03.574Z"
   },
   {
    "duration": 3,
    "start_time": "2024-10-22T17:48:21.644Z"
   },
   {
    "duration": 2,
    "start_time": "2024-10-22T17:48:22.909Z"
   },
   {
    "duration": 7,
    "start_time": "2024-10-22T17:48:24.184Z"
   },
   {
    "duration": 4,
    "start_time": "2024-10-22T17:51:47.386Z"
   },
   {
    "duration": 6,
    "start_time": "2024-10-22T17:53:56.467Z"
   },
   {
    "duration": 2,
    "start_time": "2024-10-22T17:54:02.024Z"
   },
   {
    "duration": 16,
    "start_time": "2024-10-22T17:54:49.912Z"
   },
   {
    "duration": 14,
    "start_time": "2024-10-22T17:55:15.239Z"
   },
   {
    "duration": 14,
    "start_time": "2024-10-22T17:55:31.931Z"
   },
   {
    "duration": 3,
    "start_time": "2024-10-22T17:55:56.000Z"
   },
   {
    "duration": 3,
    "start_time": "2024-10-22T17:56:02.584Z"
   },
   {
    "duration": 13,
    "start_time": "2024-10-22T17:57:09.610Z"
   },
   {
    "duration": 17,
    "start_time": "2024-10-22T17:57:20.396Z"
   },
   {
    "duration": 4,
    "start_time": "2024-10-22T17:57:41.498Z"
   },
   {
    "duration": 3,
    "start_time": "2024-10-22T17:57:52.280Z"
   },
   {
    "duration": 6,
    "start_time": "2024-10-22T17:58:04.905Z"
   },
   {
    "duration": 3,
    "start_time": "2024-10-22T17:58:29.944Z"
   },
   {
    "duration": 3,
    "start_time": "2024-10-22T17:59:02.370Z"
   },
   {
    "duration": 6,
    "start_time": "2024-10-22T17:59:09.114Z"
   },
   {
    "duration": 2,
    "start_time": "2024-10-22T17:59:52.927Z"
   },
   {
    "duration": 431,
    "start_time": "2024-10-22T18:00:11.683Z"
   },
   {
    "duration": 3,
    "start_time": "2024-10-22T18:02:28.084Z"
   },
   {
    "duration": 2,
    "start_time": "2024-10-22T18:02:55.237Z"
   },
   {
    "duration": 46,
    "start_time": "2024-10-22T18:03:25.917Z"
   },
   {
    "duration": 42,
    "start_time": "2024-10-22T18:03:54.439Z"
   },
   {
    "duration": 2,
    "start_time": "2024-10-22T18:04:40.049Z"
   },
   {
    "duration": 18,
    "start_time": "2024-10-22T18:04:50.210Z"
   },
   {
    "duration": 2,
    "start_time": "2024-10-22T18:05:01.565Z"
   },
   {
    "duration": 2,
    "start_time": "2024-10-22T18:05:05.256Z"
   },
   {
    "duration": 2,
    "start_time": "2024-10-22T18:05:12.027Z"
   },
   {
    "duration": 2,
    "start_time": "2024-10-22T18:05:14.367Z"
   },
   {
    "duration": 19,
    "start_time": "2024-10-22T18:05:31.670Z"
   },
   {
    "duration": 23,
    "start_time": "2024-10-22T18:05:33.797Z"
   },
   {
    "duration": 3,
    "start_time": "2024-10-22T18:06:57.091Z"
   },
   {
    "duration": 11,
    "start_time": "2024-10-22T18:08:24.726Z"
   },
   {
    "duration": 11,
    "start_time": "2024-10-22T18:56:04.362Z"
   },
   {
    "duration": 3,
    "start_time": "2024-10-22T19:00:44.067Z"
   },
   {
    "duration": 4,
    "start_time": "2024-10-22T19:01:02.694Z"
   },
   {
    "duration": 2,
    "start_time": "2024-10-22T19:01:29.540Z"
   },
   {
    "duration": 3,
    "start_time": "2024-10-22T19:02:45.373Z"
   },
   {
    "duration": 8,
    "start_time": "2024-10-22T19:03:05.991Z"
   },
   {
    "duration": 11,
    "start_time": "2024-10-22T19:03:07.783Z"
   },
   {
    "duration": 3,
    "start_time": "2024-10-22T19:03:40.501Z"
   },
   {
    "duration": 3,
    "start_time": "2024-10-22T19:18:42.715Z"
   },
   {
    "duration": 2,
    "start_time": "2024-10-22T19:19:41.867Z"
   },
   {
    "duration": 8,
    "start_time": "2024-10-22T19:20:42.507Z"
   },
   {
    "duration": 9,
    "start_time": "2024-10-22T19:20:44.539Z"
   },
   {
    "duration": 8,
    "start_time": "2024-10-22T19:20:45.623Z"
   },
   {
    "duration": 2,
    "start_time": "2024-10-22T19:21:10.698Z"
   },
   {
    "duration": 3,
    "start_time": "2024-10-22T19:21:24.696Z"
   },
   {
    "duration": 3,
    "start_time": "2024-10-22T19:22:00.952Z"
   },
   {
    "duration": 7,
    "start_time": "2024-10-22T19:22:58.108Z"
   },
   {
    "duration": 7,
    "start_time": "2024-10-22T19:23:16.204Z"
   },
   {
    "duration": 4,
    "start_time": "2024-10-22T19:23:26.935Z"
   },
   {
    "duration": 12,
    "start_time": "2024-10-22T19:24:06.796Z"
   },
   {
    "duration": 9,
    "start_time": "2024-10-22T19:24:52.937Z"
   },
   {
    "duration": 3,
    "start_time": "2024-10-22T19:25:16.250Z"
   },
   {
    "duration": 3,
    "start_time": "2024-10-22T19:25:35.978Z"
   },
   {
    "duration": 16,
    "start_time": "2024-10-22T19:26:00.567Z"
   },
   {
    "duration": 4,
    "start_time": "2024-10-22T19:26:27.544Z"
   },
   {
    "duration": 5,
    "start_time": "2024-10-22T19:26:58.273Z"
   },
   {
    "duration": 2,
    "start_time": "2024-10-22T19:27:14.185Z"
   },
   {
    "duration": 7,
    "start_time": "2024-10-22T19:27:43.418Z"
   },
   {
    "duration": 2,
    "start_time": "2024-10-22T19:29:01.732Z"
   },
   {
    "duration": 3,
    "start_time": "2024-10-22T19:29:11.675Z"
   },
   {
    "duration": 3,
    "start_time": "2024-10-22T19:29:29.910Z"
   },
   {
    "duration": 3,
    "start_time": "2024-10-22T19:29:49.884Z"
   },
   {
    "duration": 4,
    "start_time": "2024-10-22T19:29:58.604Z"
   },
   {
    "duration": 3,
    "start_time": "2024-10-22T19:30:04.986Z"
   },
   {
    "duration": 3,
    "start_time": "2024-10-22T19:30:21.089Z"
   },
   {
    "duration": 3,
    "start_time": "2024-10-22T19:30:42.819Z"
   },
   {
    "duration": 3,
    "start_time": "2024-10-22T19:30:54.476Z"
   },
   {
    "duration": 15,
    "start_time": "2024-10-22T19:31:43.006Z"
   },
   {
    "duration": 2,
    "start_time": "2024-10-22T19:32:43.272Z"
   },
   {
    "duration": 50,
    "start_time": "2024-10-22T19:33:01.770Z"
   },
   {
    "duration": 3,
    "start_time": "2024-10-22T19:34:07.677Z"
   },
   {
    "duration": 4,
    "start_time": "2024-10-22T19:34:29.800Z"
   },
   {
    "duration": 3,
    "start_time": "2024-10-22T19:34:42.571Z"
   },
   {
    "duration": 3,
    "start_time": "2024-10-22T19:34:43.432Z"
   },
   {
    "duration": 16,
    "start_time": "2024-10-22T19:34:43.995Z"
   },
   {
    "duration": 14,
    "start_time": "2024-10-22T19:34:44.290Z"
   },
   {
    "duration": 2,
    "start_time": "2024-10-22T19:35:18.209Z"
   },
   {
    "duration": 53,
    "start_time": "2024-10-22T19:35:40.910Z"
   },
   {
    "duration": 15,
    "start_time": "2024-10-22T19:35:48.508Z"
   },
   {
    "duration": 243,
    "start_time": "2024-10-22T19:36:09.979Z"
   },
   {
    "duration": 4,
    "start_time": "2024-10-22T19:36:12.434Z"
   },
   {
    "duration": 268,
    "start_time": "2024-10-22T19:36:16.555Z"
   },
   {
    "duration": 223,
    "start_time": "2024-10-22T19:36:21.300Z"
   },
   {
    "duration": 5,
    "start_time": "2024-10-22T19:36:35.889Z"
   },
   {
    "duration": 252,
    "start_time": "2024-10-22T19:36:55.087Z"
   },
   {
    "duration": 3,
    "start_time": "2024-10-22T19:37:38.312Z"
   },
   {
    "duration": 85,
    "start_time": "2024-10-22T19:37:38.317Z"
   },
   {
    "duration": 10,
    "start_time": "2024-10-22T19:37:38.404Z"
   },
   {
    "duration": 85,
    "start_time": "2024-10-22T19:37:38.416Z"
   },
   {
    "duration": 11,
    "start_time": "2024-10-22T19:37:38.504Z"
   },
   {
    "duration": 92,
    "start_time": "2024-10-22T19:37:38.517Z"
   },
   {
    "duration": 24,
    "start_time": "2024-10-22T19:37:38.610Z"
   },
   {
    "duration": 6,
    "start_time": "2024-10-22T19:37:38.635Z"
   },
   {
    "duration": 8,
    "start_time": "2024-10-22T19:37:38.643Z"
   },
   {
    "duration": 3,
    "start_time": "2024-10-22T19:37:38.653Z"
   },
   {
    "duration": 8,
    "start_time": "2024-10-22T19:37:38.657Z"
   },
   {
    "duration": 4,
    "start_time": "2024-10-22T19:37:38.667Z"
   },
   {
    "duration": 3,
    "start_time": "2024-10-22T19:37:38.730Z"
   },
   {
    "duration": 10,
    "start_time": "2024-10-22T19:37:38.740Z"
   },
   {
    "duration": 84,
    "start_time": "2024-10-22T19:37:38.752Z"
   },
   {
    "duration": 3,
    "start_time": "2024-10-22T19:37:38.838Z"
   },
   {
    "duration": 13,
    "start_time": "2024-10-22T19:37:38.843Z"
   },
   {
    "duration": 4,
    "start_time": "2024-10-22T19:37:38.857Z"
   },
   {
    "duration": 3,
    "start_time": "2024-10-22T19:37:38.862Z"
   },
   {
    "duration": 10,
    "start_time": "2024-10-22T19:37:38.931Z"
   },
   {
    "duration": 12,
    "start_time": "2024-10-22T19:37:38.943Z"
   },
   {
    "duration": 76,
    "start_time": "2024-10-22T19:37:38.957Z"
   },
   {
    "duration": 11,
    "start_time": "2024-10-22T19:37:39.035Z"
   },
   {
    "duration": 6,
    "start_time": "2024-10-22T19:37:39.047Z"
   },
   {
    "duration": 3,
    "start_time": "2024-10-22T19:37:39.054Z"
   },
   {
    "duration": 74,
    "start_time": "2024-10-22T19:37:39.058Z"
   },
   {
    "duration": 2,
    "start_time": "2024-10-22T19:37:39.134Z"
   },
   {
    "duration": 2,
    "start_time": "2024-10-22T19:37:39.138Z"
   },
   {
    "duration": 3,
    "start_time": "2024-10-22T19:37:39.142Z"
   },
   {
    "duration": 3,
    "start_time": "2024-10-22T19:37:39.147Z"
   },
   {
    "duration": 123,
    "start_time": "2024-10-22T19:37:39.152Z"
   },
   {
    "duration": 0,
    "start_time": "2024-10-22T19:37:39.277Z"
   },
   {
    "duration": 0,
    "start_time": "2024-10-22T19:37:39.278Z"
   },
   {
    "duration": 0,
    "start_time": "2024-10-22T19:37:39.279Z"
   },
   {
    "duration": 0,
    "start_time": "2024-10-22T19:37:39.281Z"
   },
   {
    "duration": 0,
    "start_time": "2024-10-22T19:37:39.282Z"
   },
   {
    "duration": 0,
    "start_time": "2024-10-22T19:37:39.284Z"
   },
   {
    "duration": 15,
    "start_time": "2024-10-22T19:38:02.264Z"
   },
   {
    "duration": 56,
    "start_time": "2024-10-22T19:38:05.154Z"
   },
   {
    "duration": 58,
    "start_time": "2024-10-22T19:38:05.667Z"
   },
   {
    "duration": 3,
    "start_time": "2024-10-22T19:40:04.155Z"
   },
   {
    "duration": 78,
    "start_time": "2024-10-22T19:40:25.094Z"
   },
   {
    "duration": 76,
    "start_time": "2024-10-22T19:40:31.284Z"
   },
   {
    "duration": 10,
    "start_time": "2024-10-22T19:40:33.275Z"
   },
   {
    "duration": 79,
    "start_time": "2024-10-22T19:40:35.405Z"
   },
   {
    "duration": 92,
    "start_time": "2024-10-22T19:40:47.802Z"
   },
   {
    "duration": 80,
    "start_time": "2024-10-22T19:40:49.894Z"
   },
   {
    "duration": 77,
    "start_time": "2024-10-22T19:40:51.461Z"
   },
   {
    "duration": 79,
    "start_time": "2024-10-22T19:40:55.224Z"
   },
   {
    "duration": 81,
    "start_time": "2024-10-22T19:40:57.910Z"
   },
   {
    "duration": 76,
    "start_time": "2024-10-22T19:41:01.069Z"
   },
   {
    "duration": 11,
    "start_time": "2024-10-22T19:41:04.490Z"
   },
   {
    "duration": 79,
    "start_time": "2024-10-22T19:41:17.124Z"
   },
   {
    "duration": 77,
    "start_time": "2024-10-22T19:41:19.605Z"
   },
   {
    "duration": 12,
    "start_time": "2024-10-22T19:41:21.184Z"
   },
   {
    "duration": 6,
    "start_time": "2024-10-22T19:41:23.636Z"
   },
   {
    "duration": 9,
    "start_time": "2024-10-22T19:41:28.095Z"
   },
   {
    "duration": 3,
    "start_time": "2024-10-22T19:41:29.540Z"
   },
   {
    "duration": 12,
    "start_time": "2024-10-22T19:41:30.883Z"
   },
   {
    "duration": 4,
    "start_time": "2024-10-22T19:41:32.545Z"
   },
   {
    "duration": 3,
    "start_time": "2024-10-22T19:41:34.037Z"
   },
   {
    "duration": 8,
    "start_time": "2024-10-22T19:41:35.254Z"
   },
   {
    "duration": 10,
    "start_time": "2024-10-22T19:41:37.815Z"
   },
   {
    "duration": 3,
    "start_time": "2024-10-22T19:41:39.340Z"
   },
   {
    "duration": 14,
    "start_time": "2024-10-22T19:41:40.768Z"
   },
   {
    "duration": 4,
    "start_time": "2024-10-22T19:41:42.371Z"
   },
   {
    "duration": 3,
    "start_time": "2024-10-22T19:41:45.205Z"
   },
   {
    "duration": 9,
    "start_time": "2024-10-22T19:41:47.782Z"
   },
   {
    "duration": 9,
    "start_time": "2024-10-22T19:41:52.909Z"
   },
   {
    "duration": 3,
    "start_time": "2024-10-22T19:41:54.465Z"
   },
   {
    "duration": 10,
    "start_time": "2024-10-22T19:41:56.049Z"
   },
   {
    "duration": 4,
    "start_time": "2024-10-22T19:41:59.731Z"
   },
   {
    "duration": 3,
    "start_time": "2024-10-22T19:42:01.778Z"
   },
   {
    "duration": 7,
    "start_time": "2024-10-22T19:42:03.301Z"
   },
   {
    "duration": 2,
    "start_time": "2024-10-22T19:42:06.883Z"
   },
   {
    "duration": 2,
    "start_time": "2024-10-22T19:42:10.416Z"
   },
   {
    "duration": 3,
    "start_time": "2024-10-22T19:42:18.910Z"
   },
   {
    "duration": 3,
    "start_time": "2024-10-22T19:42:31.591Z"
   },
   {
    "duration": 3,
    "start_time": "2024-10-22T19:42:35.304Z"
   },
   {
    "duration": 50,
    "start_time": "2024-10-22T19:42:38.407Z"
   },
   {
    "duration": 55,
    "start_time": "2024-10-22T19:43:32.773Z"
   },
   {
    "duration": 64,
    "start_time": "2024-10-22T19:43:34.212Z"
   },
   {
    "duration": 48,
    "start_time": "2024-10-22T19:43:37.156Z"
   },
   {
    "duration": 43,
    "start_time": "2024-10-22T19:43:39.210Z"
   },
   {
    "duration": 50,
    "start_time": "2024-10-22T19:43:40.669Z"
   },
   {
    "duration": 43,
    "start_time": "2024-10-22T19:43:41.624Z"
   },
   {
    "duration": 4,
    "start_time": "2024-10-22T19:44:09.090Z"
   },
   {
    "duration": 3,
    "start_time": "2024-10-22T19:46:10.489Z"
   },
   {
    "duration": 2,
    "start_time": "2024-10-22T19:46:12.249Z"
   },
   {
    "duration": 953,
    "start_time": "2024-10-22T19:46:22.252Z"
   },
   {
    "duration": 88,
    "start_time": "2024-10-22T19:46:23.225Z"
   },
   {
    "duration": 14,
    "start_time": "2024-10-22T19:46:23.642Z"
   },
   {
    "duration": 87,
    "start_time": "2024-10-22T19:46:23.954Z"
   },
   {
    "duration": 14,
    "start_time": "2024-10-22T19:46:24.370Z"
   },
   {
    "duration": 83,
    "start_time": "2024-10-22T19:46:24.701Z"
   },
   {
    "duration": 14,
    "start_time": "2024-10-22T19:46:25.020Z"
   },
   {
    "duration": 7,
    "start_time": "2024-10-22T19:46:25.463Z"
   },
   {
    "duration": 10,
    "start_time": "2024-10-22T19:46:25.915Z"
   },
   {
    "duration": 4,
    "start_time": "2024-10-22T19:46:26.204Z"
   },
   {
    "duration": 11,
    "start_time": "2024-10-22T19:46:26.501Z"
   },
   {
    "duration": 4,
    "start_time": "2024-10-22T19:46:26.837Z"
   },
   {
    "duration": 4,
    "start_time": "2024-10-22T19:46:27.143Z"
   },
   {
    "duration": 7,
    "start_time": "2024-10-22T19:46:27.456Z"
   },
   {
    "duration": 16,
    "start_time": "2024-10-22T19:46:28.125Z"
   },
   {
    "duration": 3,
    "start_time": "2024-10-22T19:46:28.458Z"
   },
   {
    "duration": 17,
    "start_time": "2024-10-22T19:46:28.804Z"
   },
   {
    "duration": 4,
    "start_time": "2024-10-22T19:46:29.125Z"
   },
   {
    "duration": 3,
    "start_time": "2024-10-22T19:46:29.488Z"
   },
   {
    "duration": 7,
    "start_time": "2024-10-22T19:46:29.805Z"
   },
   {
    "duration": 11,
    "start_time": "2024-10-22T19:46:30.489Z"
   },
   {
    "duration": 3,
    "start_time": "2024-10-22T19:46:30.814Z"
   },
   {
    "duration": 10,
    "start_time": "2024-10-22T19:46:31.143Z"
   },
   {
    "duration": 4,
    "start_time": "2024-10-22T19:46:31.477Z"
   },
   {
    "duration": 3,
    "start_time": "2024-10-22T19:46:31.815Z"
   },
   {
    "duration": 8,
    "start_time": "2024-10-22T19:46:32.178Z"
   },
   {
    "duration": 2,
    "start_time": "2024-10-22T19:46:32.881Z"
   },
   {
    "duration": 2,
    "start_time": "2024-10-22T19:46:33.212Z"
   },
   {
    "duration": 278,
    "start_time": "2024-10-22T19:46:33.574Z"
   },
   {
    "duration": 3,
    "start_time": "2024-10-22T19:46:34.054Z"
   },
   {
    "duration": 14,
    "start_time": "2024-10-22T19:46:35.205Z"
   },
   {
    "duration": 14,
    "start_time": "2024-10-22T19:46:35.611Z"
   },
   {
    "duration": 13,
    "start_time": "2024-10-22T19:46:35.935Z"
   },
   {
    "duration": 14,
    "start_time": "2024-10-22T19:47:06.461Z"
   },
   {
    "duration": 14,
    "start_time": "2024-10-22T19:47:27.393Z"
   },
   {
    "duration": 3,
    "start_time": "2024-10-22T19:48:35.452Z"
   },
   {
    "duration": 3,
    "start_time": "2024-10-22T19:48:55.729Z"
   },
   {
    "duration": 3,
    "start_time": "2024-10-22T19:48:56.556Z"
   },
   {
    "duration": 4,
    "start_time": "2024-10-22T19:48:57.037Z"
   },
   {
    "duration": 3,
    "start_time": "2024-10-22T19:48:57.421Z"
   },
   {
    "duration": 3,
    "start_time": "2024-10-22T19:48:59.348Z"
   },
   {
    "duration": 3,
    "start_time": "2024-10-22T19:49:00.910Z"
   },
   {
    "duration": 442,
    "start_time": "2024-10-22T19:49:03.840Z"
   },
   {
    "duration": 53,
    "start_time": "2024-10-22T19:49:05.532Z"
   },
   {
    "duration": 50,
    "start_time": "2024-10-22T19:49:07.019Z"
   },
   {
    "duration": 16,
    "start_time": "2024-10-22T19:50:17.969Z"
   },
   {
    "duration": 4,
    "start_time": "2024-10-22T19:50:32.653Z"
   },
   {
    "duration": 15,
    "start_time": "2024-10-22T19:51:13.639Z"
   },
   {
    "duration": 15,
    "start_time": "2024-10-22T19:51:16.386Z"
   },
   {
    "duration": 18,
    "start_time": "2024-10-22T19:51:17.739Z"
   },
   {
    "duration": 248,
    "start_time": "2024-10-22T19:51:19.680Z"
   },
   {
    "duration": 259,
    "start_time": "2024-10-22T19:51:21.428Z"
   },
   {
    "duration": 263,
    "start_time": "2024-10-22T19:51:21.947Z"
   },
   {
    "duration": 238,
    "start_time": "2024-10-22T19:51:22.268Z"
   },
   {
    "duration": 80,
    "start_time": "2024-10-22T19:52:13.891Z"
   },
   {
    "duration": 2584,
    "start_time": "2024-10-27T19:36:37.190Z"
   },
   {
    "duration": 126,
    "start_time": "2024-10-27T19:36:47.455Z"
   },
   {
    "duration": 219,
    "start_time": "2024-10-27T19:37:19.303Z"
   },
   {
    "duration": 9,
    "start_time": "2024-10-27T19:37:32.247Z"
   },
   {
    "duration": 4,
    "start_time": "2024-10-27T19:37:58.049Z"
   },
   {
    "duration": 7,
    "start_time": "2024-10-27T19:38:06.202Z"
   },
   {
    "duration": 401,
    "start_time": "2024-10-27T19:38:50.086Z"
   },
   {
    "duration": 11,
    "start_time": "2024-10-27T19:39:10.713Z"
   },
   {
    "duration": 3010,
    "start_time": "2024-11-06T02:13:42.289Z"
   },
   {
    "duration": 0,
    "start_time": "2024-11-06T02:15:52.426Z"
   },
   {
    "duration": 3,
    "start_time": "2024-11-06T03:45:34.888Z"
   },
   {
    "duration": 3,
    "start_time": "2024-11-06T03:45:39.787Z"
   },
   {
    "duration": 114,
    "start_time": "2024-11-06T03:45:41.332Z"
   },
   {
    "duration": 13,
    "start_time": "2024-11-06T03:45:42.478Z"
   },
   {
    "duration": 11,
    "start_time": "2024-11-06T03:45:42.889Z"
   },
   {
    "duration": 102,
    "start_time": "2024-11-06T03:45:44.058Z"
   },
   {
    "duration": 11,
    "start_time": "2024-11-06T03:45:45.089Z"
   },
   {
    "duration": 104,
    "start_time": "2024-11-06T03:45:45.673Z"
   },
   {
    "duration": 12,
    "start_time": "2024-11-06T03:45:47.121Z"
   },
   {
    "duration": 13,
    "start_time": "2024-11-06T03:47:04.674Z"
   },
   {
    "duration": 2,
    "start_time": "2024-11-06T03:47:33.540Z"
   },
   {
    "duration": 92,
    "start_time": "2024-11-06T03:48:11.123Z"
   },
   {
    "duration": 27,
    "start_time": "2024-11-06T03:48:34.549Z"
   },
   {
    "duration": 10,
    "start_time": "2024-11-06T03:49:37.460Z"
   },
   {
    "duration": 2,
    "start_time": "2024-11-06T03:49:49.443Z"
   },
   {
    "duration": 24,
    "start_time": "2024-11-06T03:50:10.820Z"
   },
   {
    "duration": 26,
    "start_time": "2024-11-06T03:50:19.602Z"
   },
   {
    "duration": 28,
    "start_time": "2024-11-06T03:50:42.015Z"
   },
   {
    "duration": 27,
    "start_time": "2024-11-06T03:50:53.169Z"
   },
   {
    "duration": 21,
    "start_time": "2024-11-06T03:50:59.459Z"
   },
   {
    "duration": 11,
    "start_time": "2024-11-06T03:51:06.275Z"
   },
   {
    "duration": 36,
    "start_time": "2024-11-06T03:51:12.306Z"
   },
   {
    "duration": 11,
    "start_time": "2024-11-06T03:51:24.628Z"
   },
   {
    "duration": 2,
    "start_time": "2024-11-06T03:51:35.587Z"
   },
   {
    "duration": 26,
    "start_time": "2024-11-06T03:51:56.633Z"
   },
   {
    "duration": 903,
    "start_time": "2024-11-06T03:52:24.319Z"
   },
   {
    "duration": 87,
    "start_time": "2024-11-06T03:52:25.224Z"
   },
   {
    "duration": 18,
    "start_time": "2024-11-06T03:52:25.313Z"
   },
   {
    "duration": 10,
    "start_time": "2024-11-06T03:52:25.334Z"
   },
   {
    "duration": 26,
    "start_time": "2024-11-06T03:52:25.345Z"
   },
   {
    "duration": 101,
    "start_time": "2024-11-06T03:52:25.373Z"
   },
   {
    "duration": 11,
    "start_time": "2024-11-06T03:52:25.476Z"
   },
   {
    "duration": 26,
    "start_time": "2024-11-06T03:52:25.488Z"
   },
   {
    "duration": 95,
    "start_time": "2024-11-06T03:52:25.515Z"
   },
   {
    "duration": 19,
    "start_time": "2024-11-06T03:52:25.614Z"
   },
   {
    "duration": 26,
    "start_time": "2024-11-06T03:52:25.634Z"
   },
   {
    "duration": 7,
    "start_time": "2024-11-06T03:52:25.662Z"
   },
   {
    "duration": 9,
    "start_time": "2024-11-06T03:52:25.671Z"
   },
   {
    "duration": 3,
    "start_time": "2024-11-06T03:52:25.682Z"
   },
   {
    "duration": 44,
    "start_time": "2024-11-06T03:52:25.687Z"
   },
   {
    "duration": 5,
    "start_time": "2024-11-06T03:52:25.733Z"
   },
   {
    "duration": 7,
    "start_time": "2024-11-06T03:52:25.739Z"
   },
   {
    "duration": 84,
    "start_time": "2024-11-06T03:52:25.748Z"
   },
   {
    "duration": 13,
    "start_time": "2024-11-06T03:52:25.834Z"
   },
   {
    "duration": 4,
    "start_time": "2024-11-06T03:52:25.849Z"
   },
   {
    "duration": 9,
    "start_time": "2024-11-06T03:52:25.855Z"
   },
   {
    "duration": 3,
    "start_time": "2024-11-06T03:52:25.866Z"
   },
   {
    "duration": 4,
    "start_time": "2024-11-06T03:52:25.870Z"
   },
   {
    "duration": 64,
    "start_time": "2024-11-06T03:52:25.875Z"
   },
   {
    "duration": 94,
    "start_time": "2024-11-06T03:52:25.940Z"
   },
   {
    "duration": 4,
    "start_time": "2024-11-06T03:52:26.036Z"
   },
   {
    "duration": 11,
    "start_time": "2024-11-06T03:52:26.041Z"
   },
   {
    "duration": 4,
    "start_time": "2024-11-06T03:52:26.058Z"
   },
   {
    "duration": 3,
    "start_time": "2024-11-06T03:52:26.064Z"
   },
   {
    "duration": 12,
    "start_time": "2024-11-06T03:52:26.132Z"
   },
   {
    "duration": 2,
    "start_time": "2024-11-06T03:52:26.146Z"
   },
   {
    "duration": 3,
    "start_time": "2024-11-06T03:52:26.150Z"
   },
   {
    "duration": 3,
    "start_time": "2024-11-06T03:52:26.155Z"
   },
   {
    "duration": 4,
    "start_time": "2024-11-06T03:52:26.160Z"
   },
   {
    "duration": 3,
    "start_time": "2024-11-06T03:52:26.232Z"
   },
   {
    "duration": 765,
    "start_time": "2024-11-06T03:52:26.236Z"
   },
   {
    "duration": 0,
    "start_time": "2024-11-06T03:52:27.003Z"
   },
   {
    "duration": 1,
    "start_time": "2024-11-06T03:52:27.004Z"
   },
   {
    "duration": 0,
    "start_time": "2024-11-06T03:52:27.006Z"
   },
   {
    "duration": 0,
    "start_time": "2024-11-06T03:52:27.007Z"
   },
   {
    "duration": 0,
    "start_time": "2024-11-06T03:52:27.009Z"
   },
   {
    "duration": 0,
    "start_time": "2024-11-06T03:52:27.010Z"
   },
   {
    "duration": 28,
    "start_time": "2024-11-06T04:06:29.120Z"
   },
   {
    "duration": 17,
    "start_time": "2024-11-06T04:06:47.948Z"
   },
   {
    "duration": 66,
    "start_time": "2024-11-06T04:07:14.005Z"
   },
   {
    "duration": 275,
    "start_time": "2024-11-06T04:07:22.541Z"
   },
   {
    "duration": 30,
    "start_time": "2024-11-06T04:09:40.487Z"
   },
   {
    "duration": 270,
    "start_time": "2024-11-06T04:10:06.822Z"
   },
   {
    "duration": 32,
    "start_time": "2024-11-06T04:10:27.204Z"
   },
   {
    "duration": 26,
    "start_time": "2024-11-06T04:10:29.750Z"
   },
   {
    "duration": 243,
    "start_time": "2024-11-06T04:11:37.814Z"
   },
   {
    "duration": 27,
    "start_time": "2024-11-06T04:11:52.005Z"
   },
   {
    "duration": 267,
    "start_time": "2024-11-06T04:12:51.335Z"
   },
   {
    "duration": 308,
    "start_time": "2024-11-06T04:15:10.205Z"
   },
   {
    "duration": 238,
    "start_time": "2024-11-06T04:15:15.496Z"
   },
   {
    "duration": 244,
    "start_time": "2024-11-06T04:15:33.945Z"
   },
   {
    "duration": 55,
    "start_time": "2024-11-06T04:15:48.682Z"
   },
   {
    "duration": 246,
    "start_time": "2024-11-06T04:15:52.457Z"
   },
   {
    "duration": 7,
    "start_time": "2024-11-06T04:19:00.917Z"
   },
   {
    "duration": 12,
    "start_time": "2024-11-06T04:19:00.927Z"
   },
   {
    "duration": 4,
    "start_time": "2024-11-06T04:19:00.940Z"
   },
   {
    "duration": 13,
    "start_time": "2024-11-06T04:19:00.946Z"
   },
   {
    "duration": 5,
    "start_time": "2024-11-06T04:19:00.961Z"
   },
   {
    "duration": 3,
    "start_time": "2024-11-06T04:19:00.967Z"
   },
   {
    "duration": 9,
    "start_time": "2024-11-06T04:19:01.032Z"
   },
   {
    "duration": 89,
    "start_time": "2024-11-06T04:19:01.042Z"
   },
   {
    "duration": 3,
    "start_time": "2024-11-06T04:19:01.133Z"
   },
   {
    "duration": 10,
    "start_time": "2024-11-06T04:19:01.138Z"
   },
   {
    "duration": 3,
    "start_time": "2024-11-06T04:19:01.154Z"
   },
   {
    "duration": 2,
    "start_time": "2024-11-06T04:19:01.159Z"
   },
   {
    "duration": 74,
    "start_time": "2024-11-06T04:19:01.163Z"
   },
   {
    "duration": 11,
    "start_time": "2024-11-06T04:19:01.241Z"
   },
   {
    "duration": 3,
    "start_time": "2024-11-06T04:19:01.254Z"
   },
   {
    "duration": 72,
    "start_time": "2024-11-06T04:19:01.259Z"
   },
   {
    "duration": 6,
    "start_time": "2024-11-06T04:19:01.334Z"
   },
   {
    "duration": 4,
    "start_time": "2024-11-06T04:19:01.344Z"
   },
   {
    "duration": 84,
    "start_time": "2024-11-06T04:19:01.349Z"
   },
   {
    "duration": 2,
    "start_time": "2024-11-06T04:19:01.435Z"
   },
   {
    "duration": 2,
    "start_time": "2024-11-06T04:19:01.440Z"
   },
   {
    "duration": 4,
    "start_time": "2024-11-06T04:19:01.443Z"
   },
   {
    "duration": 5,
    "start_time": "2024-11-06T04:19:01.448Z"
   },
   {
    "duration": 3,
    "start_time": "2024-11-06T04:19:01.455Z"
   },
   {
    "duration": 86,
    "start_time": "2024-11-06T04:19:01.460Z"
   },
   {
    "duration": 0,
    "start_time": "2024-11-06T04:19:01.548Z"
   },
   {
    "duration": 0,
    "start_time": "2024-11-06T04:19:01.549Z"
   },
   {
    "duration": 0,
    "start_time": "2024-11-06T04:19:01.551Z"
   },
   {
    "duration": 0,
    "start_time": "2024-11-06T04:19:01.552Z"
   },
   {
    "duration": 0,
    "start_time": "2024-11-06T04:19:01.553Z"
   },
   {
    "duration": 0,
    "start_time": "2024-11-06T04:19:01.555Z"
   },
   {
    "duration": 3,
    "start_time": "2024-11-06T04:19:20.127Z"
   },
   {
    "duration": 109,
    "start_time": "2024-11-06T04:19:20.133Z"
   },
   {
    "duration": 12,
    "start_time": "2024-11-06T04:19:20.244Z"
   },
   {
    "duration": 10,
    "start_time": "2024-11-06T04:19:20.258Z"
   },
   {
    "duration": 29,
    "start_time": "2024-11-06T04:19:20.269Z"
   },
   {
    "duration": 288,
    "start_time": "2024-11-06T04:19:20.300Z"
   },
   {
    "duration": 86,
    "start_time": "2024-11-06T04:19:20.589Z"
   },
   {
    "duration": 10,
    "start_time": "2024-11-06T04:19:20.678Z"
   },
   {
    "duration": 40,
    "start_time": "2024-11-06T04:19:20.691Z"
   },
   {
    "duration": 258,
    "start_time": "2024-11-06T04:19:20.733Z"
   },
   {
    "duration": 90,
    "start_time": "2024-11-06T04:19:20.992Z"
   },
   {
    "duration": 11,
    "start_time": "2024-11-06T04:19:21.084Z"
   },
   {
    "duration": 40,
    "start_time": "2024-11-06T04:19:21.097Z"
   },
   {
    "duration": 268,
    "start_time": "2024-11-06T04:19:21.139Z"
   },
   {
    "duration": 6,
    "start_time": "2024-11-06T04:19:21.409Z"
   },
   {
    "duration": 23,
    "start_time": "2024-11-06T04:19:21.417Z"
   },
   {
    "duration": 4,
    "start_time": "2024-11-06T04:19:21.441Z"
   },
   {
    "duration": 8,
    "start_time": "2024-11-06T04:19:21.447Z"
   },
   {
    "duration": 4,
    "start_time": "2024-11-06T04:19:21.456Z"
   },
   {
    "duration": 3,
    "start_time": "2024-11-06T04:19:21.462Z"
   },
   {
    "duration": 67,
    "start_time": "2024-11-06T04:19:21.466Z"
   },
   {
    "duration": 13,
    "start_time": "2024-11-06T04:19:21.534Z"
   },
   {
    "duration": 3,
    "start_time": "2024-11-06T04:19:21.549Z"
   },
   {
    "duration": 80,
    "start_time": "2024-11-06T04:19:21.557Z"
   },
   {
    "duration": 4,
    "start_time": "2024-11-06T04:19:21.639Z"
   },
   {
    "duration": 3,
    "start_time": "2024-11-06T04:19:21.644Z"
   },
   {
    "duration": 7,
    "start_time": "2024-11-06T04:19:21.649Z"
   },
   {
    "duration": 79,
    "start_time": "2024-11-06T04:19:21.658Z"
   },
   {
    "duration": 3,
    "start_time": "2024-11-06T04:19:21.739Z"
   },
   {
    "duration": 8,
    "start_time": "2024-11-06T04:19:21.744Z"
   },
   {
    "duration": 3,
    "start_time": "2024-11-06T04:19:21.754Z"
   },
   {
    "duration": 72,
    "start_time": "2024-11-06T04:19:21.759Z"
   },
   {
    "duration": 8,
    "start_time": "2024-11-06T04:19:21.834Z"
   },
   {
    "duration": 2,
    "start_time": "2024-11-06T04:19:21.844Z"
   },
   {
    "duration": 2,
    "start_time": "2024-11-06T04:19:21.848Z"
   },
   {
    "duration": 4,
    "start_time": "2024-11-06T04:19:21.851Z"
   },
   {
    "duration": 78,
    "start_time": "2024-11-06T04:19:21.856Z"
   },
   {
    "duration": 3,
    "start_time": "2024-11-06T04:19:21.935Z"
   },
   {
    "duration": 59,
    "start_time": "2024-11-06T04:19:21.940Z"
   },
   {
    "duration": 0,
    "start_time": "2024-11-06T04:19:22.001Z"
   },
   {
    "duration": 1,
    "start_time": "2024-11-06T04:19:22.001Z"
   },
   {
    "duration": 1,
    "start_time": "2024-11-06T04:19:22.002Z"
   },
   {
    "duration": 0,
    "start_time": "2024-11-06T04:19:22.004Z"
   },
   {
    "duration": 0,
    "start_time": "2024-11-06T04:19:22.005Z"
   },
   {
    "duration": 0,
    "start_time": "2024-11-06T04:19:22.006Z"
   },
   {
    "duration": 14,
    "start_time": "2024-11-06T04:19:30.464Z"
   },
   {
    "duration": 54,
    "start_time": "2024-11-06T04:19:32.554Z"
   },
   {
    "duration": 51,
    "start_time": "2024-11-06T04:19:33.634Z"
   },
   {
    "duration": 264,
    "start_time": "2024-11-06T04:19:35.857Z"
   },
   {
    "duration": 45,
    "start_time": "2024-11-06T04:19:37.081Z"
   },
   {
    "duration": 14,
    "start_time": "2024-11-06T04:20:07.555Z"
   },
   {
    "duration": 14,
    "start_time": "2024-11-06T04:20:08.903Z"
   },
   {
    "duration": 15,
    "start_time": "2024-11-06T04:20:12.682Z"
   },
   {
    "duration": 232,
    "start_time": "2024-11-06T04:20:15.809Z"
   },
   {
    "duration": 244,
    "start_time": "2024-11-06T04:20:16.913Z"
   },
   {
    "duration": 246,
    "start_time": "2024-11-06T04:20:19.171Z"
   },
   {
    "duration": 247,
    "start_time": "2024-11-06T04:20:20.125Z"
   },
   {
    "duration": 7,
    "start_time": "2024-11-06T04:22:31.498Z"
   },
   {
    "duration": 2,
    "start_time": "2024-11-06T04:22:32.793Z"
   },
   {
    "duration": 3,
    "start_time": "2024-11-06T04:22:33.113Z"
   },
   {
    "duration": 3,
    "start_time": "2024-11-06T04:22:33.423Z"
   },
   {
    "duration": 4,
    "start_time": "2024-11-06T04:22:33.897Z"
   },
   {
    "duration": 3,
    "start_time": "2024-11-06T04:22:34.636Z"
   },
   {
    "duration": 14,
    "start_time": "2024-11-06T04:22:35.153Z"
   },
   {
    "duration": 14,
    "start_time": "2024-11-06T04:22:35.475Z"
   },
   {
    "duration": 58,
    "start_time": "2024-11-06T04:22:35.792Z"
   },
   {
    "duration": 240,
    "start_time": "2024-11-06T04:22:36.273Z"
   },
   {
    "duration": 381,
    "start_time": "2024-11-06T04:22:36.641Z"
   },
   {
    "duration": 45,
    "start_time": "2024-11-06T04:22:37.030Z"
   },
   {
    "duration": 44,
    "start_time": "2024-11-06T04:22:37.365Z"
   },
   {
    "duration": 44,
    "start_time": "2024-11-06T04:22:48.870Z"
   },
   {
    "duration": 232,
    "start_time": "2024-11-06T04:22:56.876Z"
   },
   {
    "duration": 48,
    "start_time": "2024-11-06T04:22:58.739Z"
   },
   {
    "duration": 51,
    "start_time": "2024-11-06T04:23:00.387Z"
   },
   {
    "duration": 50,
    "start_time": "2024-11-06T04:23:24.949Z"
   },
   {
    "duration": 4,
    "start_time": "2024-11-06T04:23:44.656Z"
   },
   {
    "duration": 81,
    "start_time": "2024-11-06T04:23:45.169Z"
   },
   {
    "duration": 12,
    "start_time": "2024-11-06T04:23:45.730Z"
   },
   {
    "duration": 11,
    "start_time": "2024-11-06T04:23:45.923Z"
   },
   {
    "duration": 28,
    "start_time": "2024-11-06T04:23:46.272Z"
   },
   {
    "duration": 245,
    "start_time": "2024-11-06T04:23:46.657Z"
   },
   {
    "duration": 85,
    "start_time": "2024-11-06T04:23:47.098Z"
   },
   {
    "duration": 12,
    "start_time": "2024-11-06T04:23:47.749Z"
   },
   {
    "duration": 28,
    "start_time": "2024-11-06T04:23:48.381Z"
   },
   {
    "duration": 236,
    "start_time": "2024-11-06T04:23:48.797Z"
   },
   {
    "duration": 81,
    "start_time": "2024-11-06T04:23:49.178Z"
   },
   {
    "duration": 13,
    "start_time": "2024-11-06T04:23:49.573Z"
   },
   {
    "duration": 27,
    "start_time": "2024-11-06T04:23:50.091Z"
   },
   {
    "duration": 215,
    "start_time": "2024-11-06T04:23:50.801Z"
   },
   {
    "duration": 8,
    "start_time": "2024-11-06T04:23:53.876Z"
   },
   {
    "duration": 9,
    "start_time": "2024-11-06T04:23:55.289Z"
   },
   {
    "duration": 3,
    "start_time": "2024-11-06T04:23:56.817Z"
   },
   {
    "duration": 11,
    "start_time": "2024-11-06T04:23:57.848Z"
   },
   {
    "duration": 4,
    "start_time": "2024-11-06T04:23:58.384Z"
   },
   {
    "duration": 3,
    "start_time": "2024-11-06T04:23:59.461Z"
   },
   {
    "duration": 7,
    "start_time": "2024-11-06T04:24:00.227Z"
   },
   {
    "duration": 9,
    "start_time": "2024-11-06T04:24:01.913Z"
   },
   {
    "duration": 3,
    "start_time": "2024-11-06T04:24:02.809Z"
   },
   {
    "duration": 8,
    "start_time": "2024-11-06T04:24:04.486Z"
   },
   {
    "duration": 3,
    "start_time": "2024-11-06T04:24:05.186Z"
   },
   {
    "duration": 4,
    "start_time": "2024-11-06T04:24:05.593Z"
   },
   {
    "duration": 8,
    "start_time": "2024-11-06T04:24:06.169Z"
   },
   {
    "duration": 8,
    "start_time": "2024-11-06T04:24:07.384Z"
   },
   {
    "duration": 3,
    "start_time": "2024-11-06T04:24:07.768Z"
   },
   {
    "duration": 12,
    "start_time": "2024-11-06T04:24:08.147Z"
   },
   {
    "duration": 4,
    "start_time": "2024-11-06T04:24:09.608Z"
   },
   {
    "duration": 3,
    "start_time": "2024-11-06T04:24:10.216Z"
   },
   {
    "duration": 7,
    "start_time": "2024-11-06T04:24:10.626Z"
   },
   {
    "duration": 2,
    "start_time": "2024-11-06T04:24:11.863Z"
   },
   {
    "duration": 3,
    "start_time": "2024-11-06T04:24:12.233Z"
   },
   {
    "duration": 3,
    "start_time": "2024-11-06T04:24:12.584Z"
   },
   {
    "duration": 4,
    "start_time": "2024-11-06T04:24:13.216Z"
   },
   {
    "duration": 3,
    "start_time": "2024-11-06T04:24:14.382Z"
   },
   {
    "duration": 54,
    "start_time": "2024-11-06T04:24:15.331Z"
   },
   {
    "duration": 53,
    "start_time": "2024-11-06T04:24:16.315Z"
   },
   {
    "duration": 55,
    "start_time": "2024-11-06T04:24:18.171Z"
   },
   {
    "duration": 45,
    "start_time": "2024-11-06T04:24:21.793Z"
   },
   {
    "duration": 46,
    "start_time": "2024-11-06T04:24:23.064Z"
   },
   {
    "duration": 52,
    "start_time": "2024-11-06T04:24:24.563Z"
   },
   {
    "duration": 69,
    "start_time": "2024-11-06T04:24:28.449Z"
   },
   {
    "duration": 3,
    "start_time": "2024-11-06T04:25:54.164Z"
   },
   {
    "duration": 15,
    "start_time": "2024-11-06T04:25:55.597Z"
   },
   {
    "duration": 2,
    "start_time": "2024-11-06T04:26:01.900Z"
   },
   {
    "duration": 81,
    "start_time": "2024-11-06T04:26:03.601Z"
   },
   {
    "duration": 12,
    "start_time": "2024-11-06T04:26:04.881Z"
   },
   {
    "duration": 10,
    "start_time": "2024-11-06T04:26:05.531Z"
   },
   {
    "duration": 28,
    "start_time": "2024-11-06T04:26:06.522Z"
   },
   {
    "duration": 229,
    "start_time": "2024-11-06T04:26:07.593Z"
   },
   {
    "duration": 83,
    "start_time": "2024-11-06T04:26:08.330Z"
   },
   {
    "duration": 12,
    "start_time": "2024-11-06T04:26:09.302Z"
   },
   {
    "duration": 27,
    "start_time": "2024-11-06T04:26:10.152Z"
   },
   {
    "duration": 220,
    "start_time": "2024-11-06T04:26:10.997Z"
   },
   {
    "duration": 83,
    "start_time": "2024-11-06T04:26:12.714Z"
   },
   {
    "duration": 12,
    "start_time": "2024-11-06T04:26:13.649Z"
   },
   {
    "duration": 29,
    "start_time": "2024-11-06T04:26:14.836Z"
   },
   {
    "duration": 266,
    "start_time": "2024-11-06T04:26:17.225Z"
   },
   {
    "duration": 224,
    "start_time": "2024-11-06T04:28:03.388Z"
   },
   {
    "duration": 507,
    "start_time": "2024-11-06T04:28:08.011Z"
   },
   {
    "duration": 6,
    "start_time": "2024-11-06T04:29:07.803Z"
   },
   {
    "duration": 262,
    "start_time": "2024-11-06T04:29:28.412Z"
   },
   {
    "duration": 617,
    "start_time": "2024-11-06T04:30:10.799Z"
   },
   {
    "duration": 240,
    "start_time": "2024-11-06T04:30:30.660Z"
   },
   {
    "duration": 3,
    "start_time": "2024-11-06T04:31:04.826Z"
   },
   {
    "duration": 616,
    "start_time": "2024-11-06T04:31:10.396Z"
   },
   {
    "duration": 283,
    "start_time": "2024-11-06T04:31:21.789Z"
   },
   {
    "duration": 3,
    "start_time": "2024-11-06T04:31:42.426Z"
   },
   {
    "duration": 520,
    "start_time": "2024-11-06T04:32:19.133Z"
   },
   {
    "duration": 6,
    "start_time": "2024-11-06T04:34:12.108Z"
   },
   {
    "duration": 4,
    "start_time": "2024-11-06T04:34:58.878Z"
   },
   {
    "duration": 4,
    "start_time": "2024-11-06T04:35:04.090Z"
   },
   {
    "duration": 3,
    "start_time": "2024-11-06T04:35:35.339Z"
   },
   {
    "duration": 3,
    "start_time": "2024-11-06T04:35:36.717Z"
   },
   {
    "duration": 7,
    "start_time": "2024-11-06T04:36:25.593Z"
   },
   {
    "duration": 5,
    "start_time": "2024-11-06T04:36:27.086Z"
   },
   {
    "duration": 5,
    "start_time": "2024-11-06T04:36:27.596Z"
   },
   {
    "duration": 7,
    "start_time": "2024-11-06T04:36:27.851Z"
   },
   {
    "duration": 5,
    "start_time": "2024-11-06T04:36:28.174Z"
   },
   {
    "duration": 5,
    "start_time": "2024-11-06T04:36:28.364Z"
   },
   {
    "duration": 6,
    "start_time": "2024-11-06T04:36:28.522Z"
   },
   {
    "duration": 4,
    "start_time": "2024-11-06T04:36:28.702Z"
   },
   {
    "duration": 7,
    "start_time": "2024-11-06T04:36:29.309Z"
   },
   {
    "duration": 5,
    "start_time": "2024-11-06T04:36:29.628Z"
   },
   {
    "duration": 8,
    "start_time": "2024-11-06T04:36:29.948Z"
   },
   {
    "duration": 5,
    "start_time": "2024-11-06T04:36:30.269Z"
   },
   {
    "duration": 5,
    "start_time": "2024-11-06T04:36:30.560Z"
   },
   {
    "duration": 8,
    "start_time": "2024-11-06T04:36:30.876Z"
   },
   {
    "duration": 6,
    "start_time": "2024-11-06T04:36:31.178Z"
   },
   {
    "duration": 6,
    "start_time": "2024-11-06T04:37:02.493Z"
   },
   {
    "duration": 7,
    "start_time": "2024-11-06T04:37:09.101Z"
   },
   {
    "duration": 3,
    "start_time": "2024-11-06T04:38:50.502Z"
   },
   {
    "duration": 79,
    "start_time": "2024-11-06T04:38:51.851Z"
   },
   {
    "duration": 13,
    "start_time": "2024-11-06T04:38:52.761Z"
   },
   {
    "duration": 15,
    "start_time": "2024-11-06T04:38:53.430Z"
   },
   {
    "duration": 36,
    "start_time": "2024-11-06T04:38:54.821Z"
   },
   {
    "duration": 262,
    "start_time": "2024-11-06T04:38:56.149Z"
   },
   {
    "duration": 551,
    "start_time": "2024-11-06T04:38:57.838Z"
   },
   {
    "duration": 79,
    "start_time": "2024-11-06T04:39:01.813Z"
   },
   {
    "duration": 12,
    "start_time": "2024-11-06T04:39:02.696Z"
   },
   {
    "duration": 27,
    "start_time": "2024-11-06T04:39:03.892Z"
   },
   {
    "duration": 315,
    "start_time": "2024-11-06T04:39:04.733Z"
   },
   {
    "duration": 673,
    "start_time": "2024-11-06T04:39:05.623Z"
   },
   {
    "duration": 80,
    "start_time": "2024-11-06T04:39:06.548Z"
   },
   {
    "duration": 13,
    "start_time": "2024-11-06T04:39:07.501Z"
   },
   {
    "duration": 28,
    "start_time": "2024-11-06T04:39:08.516Z"
   },
   {
    "duration": 265,
    "start_time": "2024-11-06T04:39:09.550Z"
   },
   {
    "duration": 544,
    "start_time": "2024-11-06T04:39:10.844Z"
   },
   {
    "duration": 6,
    "start_time": "2024-11-06T04:39:14.523Z"
   },
   {
    "duration": 11,
    "start_time": "2024-11-06T04:39:16.444Z"
   },
   {
    "duration": 4,
    "start_time": "2024-11-06T04:39:17.429Z"
   },
   {
    "duration": 13,
    "start_time": "2024-11-06T04:39:18.642Z"
   },
   {
    "duration": 5,
    "start_time": "2024-11-06T04:39:19.669Z"
   },
   {
    "duration": 4,
    "start_time": "2024-11-06T04:39:21.151Z"
   },
   {
    "duration": 9,
    "start_time": "2024-11-06T04:39:24.280Z"
   },
   {
    "duration": 12,
    "start_time": "2024-11-06T04:39:27.707Z"
   },
   {
    "duration": 3,
    "start_time": "2024-11-06T04:39:29.073Z"
   },
   {
    "duration": 14,
    "start_time": "2024-11-06T04:39:30.327Z"
   },
   {
    "duration": 6,
    "start_time": "2024-11-06T04:39:31.557Z"
   },
   {
    "duration": 4,
    "start_time": "2024-11-06T04:39:32.762Z"
   },
   {
    "duration": 7,
    "start_time": "2024-11-06T04:39:33.984Z"
   },
   {
    "duration": 11,
    "start_time": "2024-11-06T04:39:36.716Z"
   },
   {
    "duration": 4,
    "start_time": "2024-11-06T04:39:37.965Z"
   },
   {
    "duration": 11,
    "start_time": "2024-11-06T04:39:39.140Z"
   },
   {
    "duration": 4,
    "start_time": "2024-11-06T04:39:40.364Z"
   },
   {
    "duration": 4,
    "start_time": "2024-11-06T04:39:51.716Z"
   },
   {
    "duration": 9,
    "start_time": "2024-11-06T04:39:56.527Z"
   },
   {
    "duration": 3,
    "start_time": "2024-11-06T04:39:58.916Z"
   },
   {
    "duration": 3,
    "start_time": "2024-11-06T04:40:00.125Z"
   },
   {
    "duration": 3,
    "start_time": "2024-11-06T04:40:01.284Z"
   },
   {
    "duration": 5,
    "start_time": "2024-11-06T04:40:02.614Z"
   },
   {
    "duration": 4,
    "start_time": "2024-11-06T04:40:04.596Z"
   },
   {
    "duration": 59,
    "start_time": "2024-11-06T04:40:07.668Z"
   },
   {
    "duration": 56,
    "start_time": "2024-11-06T04:40:09.388Z"
   },
   {
    "duration": 80,
    "start_time": "2024-11-06T04:40:13.417Z"
   },
   {
    "duration": 72,
    "start_time": "2024-11-06T04:41:44.455Z"
   },
   {
    "duration": 20,
    "start_time": "2024-11-06T04:43:04.460Z"
   },
   {
    "duration": 14,
    "start_time": "2024-11-06T04:43:08.407Z"
   },
   {
    "duration": 20,
    "start_time": "2024-11-06T04:43:10.981Z"
   },
   {
    "duration": 275,
    "start_time": "2024-11-06T04:43:16.966Z"
   },
   {
    "duration": 235,
    "start_time": "2024-11-06T04:43:18.981Z"
   },
   {
    "duration": 252,
    "start_time": "2024-11-06T04:43:20.824Z"
   },
   {
    "duration": 234,
    "start_time": "2024-11-06T04:43:22.974Z"
   },
   {
    "duration": 82,
    "start_time": "2024-11-06T04:45:29.533Z"
   },
   {
    "duration": 89,
    "start_time": "2024-11-06T04:45:32.031Z"
   },
   {
    "duration": 19,
    "start_time": "2024-11-06T04:46:00.800Z"
   },
   {
    "duration": 43,
    "start_time": "2024-11-06T04:46:44.912Z"
   },
   {
    "duration": 84,
    "start_time": "2024-11-06T04:46:53.329Z"
   },
   {
    "duration": 3,
    "start_time": "2024-11-06T04:47:02.622Z"
   },
   {
    "duration": 3,
    "start_time": "2024-11-06T04:47:06.270Z"
   },
   {
    "duration": 83,
    "start_time": "2024-11-06T04:47:47.984Z"
   },
   {
    "duration": 4,
    "start_time": "2024-11-06T04:48:00.430Z"
   },
   {
    "duration": 79,
    "start_time": "2024-11-06T04:48:42.658Z"
   },
   {
    "duration": 35,
    "start_time": "2024-11-06T04:49:04.396Z"
   },
   {
    "duration": 12,
    "start_time": "2024-11-06T04:49:26.073Z"
   },
   {
    "duration": 4,
    "start_time": "2024-11-06T04:49:53.100Z"
   },
   {
    "duration": 13,
    "start_time": "2024-11-06T04:50:17.184Z"
   },
   {
    "duration": 13,
    "start_time": "2024-11-06T04:50:39.682Z"
   },
   {
    "duration": 12,
    "start_time": "2024-11-06T04:50:53.247Z"
   },
   {
    "duration": 170,
    "start_time": "2024-11-06T17:04:10.270Z"
   },
   {
    "duration": 2842,
    "start_time": "2024-11-06T17:04:55.637Z"
   },
   {
    "duration": 117,
    "start_time": "2024-11-06T17:04:58.482Z"
   },
   {
    "duration": 44,
    "start_time": "2024-11-06T17:04:58.601Z"
   },
   {
    "duration": 11,
    "start_time": "2024-11-06T17:04:58.648Z"
   },
   {
    "duration": 10,
    "start_time": "2024-11-06T17:04:58.661Z"
   },
   {
    "duration": 29,
    "start_time": "2024-11-06T17:04:58.672Z"
   },
   {
    "duration": 329,
    "start_time": "2024-11-06T17:04:58.703Z"
   },
   {
    "duration": 588,
    "start_time": "2024-11-06T17:04:59.622Z"
   },
   {
    "duration": 105,
    "start_time": "2024-11-06T17:05:00.299Z"
   },
   {
    "duration": 30,
    "start_time": "2024-11-06T17:05:01.129Z"
   },
   {
    "duration": 12,
    "start_time": "2024-11-06T17:05:01.722Z"
   },
   {
    "duration": 10,
    "start_time": "2024-11-06T17:05:02.525Z"
   },
   {
    "duration": 26,
    "start_time": "2024-11-06T17:05:03.463Z"
   },
   {
    "duration": 269,
    "start_time": "2024-11-06T17:05:04.323Z"
   },
   {
    "duration": 498,
    "start_time": "2024-11-06T17:05:06.001Z"
   },
   {
    "duration": 114,
    "start_time": "2024-11-06T17:05:08.095Z"
   },
   {
    "duration": 32,
    "start_time": "2024-11-06T17:05:09.398Z"
   },
   {
    "duration": 11,
    "start_time": "2024-11-06T17:05:10.287Z"
   },
   {
    "duration": 2,
    "start_time": "2024-11-06T17:05:10.887Z"
   },
   {
    "duration": 26,
    "start_time": "2024-11-06T17:05:12.209Z"
   },
   {
    "duration": 230,
    "start_time": "2024-11-06T17:05:13.701Z"
   },
   {
    "duration": 521,
    "start_time": "2024-11-06T17:05:14.844Z"
   },
   {
    "duration": 6,
    "start_time": "2024-11-06T17:05:18.002Z"
   },
   {
    "duration": 10,
    "start_time": "2024-11-06T17:05:19.406Z"
   },
   {
    "duration": 4,
    "start_time": "2024-11-06T17:05:20.316Z"
   },
   {
    "duration": 28,
    "start_time": "2024-11-06T17:05:21.233Z"
   },
   {
    "duration": 6,
    "start_time": "2024-11-06T17:05:21.994Z"
   },
   {
    "duration": 4,
    "start_time": "2024-11-06T17:05:22.894Z"
   },
   {
    "duration": 7,
    "start_time": "2024-11-06T17:05:23.595Z"
   },
   {
    "duration": 10,
    "start_time": "2024-11-06T17:05:25.525Z"
   },
   {
    "duration": 4,
    "start_time": "2024-11-06T17:05:26.426Z"
   },
   {
    "duration": 14,
    "start_time": "2024-11-06T17:05:27.660Z"
   },
   {
    "duration": 3,
    "start_time": "2024-11-06T17:05:28.314Z"
   },
   {
    "duration": 3,
    "start_time": "2024-11-06T17:05:29.424Z"
   },
   {
    "duration": 7,
    "start_time": "2024-11-06T17:05:30.530Z"
   },
   {
    "duration": 10,
    "start_time": "2024-11-06T17:05:32.579Z"
   },
   {
    "duration": 4,
    "start_time": "2024-11-06T17:05:33.445Z"
   },
   {
    "duration": 12,
    "start_time": "2024-11-06T17:05:34.319Z"
   },
   {
    "duration": 4,
    "start_time": "2024-11-06T17:05:35.204Z"
   },
   {
    "duration": 3,
    "start_time": "2024-11-06T17:05:36.130Z"
   },
   {
    "duration": 7,
    "start_time": "2024-11-06T17:05:37.097Z"
   },
   {
    "duration": 2,
    "start_time": "2024-11-06T17:05:39.213Z"
   },
   {
    "duration": 2,
    "start_time": "2024-11-06T17:05:40.620Z"
   },
   {
    "duration": 4,
    "start_time": "2024-11-06T17:05:41.945Z"
   },
   {
    "duration": 5,
    "start_time": "2024-11-06T17:05:43.067Z"
   },
   {
    "duration": 3,
    "start_time": "2024-11-06T17:05:45.243Z"
   },
   {
    "duration": 565,
    "start_time": "2024-11-06T17:05:50.218Z"
   },
   {
    "duration": 53,
    "start_time": "2024-11-06T17:05:54.456Z"
   },
   {
    "duration": 14,
    "start_time": "2024-11-06T17:06:00.929Z"
   },
   {
    "duration": 15,
    "start_time": "2024-11-06T17:06:04.589Z"
   },
   {
    "duration": 52,
    "start_time": "2024-11-06T17:06:06.018Z"
   },
   {
    "duration": 14,
    "start_time": "2024-11-06T17:06:11.263Z"
   },
   {
    "duration": 336,
    "start_time": "2024-11-06T17:06:15.607Z"
   },
   {
    "duration": 249,
    "start_time": "2024-11-06T17:06:17.021Z"
   },
   {
    "duration": 249,
    "start_time": "2024-11-06T17:06:20.521Z"
   },
   {
    "duration": 237,
    "start_time": "2024-11-06T17:06:23.118Z"
   },
   {
    "duration": 29,
    "start_time": "2024-11-06T17:06:25.091Z"
   },
   {
    "duration": 28,
    "start_time": "2024-11-06T17:07:04.755Z"
   },
   {
    "duration": 2,
    "start_time": "2024-11-06T18:13:46.625Z"
   },
   {
    "duration": 81,
    "start_time": "2024-11-06T18:13:47.542Z"
   },
   {
    "duration": 32,
    "start_time": "2024-11-06T18:13:50.960Z"
   },
   {
    "duration": 10,
    "start_time": "2024-11-06T18:13:51.865Z"
   },
   {
    "duration": 10,
    "start_time": "2024-11-06T18:13:52.465Z"
   },
   {
    "duration": 26,
    "start_time": "2024-11-06T18:13:53.044Z"
   },
   {
    "duration": 243,
    "start_time": "2024-11-06T18:13:53.411Z"
   },
   {
    "duration": 491,
    "start_time": "2024-11-06T18:13:54.115Z"
   },
   {
    "duration": 82,
    "start_time": "2024-11-06T18:13:54.760Z"
   },
   {
    "duration": 30,
    "start_time": "2024-11-06T18:13:55.538Z"
   },
   {
    "duration": 11,
    "start_time": "2024-11-06T18:13:55.926Z"
   },
   {
    "duration": 11,
    "start_time": "2024-11-06T18:13:56.337Z"
   },
   {
    "duration": 26,
    "start_time": "2024-11-06T18:13:56.923Z"
   },
   {
    "duration": 249,
    "start_time": "2024-11-06T18:14:10.356Z"
   },
   {
    "duration": 479,
    "start_time": "2024-11-06T18:14:10.733Z"
   },
   {
    "duration": 84,
    "start_time": "2024-11-06T18:14:11.214Z"
   },
   {
    "duration": 34,
    "start_time": "2024-11-06T18:14:11.611Z"
   },
   {
    "duration": 11,
    "start_time": "2024-11-06T18:14:11.919Z"
   },
   {
    "duration": 2,
    "start_time": "2024-11-06T18:14:12.265Z"
   },
   {
    "duration": 5,
    "start_time": "2024-11-07T03:49:11.859Z"
   },
   {
    "duration": 3,
    "start_time": "2024-11-07T03:49:13.171Z"
   },
   {
    "duration": 3,
    "start_time": "2024-11-07T03:49:14.449Z"
   },
   {
    "duration": 158,
    "start_time": "2024-11-07T03:49:15.548Z"
   },
   {
    "duration": 12,
    "start_time": "2024-11-07T03:49:17.128Z"
   },
   {
    "duration": 15,
    "start_time": "2024-11-07T03:50:58.742Z"
   },
   {
    "duration": 12,
    "start_time": "2024-11-07T03:53:03.648Z"
   },
   {
    "duration": 17,
    "start_time": "2024-11-07T03:53:08.384Z"
   },
   {
    "duration": 14,
    "start_time": "2024-11-07T03:53:09.040Z"
   },
   {
    "duration": 14,
    "start_time": "2024-11-07T03:54:11.025Z"
   },
   {
    "duration": 39,
    "start_time": "2024-11-07T03:56:12.339Z"
   },
   {
    "duration": 3,
    "start_time": "2024-11-07T03:57:22.065Z"
   },
   {
    "duration": 12,
    "start_time": "2024-11-07T03:57:32.981Z"
   },
   {
    "duration": 3,
    "start_time": "2024-11-07T03:57:39.162Z"
   },
   {
    "duration": 2750,
    "start_time": "2024-11-07T04:00:38.931Z"
   },
   {
    "duration": 112,
    "start_time": "2024-11-07T04:00:41.683Z"
   },
   {
    "duration": 37,
    "start_time": "2024-11-07T04:00:41.797Z"
   },
   {
    "duration": 12,
    "start_time": "2024-11-07T04:00:41.938Z"
   },
   {
    "duration": 13,
    "start_time": "2024-11-07T04:00:43.570Z"
   },
   {
    "duration": 28,
    "start_time": "2024-11-07T04:00:45.043Z"
   },
   {
    "duration": 256,
    "start_time": "2024-11-07T04:00:46.071Z"
   },
   {
    "duration": 543,
    "start_time": "2024-11-07T04:00:49.450Z"
   },
   {
    "duration": 103,
    "start_time": "2024-11-07T04:00:51.442Z"
   },
   {
    "duration": 31,
    "start_time": "2024-11-07T04:00:52.725Z"
   },
   {
    "duration": 11,
    "start_time": "2024-11-07T04:00:54.033Z"
   },
   {
    "duration": 11,
    "start_time": "2024-11-07T04:00:54.824Z"
   },
   {
    "duration": 26,
    "start_time": "2024-11-07T04:00:55.689Z"
   },
   {
    "duration": 225,
    "start_time": "2024-11-07T04:00:56.649Z"
   },
   {
    "duration": 467,
    "start_time": "2024-11-07T04:00:58.545Z"
   },
   {
    "duration": 106,
    "start_time": "2024-11-07T04:01:01.370Z"
   },
   {
    "duration": 36,
    "start_time": "2024-11-07T04:01:03.280Z"
   },
   {
    "duration": 12,
    "start_time": "2024-11-07T04:01:04.274Z"
   },
   {
    "duration": 4,
    "start_time": "2024-11-07T04:01:04.658Z"
   },
   {
    "duration": 28,
    "start_time": "2024-11-07T04:01:06.106Z"
   },
   {
    "duration": 249,
    "start_time": "2024-11-07T04:01:07.408Z"
   },
   {
    "duration": 511,
    "start_time": "2024-11-07T04:01:09.752Z"
   },
   {
    "duration": 4,
    "start_time": "2024-11-07T04:01:37.945Z"
   },
   {
    "duration": 90,
    "start_time": "2024-11-07T04:01:55.413Z"
   },
   {
    "duration": 14,
    "start_time": "2024-11-07T04:01:56.818Z"
   },
   {
    "duration": 15,
    "start_time": "2024-11-07T04:03:02.324Z"
   },
   {
    "duration": 14,
    "start_time": "2024-11-07T04:06:04.044Z"
   },
   {
    "duration": 14,
    "start_time": "2024-11-07T04:06:06.829Z"
   },
   {
    "duration": 17,
    "start_time": "2024-11-07T04:06:07.348Z"
   },
   {
    "duration": 5,
    "start_time": "2024-11-07T04:06:15.387Z"
   },
   {
    "duration": 3,
    "start_time": "2024-11-07T04:06:27.098Z"
   },
   {
    "duration": 79,
    "start_time": "2024-11-07T04:06:28.066Z"
   },
   {
    "duration": 34,
    "start_time": "2024-11-07T04:06:28.758Z"
   },
   {
    "duration": 11,
    "start_time": "2024-11-07T04:06:29.676Z"
   },
   {
    "duration": 11,
    "start_time": "2024-11-07T04:06:30.557Z"
   },
   {
    "duration": 28,
    "start_time": "2024-11-07T04:06:31.971Z"
   },
   {
    "duration": 238,
    "start_time": "2024-11-07T04:06:32.854Z"
   },
   {
    "duration": 578,
    "start_time": "2024-11-07T04:06:33.741Z"
   },
   {
    "duration": 78,
    "start_time": "2024-11-07T04:06:34.547Z"
   },
   {
    "duration": 33,
    "start_time": "2024-11-07T04:06:35.354Z"
   },
   {
    "duration": 12,
    "start_time": "2024-11-07T04:06:35.960Z"
   },
   {
    "duration": 13,
    "start_time": "2024-11-07T04:06:37.220Z"
   },
   {
    "duration": 32,
    "start_time": "2024-11-07T04:06:38.163Z"
   },
   {
    "duration": 253,
    "start_time": "2024-11-07T04:06:38.736Z"
   },
   {
    "duration": 447,
    "start_time": "2024-11-07T04:06:39.337Z"
   },
   {
    "duration": 81,
    "start_time": "2024-11-07T04:06:39.979Z"
   },
   {
    "duration": 31,
    "start_time": "2024-11-07T04:06:40.780Z"
   },
   {
    "duration": 12,
    "start_time": "2024-11-07T04:06:41.692Z"
   },
   {
    "duration": 2,
    "start_time": "2024-11-07T04:06:42.371Z"
   },
   {
    "duration": 28,
    "start_time": "2024-11-07T04:06:49.803Z"
   },
   {
    "duration": 250,
    "start_time": "2024-11-07T04:06:50.708Z"
   },
   {
    "duration": 505,
    "start_time": "2024-11-07T04:06:51.347Z"
   },
   {
    "duration": 6,
    "start_time": "2024-11-07T04:06:52.687Z"
   },
   {
    "duration": 9,
    "start_time": "2024-11-07T04:06:53.442Z"
   },
   {
    "duration": 4,
    "start_time": "2024-11-07T04:06:54.002Z"
   },
   {
    "duration": 17,
    "start_time": "2024-11-07T04:06:54.348Z"
   },
   {
    "duration": 3,
    "start_time": "2024-11-07T04:06:54.700Z"
   },
   {
    "duration": 3,
    "start_time": "2024-11-07T04:06:55.059Z"
   },
   {
    "duration": 10,
    "start_time": "2024-11-07T04:06:55.651Z"
   },
   {
    "duration": 10,
    "start_time": "2024-11-07T04:06:56.521Z"
   },
   {
    "duration": 4,
    "start_time": "2024-11-07T04:06:57.203Z"
   },
   {
    "duration": 23,
    "start_time": "2024-11-07T04:06:57.821Z"
   },
   {
    "duration": 4,
    "start_time": "2024-11-07T04:06:58.312Z"
   },
   {
    "duration": 3,
    "start_time": "2024-11-07T04:06:58.876Z"
   },
   {
    "duration": 8,
    "start_time": "2024-11-07T04:06:59.491Z"
   },
   {
    "duration": 10,
    "start_time": "2024-11-07T04:07:00.699Z"
   },
   {
    "duration": 4,
    "start_time": "2024-11-07T04:07:01.197Z"
   },
   {
    "duration": 16,
    "start_time": "2024-11-07T04:07:01.771Z"
   },
   {
    "duration": 4,
    "start_time": "2024-11-07T04:07:02.455Z"
   },
   {
    "duration": 3,
    "start_time": "2024-11-07T04:07:03.026Z"
   },
   {
    "duration": 7,
    "start_time": "2024-11-07T04:07:03.561Z"
   },
   {
    "duration": 2,
    "start_time": "2024-11-07T04:07:04.819Z"
   },
   {
    "duration": 2,
    "start_time": "2024-11-07T04:07:05.179Z"
   },
   {
    "duration": 3,
    "start_time": "2024-11-07T04:07:05.988Z"
   },
   {
    "duration": 4,
    "start_time": "2024-11-07T04:07:10.251Z"
   },
   {
    "duration": 4,
    "start_time": "2024-11-07T04:07:12.681Z"
   },
   {
    "duration": 15,
    "start_time": "2024-11-07T04:07:15.108Z"
   },
   {
    "duration": 14,
    "start_time": "2024-11-07T04:07:16.411Z"
   },
   {
    "duration": 14,
    "start_time": "2024-11-07T04:07:17.565Z"
   },
   {
    "duration": 6,
    "start_time": "2024-11-07T12:54:26.477Z"
   },
   {
    "duration": 2654,
    "start_time": "2024-11-07T12:54:37.692Z"
   },
   {
    "duration": 110,
    "start_time": "2024-11-07T12:54:40.348Z"
   },
   {
    "duration": 34,
    "start_time": "2024-11-07T12:54:40.460Z"
   },
   {
    "duration": 22,
    "start_time": "2024-11-07T12:54:40.496Z"
   },
   {
    "duration": 12,
    "start_time": "2024-11-07T12:54:40.519Z"
   },
   {
    "duration": 32,
    "start_time": "2024-11-07T12:54:40.643Z"
   },
   {
    "duration": 278,
    "start_time": "2024-11-07T12:54:41.032Z"
   },
   {
    "duration": 577,
    "start_time": "2024-11-07T12:54:41.401Z"
   },
   {
    "duration": 105,
    "start_time": "2024-11-07T12:54:41.981Z"
   },
   {
    "duration": 33,
    "start_time": "2024-11-07T12:54:42.268Z"
   },
   {
    "duration": 11,
    "start_time": "2024-11-07T12:54:42.676Z"
   },
   {
    "duration": 11,
    "start_time": "2024-11-07T12:54:43.099Z"
   },
   {
    "duration": 26,
    "start_time": "2024-11-07T12:54:43.539Z"
   },
   {
    "duration": 225,
    "start_time": "2024-11-07T12:54:43.963Z"
   },
   {
    "duration": 486,
    "start_time": "2024-11-07T12:54:44.428Z"
   },
   {
    "duration": 103,
    "start_time": "2024-11-07T12:54:45.092Z"
   },
   {
    "duration": 33,
    "start_time": "2024-11-07T12:54:46.309Z"
   },
   {
    "duration": 12,
    "start_time": "2024-11-07T12:54:47.079Z"
   },
   {
    "duration": 26,
    "start_time": "2024-11-07T12:54:48.217Z"
   },
   {
    "duration": 228,
    "start_time": "2024-11-07T12:54:48.652Z"
   },
   {
    "duration": 535,
    "start_time": "2024-11-07T12:54:49.052Z"
   },
   {
    "duration": 6,
    "start_time": "2024-11-07T12:54:55.344Z"
   },
   {
    "duration": 9,
    "start_time": "2024-11-07T12:54:56.508Z"
   },
   {
    "duration": 3,
    "start_time": "2024-11-07T12:54:57.170Z"
   },
   {
    "duration": 18,
    "start_time": "2024-11-07T12:54:57.563Z"
   },
   {
    "duration": 4,
    "start_time": "2024-11-07T12:54:59.030Z"
   },
   {
    "duration": 3,
    "start_time": "2024-11-07T12:55:00.109Z"
   },
   {
    "duration": 7,
    "start_time": "2024-11-07T12:55:01.714Z"
   },
   {
    "duration": 9,
    "start_time": "2024-11-07T12:55:03.622Z"
   },
   {
    "duration": 3,
    "start_time": "2024-11-07T12:55:04.508Z"
   },
   {
    "duration": 12,
    "start_time": "2024-11-07T12:55:05.283Z"
   },
   {
    "duration": 4,
    "start_time": "2024-11-07T12:55:06.077Z"
   },
   {
    "duration": 4,
    "start_time": "2024-11-07T12:55:06.642Z"
   },
   {
    "duration": 8,
    "start_time": "2024-11-07T12:55:07.726Z"
   },
   {
    "duration": 9,
    "start_time": "2024-11-07T12:55:09.643Z"
   },
   {
    "duration": 3,
    "start_time": "2024-11-07T12:55:10.612Z"
   },
   {
    "duration": 14,
    "start_time": "2024-11-07T12:55:11.817Z"
   },
   {
    "duration": 4,
    "start_time": "2024-11-07T12:55:12.370Z"
   },
   {
    "duration": 3,
    "start_time": "2024-11-07T12:55:12.743Z"
   },
   {
    "duration": 85,
    "start_time": "2024-11-07T12:55:13.989Z"
   },
   {
    "duration": 3,
    "start_time": "2024-11-07T12:55:21.860Z"
   },
   {
    "duration": 2,
    "start_time": "2024-11-07T12:55:22.653Z"
   },
   {
    "duration": 3,
    "start_time": "2024-11-07T12:55:23.405Z"
   },
   {
    "duration": 4,
    "start_time": "2024-11-07T12:55:27.440Z"
   },
   {
    "duration": 3,
    "start_time": "2024-11-07T12:55:29.348Z"
   },
   {
    "duration": 224,
    "start_time": "2024-11-07T12:55:33.346Z"
   },
   {
    "duration": 3,
    "start_time": "2024-11-07T13:02:25.680Z"
   },
   {
    "duration": 457,
    "start_time": "2024-11-07T13:02:55.616Z"
   },
   {
    "duration": 4,
    "start_time": "2024-11-07T13:03:20.672Z"
   },
   {
    "duration": 3,
    "start_time": "2024-11-07T13:03:23.939Z"
   },
   {
    "duration": 15,
    "start_time": "2024-11-07T13:03:28.261Z"
   },
   {
    "duration": 53,
    "start_time": "2024-11-07T13:03:51.317Z"
   },
   {
    "duration": 54,
    "start_time": "2024-11-07T13:03:58.464Z"
   },
   {
    "duration": 15,
    "start_time": "2024-11-07T13:04:13.669Z"
   },
   {
    "duration": 14,
    "start_time": "2024-11-07T13:04:44.451Z"
   },
   {
    "duration": 15,
    "start_time": "2024-11-07T13:04:48.988Z"
   },
   {
    "duration": 3,
    "start_time": "2024-11-07T13:10:12.686Z"
   },
   {
    "duration": 6,
    "start_time": "2024-11-07T13:10:22.786Z"
   },
   {
    "duration": 3,
    "start_time": "2024-11-07T13:11:19.796Z"
   },
   {
    "duration": 18,
    "start_time": "2024-11-07T13:13:51.360Z"
   },
   {
    "duration": 5,
    "start_time": "2024-11-07T13:24:36.868Z"
   },
   {
    "duration": 4,
    "start_time": "2024-11-07T13:24:40.439Z"
   },
   {
    "duration": 4,
    "start_time": "2024-11-07T13:24:50.102Z"
   },
   {
    "duration": 4,
    "start_time": "2024-11-07T13:25:47.203Z"
   },
   {
    "duration": 3,
    "start_time": "2024-11-07T13:27:59.329Z"
   },
   {
    "duration": 3,
    "start_time": "2024-11-07T13:28:01.087Z"
   },
   {
    "duration": 3,
    "start_time": "2024-11-07T13:28:02.054Z"
   },
   {
    "duration": 4,
    "start_time": "2024-11-07T13:28:10.608Z"
   },
   {
    "duration": 4,
    "start_time": "2024-11-07T13:29:55.217Z"
   },
   {
    "duration": 5,
    "start_time": "2024-11-07T13:30:34.683Z"
   },
   {
    "duration": 3,
    "start_time": "2024-11-07T13:30:36.804Z"
   },
   {
    "duration": 3,
    "start_time": "2024-11-07T13:30:53.025Z"
   },
   {
    "duration": 3,
    "start_time": "2024-11-07T13:30:54.546Z"
   },
   {
    "duration": 15,
    "start_time": "2024-11-07T13:31:10.582Z"
   },
   {
    "duration": 2,
    "start_time": "2024-11-07T13:31:28.192Z"
   },
   {
    "duration": 3,
    "start_time": "2024-11-07T13:31:40.053Z"
   },
   {
    "duration": 20,
    "start_time": "2024-11-07T13:31:49.936Z"
   },
   {
    "duration": 4,
    "start_time": "2024-11-07T13:32:36.421Z"
   },
   {
    "duration": 20,
    "start_time": "2024-11-07T13:32:39.505Z"
   },
   {
    "duration": 19,
    "start_time": "2024-11-07T13:32:40.659Z"
   },
   {
    "duration": 3,
    "start_time": "2024-11-07T13:33:15.954Z"
   },
   {
    "duration": 3,
    "start_time": "2024-11-07T13:33:19.217Z"
   },
   {
    "duration": 4,
    "start_time": "2024-11-07T13:33:20.897Z"
   },
   {
    "duration": 20,
    "start_time": "2024-11-07T13:33:22.530Z"
   },
   {
    "duration": 23,
    "start_time": "2024-11-07T13:33:49.539Z"
   },
   {
    "duration": 3,
    "start_time": "2024-11-07T13:34:56.390Z"
   },
   {
    "duration": 4,
    "start_time": "2024-11-07T13:34:56.925Z"
   },
   {
    "duration": 2,
    "start_time": "2024-11-07T13:34:57.412Z"
   },
   {
    "duration": 3,
    "start_time": "2024-11-07T13:34:58.120Z"
   },
   {
    "duration": 23,
    "start_time": "2024-11-07T13:34:59.649Z"
   },
   {
    "duration": 3,
    "start_time": "2024-11-07T13:35:41.924Z"
   },
   {
    "duration": 3,
    "start_time": "2024-11-07T13:35:45.058Z"
   },
   {
    "duration": 4,
    "start_time": "2024-11-07T13:35:46.892Z"
   },
   {
    "duration": 3,
    "start_time": "2024-11-07T13:35:47.306Z"
   },
   {
    "duration": 4,
    "start_time": "2024-11-07T13:35:48.074Z"
   },
   {
    "duration": 24,
    "start_time": "2024-11-07T13:35:49.427Z"
   },
   {
    "duration": 3,
    "start_time": "2024-11-07T13:36:51.562Z"
   },
   {
    "duration": 3,
    "start_time": "2024-11-07T13:36:54.762Z"
   },
   {
    "duration": 3,
    "start_time": "2024-11-07T13:36:55.414Z"
   },
   {
    "duration": 3,
    "start_time": "2024-11-07T13:36:57.753Z"
   },
   {
    "duration": 3,
    "start_time": "2024-11-07T13:36:58.330Z"
   },
   {
    "duration": 3,
    "start_time": "2024-11-07T13:36:59.148Z"
   },
   {
    "duration": 692,
    "start_time": "2024-11-07T13:37:00.436Z"
   },
   {
    "duration": 2,
    "start_time": "2024-11-07T13:40:56.025Z"
   },
   {
    "duration": 4,
    "start_time": "2024-11-07T13:41:20.207Z"
   },
   {
    "duration": 680,
    "start_time": "2024-11-07T13:41:20.869Z"
   },
   {
    "duration": 3,
    "start_time": "2024-11-07T13:51:06.364Z"
   },
   {
    "duration": 3,
    "start_time": "2024-11-07T13:51:09.238Z"
   },
   {
    "duration": 3,
    "start_time": "2024-11-07T13:51:10.085Z"
   },
   {
    "duration": 2,
    "start_time": "2024-11-07T13:51:11.304Z"
   },
   {
    "duration": 4,
    "start_time": "2024-11-07T13:51:14.318Z"
   },
   {
    "duration": 701,
    "start_time": "2024-11-07T13:51:16.620Z"
   },
   {
    "duration": 3,
    "start_time": "2024-11-07T13:52:38.598Z"
   },
   {
    "duration": 2,
    "start_time": "2024-11-07T13:52:39.494Z"
   },
   {
    "duration": 3,
    "start_time": "2024-11-07T13:52:45.994Z"
   },
   {
    "duration": 4,
    "start_time": "2024-11-07T13:52:48.837Z"
   },
   {
    "duration": 685,
    "start_time": "2024-11-07T13:52:49.503Z"
   },
   {
    "duration": 3,
    "start_time": "2024-11-07T13:53:38.677Z"
   },
   {
    "duration": 2,
    "start_time": "2024-11-07T13:53:41.132Z"
   },
   {
    "duration": 4,
    "start_time": "2024-11-07T13:53:41.731Z"
   },
   {
    "duration": 702,
    "start_time": "2024-11-07T13:53:41.893Z"
   },
   {
    "duration": 3,
    "start_time": "2024-11-07T13:57:37.571Z"
   },
   {
    "duration": 18,
    "start_time": "2024-11-07T13:58:13.033Z"
   },
   {
    "duration": 22,
    "start_time": "2024-11-07T13:59:07.961Z"
   },
   {
    "duration": 3,
    "start_time": "2024-11-07T13:59:42.176Z"
   },
   {
    "duration": 459,
    "start_time": "2024-11-07T13:59:44.681Z"
   },
   {
    "duration": 5,
    "start_time": "2024-11-07T14:00:15.244Z"
   },
   {
    "duration": 4,
    "start_time": "2024-11-07T14:00:20.382Z"
   },
   {
    "duration": 3,
    "start_time": "2024-11-07T14:00:24.167Z"
   },
   {
    "duration": 5,
    "start_time": "2024-11-07T14:00:32.244Z"
   },
   {
    "duration": 30,
    "start_time": "2024-11-07T14:00:35.168Z"
   },
   {
    "duration": 3,
    "start_time": "2024-11-07T14:01:22.553Z"
   },
   {
    "duration": 3,
    "start_time": "2024-11-07T14:01:25.497Z"
   },
   {
    "duration": 2,
    "start_time": "2024-11-07T14:01:28.413Z"
   },
   {
    "duration": 6,
    "start_time": "2024-11-07T14:01:31.765Z"
   },
   {
    "duration": 673,
    "start_time": "2024-11-07T14:01:34.120Z"
   },
   {
    "duration": 16,
    "start_time": "2024-11-07T14:01:53.012Z"
   },
   {
    "duration": 4,
    "start_time": "2024-11-07T14:01:55.659Z"
   },
   {
    "duration": 473,
    "start_time": "2024-11-07T14:01:57.226Z"
   },
   {
    "duration": 3,
    "start_time": "2024-11-07T14:02:33.955Z"
   },
   {
    "duration": 15,
    "start_time": "2024-11-07T14:02:35.092Z"
   },
   {
    "duration": 16,
    "start_time": "2024-11-07T14:02:36.056Z"
   },
   {
    "duration": 15,
    "start_time": "2024-11-07T14:02:37.381Z"
   },
   {
    "duration": 3,
    "start_time": "2024-11-07T14:02:39.116Z"
   },
   {
    "duration": 5,
    "start_time": "2024-11-07T14:02:39.642Z"
   },
   {
    "duration": 3,
    "start_time": "2024-11-07T14:02:40.357Z"
   },
   {
    "duration": 4,
    "start_time": "2024-11-07T14:02:41.790Z"
   },
   {
    "duration": 428,
    "start_time": "2024-11-07T14:02:42.597Z"
   },
   {
    "duration": 3,
    "start_time": "2024-11-07T14:02:43.902Z"
   },
   {
    "duration": 453,
    "start_time": "2024-11-07T14:02:44.646Z"
   },
   {
    "duration": 17,
    "start_time": "2024-11-07T14:03:02.534Z"
   },
   {
    "duration": 16,
    "start_time": "2024-11-07T14:03:10.169Z"
   },
   {
    "duration": 16,
    "start_time": "2024-11-07T14:03:11.401Z"
   },
   {
    "duration": 16,
    "start_time": "2024-11-07T14:03:16.567Z"
   },
   {
    "duration": 13,
    "start_time": "2024-11-07T14:03:32.942Z"
   },
   {
    "duration": 3,
    "start_time": "2024-11-07T14:04:06.698Z"
   },
   {
    "duration": 2,
    "start_time": "2024-11-07T14:04:09.481Z"
   },
   {
    "duration": 4,
    "start_time": "2024-11-07T14:04:13.406Z"
   },
   {
    "duration": 433,
    "start_time": "2024-11-07T14:04:15.481Z"
   },
   {
    "duration": 660,
    "start_time": "2024-11-07T14:04:28.040Z"
   },
   {
    "duration": 4,
    "start_time": "2024-11-07T14:04:38.571Z"
   },
   {
    "duration": 17,
    "start_time": "2024-11-07T14:04:41.096Z"
   },
   {
    "duration": 3,
    "start_time": "2024-11-07T14:04:59.806Z"
   },
   {
    "duration": 449,
    "start_time": "2024-11-07T14:05:02.329Z"
   },
   {
    "duration": 3,
    "start_time": "2024-11-07T14:05:44.122Z"
   },
   {
    "duration": 2,
    "start_time": "2024-11-07T14:05:46.852Z"
   },
   {
    "duration": 5,
    "start_time": "2024-11-07T14:05:47.244Z"
   },
   {
    "duration": 2,
    "start_time": "2024-11-07T14:05:48.010Z"
   },
   {
    "duration": 4,
    "start_time": "2024-11-07T14:05:48.991Z"
   },
   {
    "duration": 444,
    "start_time": "2024-11-07T14:05:49.447Z"
   },
   {
    "duration": 684,
    "start_time": "2024-11-07T14:05:50.412Z"
   },
   {
    "duration": 4,
    "start_time": "2024-11-07T14:05:58.578Z"
   },
   {
    "duration": 557,
    "start_time": "2024-11-07T14:06:00.518Z"
   },
   {
    "duration": 443,
    "start_time": "2024-11-07T14:07:10.234Z"
   },
   {
    "duration": 18,
    "start_time": "2024-11-07T14:07:28.561Z"
   },
   {
    "duration": 18,
    "start_time": "2024-11-07T14:08:19.369Z"
   },
   {
    "duration": 3,
    "start_time": "2024-11-07T14:08:34.556Z"
   },
   {
    "duration": 3,
    "start_time": "2024-11-07T14:08:34.928Z"
   },
   {
    "duration": 2,
    "start_time": "2024-11-07T14:08:35.335Z"
   },
   {
    "duration": 3,
    "start_time": "2024-11-07T14:08:36.236Z"
   },
   {
    "duration": 443,
    "start_time": "2024-11-07T14:08:36.843Z"
   },
   {
    "duration": 461,
    "start_time": "2024-11-07T14:08:37.715Z"
   },
   {
    "duration": 695,
    "start_time": "2024-11-07T14:10:37.023Z"
   },
   {
    "duration": 672,
    "start_time": "2024-11-07T14:10:53.629Z"
   },
   {
    "duration": 3,
    "start_time": "2024-11-07T14:11:56.283Z"
   },
   {
    "duration": 7,
    "start_time": "2024-11-07T14:11:56.809Z"
   },
   {
    "duration": 2,
    "start_time": "2024-11-07T14:12:01.552Z"
   },
   {
    "duration": 4,
    "start_time": "2024-11-07T14:12:02.623Z"
   },
   {
    "duration": 460,
    "start_time": "2024-11-07T14:12:03.377Z"
   },
   {
    "duration": 674,
    "start_time": "2024-11-07T14:12:05.422Z"
   },
   {
    "duration": 3,
    "start_time": "2024-11-07T14:14:14.397Z"
   },
   {
    "duration": 3,
    "start_time": "2024-11-07T14:14:49.542Z"
   },
   {
    "duration": 3,
    "start_time": "2024-11-07T14:14:52.412Z"
   },
   {
    "duration": 4,
    "start_time": "2024-11-07T14:14:54.755Z"
   },
   {
    "duration": 4,
    "start_time": "2024-11-07T14:14:56.914Z"
   },
   {
    "duration": 4,
    "start_time": "2024-11-07T14:14:57.481Z"
   },
   {
    "duration": 25,
    "start_time": "2024-11-07T14:14:59.435Z"
   },
   {
    "duration": 3,
    "start_time": "2024-11-07T14:15:49.872Z"
   },
   {
    "duration": 3,
    "start_time": "2024-11-07T14:15:51.849Z"
   },
   {
    "duration": 3,
    "start_time": "2024-11-07T14:15:54.089Z"
   },
   {
    "duration": 4,
    "start_time": "2024-11-07T14:15:55.787Z"
   },
   {
    "duration": 436,
    "start_time": "2024-11-07T14:15:58.043Z"
   },
   {
    "duration": 715,
    "start_time": "2024-11-07T14:16:01.283Z"
   },
   {
    "duration": 1317,
    "start_time": "2024-11-07T14:19:22.340Z"
   },
   {
    "duration": 7,
    "start_time": "2024-11-07T14:21:46.557Z"
   },
   {
    "duration": 1326,
    "start_time": "2024-11-07T14:22:16.128Z"
   },
   {
    "duration": 1332,
    "start_time": "2024-11-07T14:22:31.899Z"
   },
   {
    "duration": 1312,
    "start_time": "2024-11-07T14:22:48.716Z"
   },
   {
    "duration": 3,
    "start_time": "2024-11-07T14:35:47.413Z"
   },
   {
    "duration": 3,
    "start_time": "2024-11-07T14:37:09.312Z"
   },
   {
    "duration": 3,
    "start_time": "2024-11-07T14:38:04.098Z"
   },
   {
    "duration": 3,
    "start_time": "2024-11-07T14:39:12.438Z"
   },
   {
    "duration": 2,
    "start_time": "2024-11-07T14:39:16.153Z"
   },
   {
    "duration": 3,
    "start_time": "2024-11-07T14:39:16.548Z"
   },
   {
    "duration": 2,
    "start_time": "2024-11-07T14:39:16.796Z"
   },
   {
    "duration": 4,
    "start_time": "2024-11-07T14:39:17.991Z"
   },
   {
    "duration": 431,
    "start_time": "2024-11-07T14:39:18.476Z"
   },
   {
    "duration": 664,
    "start_time": "2024-11-07T14:39:19.066Z"
   },
   {
    "duration": 6,
    "start_time": "2024-11-07T16:43:18.136Z"
   },
   {
    "duration": 3,
    "start_time": "2024-11-07T16:50:47.032Z"
   },
   {
    "duration": 3,
    "start_time": "2024-11-07T16:51:43.382Z"
   },
   {
    "duration": 3,
    "start_time": "2024-11-07T16:51:47.254Z"
   },
   {
    "duration": 4,
    "start_time": "2024-11-07T16:52:05.894Z"
   },
   {
    "duration": 38,
    "start_time": "2024-11-07T16:52:47.949Z"
   },
   {
    "duration": 36,
    "start_time": "2024-11-07T16:52:48.236Z"
   },
   {
    "duration": 40,
    "start_time": "2024-11-07T16:52:49.856Z"
   },
   {
    "duration": 2,
    "start_time": "2024-11-07T16:53:08.585Z"
   },
   {
    "duration": 45,
    "start_time": "2024-11-07T16:53:15.401Z"
   },
   {
    "duration": 2,
    "start_time": "2024-11-07T16:53:57.001Z"
   },
   {
    "duration": 43,
    "start_time": "2024-11-07T16:54:08.441Z"
   },
   {
    "duration": 1307,
    "start_time": "2024-11-07T16:58:34.410Z"
   },
   {
    "duration": 28,
    "start_time": "2024-11-07T16:58:44.171Z"
   },
   {
    "duration": 25,
    "start_time": "2024-11-07T16:58:46.312Z"
   },
   {
    "duration": 3,
    "start_time": "2024-11-07T16:58:55.314Z"
   },
   {
    "duration": 83,
    "start_time": "2024-11-07T16:58:55.978Z"
   },
   {
    "duration": 33,
    "start_time": "2024-11-07T16:58:56.287Z"
   },
   {
    "duration": 11,
    "start_time": "2024-11-07T16:58:56.600Z"
   },
   {
    "duration": 10,
    "start_time": "2024-11-07T16:58:56.948Z"
   },
   {
    "duration": 28,
    "start_time": "2024-11-07T16:58:57.290Z"
   },
   {
    "duration": 256,
    "start_time": "2024-11-07T16:58:57.689Z"
   },
   {
    "duration": 502,
    "start_time": "2024-11-07T16:58:57.990Z"
   },
   {
    "duration": 85,
    "start_time": "2024-11-07T16:58:58.494Z"
   },
   {
    "duration": 30,
    "start_time": "2024-11-07T16:58:58.657Z"
   },
   {
    "duration": 11,
    "start_time": "2024-11-07T16:58:58.982Z"
   },
   {
    "duration": 12,
    "start_time": "2024-11-07T16:58:59.789Z"
   },
   {
    "duration": 26,
    "start_time": "2024-11-07T16:59:00.761Z"
   },
   {
    "duration": 243,
    "start_time": "2024-11-07T16:59:01.428Z"
   },
   {
    "duration": 498,
    "start_time": "2024-11-07T16:59:02.553Z"
   },
   {
    "duration": 80,
    "start_time": "2024-11-07T16:59:03.334Z"
   },
   {
    "duration": 34,
    "start_time": "2024-11-07T16:59:04.378Z"
   },
   {
    "duration": 11,
    "start_time": "2024-11-07T16:59:05.229Z"
   },
   {
    "duration": 34,
    "start_time": "2024-11-07T16:59:07.152Z"
   },
   {
    "duration": 10,
    "start_time": "2024-11-07T16:59:47.880Z"
   },
   {
    "duration": 1317,
    "start_time": "2024-11-07T17:00:00.192Z"
   },
   {
    "duration": 14,
    "start_time": "2024-11-07T17:00:12.631Z"
   },
   {
    "duration": 14,
    "start_time": "2024-11-07T17:00:14.033Z"
   },
   {
    "duration": 3,
    "start_time": "2024-11-07T17:00:16.348Z"
   },
   {
    "duration": 3,
    "start_time": "2024-11-07T17:00:17.833Z"
   },
   {
    "duration": 3,
    "start_time": "2024-11-07T17:00:18.631Z"
   },
   {
    "duration": 43,
    "start_time": "2024-11-07T17:00:23.418Z"
   },
   {
    "duration": 44,
    "start_time": "2024-11-07T17:00:24.546Z"
   },
   {
    "duration": 45,
    "start_time": "2024-11-07T17:00:26.241Z"
   },
   {
    "duration": 1310,
    "start_time": "2024-11-07T17:00:33.700Z"
   },
   {
    "duration": 6,
    "start_time": "2024-11-07T17:43:27.384Z"
   },
   {
    "duration": 15,
    "start_time": "2024-11-07T17:43:41.090Z"
   },
   {
    "duration": 3,
    "start_time": "2024-11-07T17:45:27.734Z"
   },
   {
    "duration": 5,
    "start_time": "2024-11-07T17:45:43.173Z"
   },
   {
    "duration": 18,
    "start_time": "2024-11-07T17:45:58.646Z"
   },
   {
    "duration": 28,
    "start_time": "2024-11-07T17:46:08.049Z"
   },
   {
    "duration": 5,
    "start_time": "2024-11-07T17:46:36.259Z"
   },
   {
    "duration": 6,
    "start_time": "2024-11-07T17:46:51.364Z"
   },
   {
    "duration": 5,
    "start_time": "2024-11-07T17:46:58.306Z"
   },
   {
    "duration": 5,
    "start_time": "2024-11-07T17:47:16.006Z"
   },
   {
    "duration": 3,
    "start_time": "2024-11-07T17:47:27.651Z"
   },
   {
    "duration": 5,
    "start_time": "2024-11-07T17:47:41.651Z"
   },
   {
    "duration": 4,
    "start_time": "2024-11-07T17:47:54.533Z"
   },
   {
    "duration": 4,
    "start_time": "2024-11-07T17:48:10.948Z"
   },
   {
    "duration": 3050,
    "start_time": "2024-11-07T17:48:44.277Z"
   },
   {
    "duration": 4,
    "start_time": "2024-11-07T17:50:57.493Z"
   },
   {
    "duration": 4,
    "start_time": "2024-11-07T17:50:57.902Z"
   },
   {
    "duration": 5,
    "start_time": "2024-11-07T17:51:00.618Z"
   },
   {
    "duration": 3,
    "start_time": "2024-11-07T17:51:02.354Z"
   },
   {
    "duration": 2953,
    "start_time": "2024-11-07T17:51:02.543Z"
   },
   {
    "duration": 3022,
    "start_time": "2024-11-07T17:51:28.887Z"
   },
   {
    "duration": 14,
    "start_time": "2024-11-07T17:51:36.961Z"
   },
   {
    "duration": 14,
    "start_time": "2024-11-07T17:51:46.451Z"
   },
   {
    "duration": 13,
    "start_time": "2024-11-07T17:51:49.418Z"
   },
   {
    "duration": 17,
    "start_time": "2024-11-07T17:59:09.397Z"
   },
   {
    "duration": 14,
    "start_time": "2024-11-07T17:59:11.476Z"
   },
   {
    "duration": 14,
    "start_time": "2024-11-07T17:59:12.470Z"
   },
   {
    "duration": 2,
    "start_time": "2024-11-07T18:01:02.795Z"
   },
   {
    "duration": 3,
    "start_time": "2024-11-07T18:01:22.088Z"
   },
   {
    "duration": 5,
    "start_time": "2024-11-07T18:01:31.532Z"
   },
   {
    "duration": 15,
    "start_time": "2024-11-07T18:01:46.441Z"
   },
   {
    "duration": 15,
    "start_time": "2024-11-07T18:01:52.567Z"
   },
   {
    "duration": 6,
    "start_time": "2024-11-07T18:01:54.485Z"
   },
   {
    "duration": 5,
    "start_time": "2024-11-07T18:01:55.374Z"
   },
   {
    "duration": 5,
    "start_time": "2024-11-07T18:01:56.185Z"
   },
   {
    "duration": 2,
    "start_time": "2024-11-07T18:01:56.697Z"
   },
   {
    "duration": 2986,
    "start_time": "2024-11-07T18:01:57.847Z"
   },
   {
    "duration": 12,
    "start_time": "2024-11-07T18:02:00.835Z"
   },
   {
    "duration": 2873,
    "start_time": "2024-11-07T18:03:01.974Z"
   },
   {
    "duration": 3,
    "start_time": "2024-11-07T18:05:53.037Z"
   },
   {
    "duration": 5,
    "start_time": "2024-11-07T18:06:19.977Z"
   },
   {
    "duration": 2,
    "start_time": "2024-11-07T18:06:30.283Z"
   },
   {
    "duration": 3,
    "start_time": "2024-11-07T18:06:51.388Z"
   },
   {
    "duration": 3148,
    "start_time": "2024-11-07T18:08:04.600Z"
   },
   {
    "duration": 3003,
    "start_time": "2024-11-07T18:09:08.266Z"
   },
   {
    "duration": 3020,
    "start_time": "2024-11-07T18:10:07.261Z"
   }
  ],
  "kernelspec": {
   "display_name": "Python 3 (ipykernel)",
   "language": "python",
   "name": "python3"
  },
  "language_info": {
   "codemirror_mode": {
    "name": "ipython",
    "version": 3
   },
   "file_extension": ".py",
   "mimetype": "text/x-python",
   "name": "python",
   "nbconvert_exporter": "python",
   "pygments_lexer": "ipython3",
   "version": "3.9.19"
  },
  "toc": {
   "base_numbering": 1,
   "nav_menu": {},
   "number_sections": true,
   "sideBar": true,
   "skip_h1_title": true,
   "title_cell": "Table of Contents",
   "title_sidebar": "Contents",
   "toc_cell": false,
   "toc_position": {},
   "toc_section_display": true,
   "toc_window_display": false
  }
 },
 "nbformat": 4,
 "nbformat_minor": 2
}
