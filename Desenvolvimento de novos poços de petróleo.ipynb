{
 "cells": [
  {
   "cell_type": "markdown",
   "metadata": {},
   "source": [
    "# Visão geral do projeto\n"
   ]
  },
  {
   "cell_type": "markdown",
   "metadata": {},
   "source": [
    "Você trabalha na empresa de mineração OilyGiant. Sua tarefa é encontrar os melhores lugares para o **Desenvolvimento de novos poços de petróleo**.\n",
    "\n",
    "Para concluir essa tarefa, você vai precisar executar as seguintes etapas:\n",
    "\n",
    "+ Ler os arquivos com parâmetros coletados de poços de petróleo na região selecionada: a quantidade de petróleo e o volume de reservas;\n",
    "+ Construir um modelo para predizer o volume de reservas em novos poços;\n",
    "+ Escolher os poços de petróleo que têm os maiores valores estimados;\n",
    "+ Escolher a região com o maior lucro total para os poços de petróleo selecionados.\n",
    "\n",
    "Você tem dados sobre amostras de petróleo de três regiões.\n",
    "Os parâmetros de cada poço de petróleo na região já são conhecidos. Construa um modelo que te ajudará a escolher a região com a margem de lucro mais alta. Utilize a técnica de Bootstrapping para analisar lucro potencial e riscos."
   ]
  },
  {
   "cell_type": "markdown",
   "metadata": {},
   "source": [
    "# Descrição dos dados"
   ]
  },
  {
   "cell_type": "markdown",
   "metadata": {},
   "source": [
    "Os dados de exploração geológica para as três regiões estão armazenados em arquivos:\n",
    "\n",
    "+ geo_data_0 conjunto de dados\n",
    "+ geo_data_1 conjunto de dados\n",
    "+ geo_data_2 conjunto de dados\n",
    "+ id — identificador unívoco de poço de petróleo\n",
    "+ f0, f1, f2 — três características de pontos (seu significado específico não é importante, mas as próprias características são significativas)\n",
    "+ product — volume de reservas no poço de petróleo (milhares de barris)."
   ]
  },
  {
   "cell_type": "markdown",
   "metadata": {},
   "source": [
    "# Condições"
   ]
  },
  {
   "cell_type": "markdown",
   "metadata": {},
   "source": [
    "+ Apenas regressão linear deve ser usada para o treinamento do modelo.\n",
    "+ Ao explorar a região, um estudo de 500 pontos é realizado e os melhores 200 pontos são selecionados para calcular o lucro.\n",
    "+ O orçamento para o desenvolvimento de 200 poços de petróleo é 100 milhões de dólares.\n",
    "+ Um barril de petróleo bruto traz 4.5 dólares de receita. A receita de uma unidade de produto é 4.500 dólares (o volume de reservas está em milhares de barris).\n",
    "+ Depois de ter avaliado os riscos, mantenha apenas as regiões com o risco de perdas inferior a 2.5%. Entre aquelas que se enquadram no critério, você precisa selecionar a região com o lucro médio mais alto.\n",
    "+ Os dados são sintéticos e não incluem nenhum detalhe de contratos ou características de poços."
   ]
  },
  {
   "cell_type": "markdown",
   "metadata": {},
   "source": [
    "## Bibliotecas utilizadas"
   ]
  },
  {
   "cell_type": "code",
   "execution_count": 7,
   "metadata": {},
   "outputs": [],
   "source": [
    "import pandas as pd\n",
    "import numpy as np\n",
    "import math\n",
    "import matplotlib.pyplot as plt\n",
    "from sklearn.model_selection import train_test_split\n",
    "from sklearn.metrics import mean_squared_error\n",
    "from sklearn.linear_model import LinearRegression\n"
   ]
  },
  {
   "cell_type": "markdown",
   "metadata": {},
   "source": [
    "## Importando os Dados"
   ]
  },
  {
   "cell_type": "markdown",
   "metadata": {},
   "source": [
    "### Importando os Dados geodata 0"
   ]
  },
  {
   "cell_type": "code",
   "execution_count": 8,
   "metadata": {},
   "outputs": [
    {
     "data": {
      "text/html": [
       "<div>\n",
       "<style scoped>\n",
       "    .dataframe tbody tr th:only-of-type {\n",
       "        vertical-align: middle;\n",
       "    }\n",
       "\n",
       "    .dataframe tbody tr th {\n",
       "        vertical-align: top;\n",
       "    }\n",
       "\n",
       "    .dataframe thead th {\n",
       "        text-align: right;\n",
       "    }\n",
       "</style>\n",
       "<table border=\"1\" class=\"dataframe\">\n",
       "  <thead>\n",
       "    <tr style=\"text-align: right;\">\n",
       "      <th></th>\n",
       "      <th>id</th>\n",
       "      <th>f0</th>\n",
       "      <th>f1</th>\n",
       "      <th>f2</th>\n",
       "      <th>product</th>\n",
       "    </tr>\n",
       "  </thead>\n",
       "  <tbody>\n",
       "    <tr>\n",
       "      <th>0</th>\n",
       "      <td>txEyH</td>\n",
       "      <td>0.705745</td>\n",
       "      <td>-0.497823</td>\n",
       "      <td>1.221170</td>\n",
       "      <td>105.280062</td>\n",
       "    </tr>\n",
       "    <tr>\n",
       "      <th>1</th>\n",
       "      <td>2acmU</td>\n",
       "      <td>1.334711</td>\n",
       "      <td>-0.340164</td>\n",
       "      <td>4.365080</td>\n",
       "      <td>73.037750</td>\n",
       "    </tr>\n",
       "    <tr>\n",
       "      <th>2</th>\n",
       "      <td>409Wp</td>\n",
       "      <td>1.022732</td>\n",
       "      <td>0.151990</td>\n",
       "      <td>1.419926</td>\n",
       "      <td>85.265647</td>\n",
       "    </tr>\n",
       "    <tr>\n",
       "      <th>3</th>\n",
       "      <td>iJLyR</td>\n",
       "      <td>-0.032172</td>\n",
       "      <td>0.139033</td>\n",
       "      <td>2.978566</td>\n",
       "      <td>168.620776</td>\n",
       "    </tr>\n",
       "    <tr>\n",
       "      <th>4</th>\n",
       "      <td>Xdl7t</td>\n",
       "      <td>1.988431</td>\n",
       "      <td>0.155413</td>\n",
       "      <td>4.751769</td>\n",
       "      <td>154.036647</td>\n",
       "    </tr>\n",
       "  </tbody>\n",
       "</table>\n",
       "</div>"
      ],
      "text/plain": [
       "      id        f0        f1        f2     product\n",
       "0  txEyH  0.705745 -0.497823  1.221170  105.280062\n",
       "1  2acmU  1.334711 -0.340164  4.365080   73.037750\n",
       "2  409Wp  1.022732  0.151990  1.419926   85.265647\n",
       "3  iJLyR -0.032172  0.139033  2.978566  168.620776\n",
       "4  Xdl7t  1.988431  0.155413  4.751769  154.036647"
      ]
     },
     "execution_count": 8,
     "metadata": {},
     "output_type": "execute_result"
    }
   ],
   "source": [
    "#local_0\n",
    "df_0 = pd.read_csv('geo_data_0.csv')\n",
    "df_0.head()"
   ]
  },
  {
   "cell_type": "markdown",
   "metadata": {},
   "source": [
    "#### informação Dados geodata 0"
   ]
  },
  {
   "cell_type": "code",
   "execution_count": 9,
   "metadata": {},
   "outputs": [
    {
     "name": "stdout",
     "output_type": "stream",
     "text": [
      "<class 'pandas.core.frame.DataFrame'>\n",
      "RangeIndex: 100000 entries, 0 to 99999\n",
      "Data columns (total 5 columns):\n",
      " #   Column   Non-Null Count   Dtype  \n",
      "---  ------   --------------   -----  \n",
      " 0   id       100000 non-null  object \n",
      " 1   f0       100000 non-null  float64\n",
      " 2   f1       100000 non-null  float64\n",
      " 3   f2       100000 non-null  float64\n",
      " 4   product  100000 non-null  float64\n",
      "dtypes: float64(4), object(1)\n",
      "memory usage: 3.8+ MB\n"
     ]
    }
   ],
   "source": [
    "df_0.info()"
   ]
  },
  {
   "cell_type": "markdown",
   "metadata": {},
   "source": [
    "### Importando os Dados geodata 1"
   ]
  },
  {
   "cell_type": "code",
   "execution_count": 10,
   "metadata": {},
   "outputs": [
    {
     "data": {
      "text/html": [
       "<div>\n",
       "<style scoped>\n",
       "    .dataframe tbody tr th:only-of-type {\n",
       "        vertical-align: middle;\n",
       "    }\n",
       "\n",
       "    .dataframe tbody tr th {\n",
       "        vertical-align: top;\n",
       "    }\n",
       "\n",
       "    .dataframe thead th {\n",
       "        text-align: right;\n",
       "    }\n",
       "</style>\n",
       "<table border=\"1\" class=\"dataframe\">\n",
       "  <thead>\n",
       "    <tr style=\"text-align: right;\">\n",
       "      <th></th>\n",
       "      <th>id</th>\n",
       "      <th>f0</th>\n",
       "      <th>f1</th>\n",
       "      <th>f2</th>\n",
       "      <th>product</th>\n",
       "    </tr>\n",
       "  </thead>\n",
       "  <tbody>\n",
       "    <tr>\n",
       "      <th>0</th>\n",
       "      <td>kBEdx</td>\n",
       "      <td>-15.001348</td>\n",
       "      <td>-8.276000</td>\n",
       "      <td>-0.005876</td>\n",
       "      <td>3.179103</td>\n",
       "    </tr>\n",
       "    <tr>\n",
       "      <th>1</th>\n",
       "      <td>62mP7</td>\n",
       "      <td>14.272088</td>\n",
       "      <td>-3.475083</td>\n",
       "      <td>0.999183</td>\n",
       "      <td>26.953261</td>\n",
       "    </tr>\n",
       "    <tr>\n",
       "      <th>2</th>\n",
       "      <td>vyE1P</td>\n",
       "      <td>6.263187</td>\n",
       "      <td>-5.948386</td>\n",
       "      <td>5.001160</td>\n",
       "      <td>134.766305</td>\n",
       "    </tr>\n",
       "    <tr>\n",
       "      <th>3</th>\n",
       "      <td>KcrkZ</td>\n",
       "      <td>-13.081196</td>\n",
       "      <td>-11.506057</td>\n",
       "      <td>4.999415</td>\n",
       "      <td>137.945408</td>\n",
       "    </tr>\n",
       "    <tr>\n",
       "      <th>4</th>\n",
       "      <td>AHL4O</td>\n",
       "      <td>12.702195</td>\n",
       "      <td>-8.147433</td>\n",
       "      <td>5.004363</td>\n",
       "      <td>134.766305</td>\n",
       "    </tr>\n",
       "  </tbody>\n",
       "</table>\n",
       "</div>"
      ],
      "text/plain": [
       "      id         f0         f1        f2     product\n",
       "0  kBEdx -15.001348  -8.276000 -0.005876    3.179103\n",
       "1  62mP7  14.272088  -3.475083  0.999183   26.953261\n",
       "2  vyE1P   6.263187  -5.948386  5.001160  134.766305\n",
       "3  KcrkZ -13.081196 -11.506057  4.999415  137.945408\n",
       "4  AHL4O  12.702195  -8.147433  5.004363  134.766305"
      ]
     },
     "execution_count": 10,
     "metadata": {},
     "output_type": "execute_result"
    }
   ],
   "source": [
    "#Local_1\n",
    "df_1 = pd.read_csv('geo_data_1.csv')\n",
    "df_1.head()"
   ]
  },
  {
   "cell_type": "markdown",
   "metadata": {},
   "source": [
    "#### informação Dados geodata 1"
   ]
  },
  {
   "cell_type": "code",
   "execution_count": 11,
   "metadata": {},
   "outputs": [
    {
     "name": "stdout",
     "output_type": "stream",
     "text": [
      "<class 'pandas.core.frame.DataFrame'>\n",
      "RangeIndex: 100000 entries, 0 to 99999\n",
      "Data columns (total 5 columns):\n",
      " #   Column   Non-Null Count   Dtype  \n",
      "---  ------   --------------   -----  \n",
      " 0   id       100000 non-null  object \n",
      " 1   f0       100000 non-null  float64\n",
      " 2   f1       100000 non-null  float64\n",
      " 3   f2       100000 non-null  float64\n",
      " 4   product  100000 non-null  float64\n",
      "dtypes: float64(4), object(1)\n",
      "memory usage: 3.8+ MB\n"
     ]
    }
   ],
   "source": [
    "df_1.info()"
   ]
  },
  {
   "cell_type": "markdown",
   "metadata": {},
   "source": [
    "### Importando os Dados geodata 2"
   ]
  },
  {
   "cell_type": "code",
   "execution_count": 12,
   "metadata": {},
   "outputs": [
    {
     "data": {
      "text/html": [
       "<div>\n",
       "<style scoped>\n",
       "    .dataframe tbody tr th:only-of-type {\n",
       "        vertical-align: middle;\n",
       "    }\n",
       "\n",
       "    .dataframe tbody tr th {\n",
       "        vertical-align: top;\n",
       "    }\n",
       "\n",
       "    .dataframe thead th {\n",
       "        text-align: right;\n",
       "    }\n",
       "</style>\n",
       "<table border=\"1\" class=\"dataframe\">\n",
       "  <thead>\n",
       "    <tr style=\"text-align: right;\">\n",
       "      <th></th>\n",
       "      <th>id</th>\n",
       "      <th>f0</th>\n",
       "      <th>f1</th>\n",
       "      <th>f2</th>\n",
       "      <th>product</th>\n",
       "    </tr>\n",
       "  </thead>\n",
       "  <tbody>\n",
       "    <tr>\n",
       "      <th>0</th>\n",
       "      <td>fwXo0</td>\n",
       "      <td>-1.146987</td>\n",
       "      <td>0.963328</td>\n",
       "      <td>-0.828965</td>\n",
       "      <td>27.758673</td>\n",
       "    </tr>\n",
       "    <tr>\n",
       "      <th>1</th>\n",
       "      <td>WJtFt</td>\n",
       "      <td>0.262778</td>\n",
       "      <td>0.269839</td>\n",
       "      <td>-2.530187</td>\n",
       "      <td>56.069697</td>\n",
       "    </tr>\n",
       "    <tr>\n",
       "      <th>2</th>\n",
       "      <td>ovLUW</td>\n",
       "      <td>0.194587</td>\n",
       "      <td>0.289035</td>\n",
       "      <td>-5.586433</td>\n",
       "      <td>62.871910</td>\n",
       "    </tr>\n",
       "    <tr>\n",
       "      <th>3</th>\n",
       "      <td>q6cA6</td>\n",
       "      <td>2.236060</td>\n",
       "      <td>-0.553760</td>\n",
       "      <td>0.930038</td>\n",
       "      <td>114.572842</td>\n",
       "    </tr>\n",
       "    <tr>\n",
       "      <th>4</th>\n",
       "      <td>WPMUX</td>\n",
       "      <td>-0.515993</td>\n",
       "      <td>1.716266</td>\n",
       "      <td>5.899011</td>\n",
       "      <td>149.600746</td>\n",
       "    </tr>\n",
       "  </tbody>\n",
       "</table>\n",
       "</div>"
      ],
      "text/plain": [
       "      id        f0        f1        f2     product\n",
       "0  fwXo0 -1.146987  0.963328 -0.828965   27.758673\n",
       "1  WJtFt  0.262778  0.269839 -2.530187   56.069697\n",
       "2  ovLUW  0.194587  0.289035 -5.586433   62.871910\n",
       "3  q6cA6  2.236060 -0.553760  0.930038  114.572842\n",
       "4  WPMUX -0.515993  1.716266  5.899011  149.600746"
      ]
     },
     "execution_count": 12,
     "metadata": {},
     "output_type": "execute_result"
    }
   ],
   "source": [
    "#Local_2\n",
    "df_2 = pd.read_csv('geo_data_2.csv')\n",
    "df_2.head()"
   ]
  },
  {
   "cell_type": "markdown",
   "metadata": {},
   "source": [
    "#### informação Dados geodata 2"
   ]
  },
  {
   "cell_type": "code",
   "execution_count": 13,
   "metadata": {},
   "outputs": [
    {
     "name": "stdout",
     "output_type": "stream",
     "text": [
      "<class 'pandas.core.frame.DataFrame'>\n",
      "RangeIndex: 100000 entries, 0 to 99999\n",
      "Data columns (total 5 columns):\n",
      " #   Column   Non-Null Count   Dtype  \n",
      "---  ------   --------------   -----  \n",
      " 0   id       100000 non-null  object \n",
      " 1   f0       100000 non-null  float64\n",
      " 2   f1       100000 non-null  float64\n",
      " 3   f2       100000 non-null  float64\n",
      " 4   product  100000 non-null  float64\n",
      "dtypes: float64(4), object(1)\n",
      "memory usage: 3.8+ MB\n"
     ]
    }
   ],
   "source": [
    "df_2.info()"
   ]
  },
  {
   "cell_type": "markdown",
   "metadata": {},
   "source": [
    "## Treinamento do Modelo"
   ]
  },
  {
   "cell_type": "markdown",
   "metadata": {},
   "source": [
    "### Definindo as características do modelo, todas exceto \"Product\" e \"id\""
   ]
  },
  {
   "cell_type": "code",
   "execution_count": 14,
   "metadata": {},
   "outputs": [],
   "source": [
    "features_0 = df_0.drop(['product', 'id'], axis=1)\n",
    "features_1 = df_1.drop(['product', 'id'], axis=1)\n",
    "features_2 = df_2.drop(['product', 'id'], axis=1)\n",
    "\n",
    "# Defininindo os objetivos\n",
    "target_0 = df_0['product']\n",
    "target_1 = df_1['product']\n",
    "target_2 = df_2['product']"
   ]
  },
  {
   "cell_type": "markdown",
   "metadata": {},
   "source": [
    "## Local_0"
   ]
  },
  {
   "cell_type": "markdown",
   "metadata": {},
   "source": [
    "#### Separando os dados para treino e teste, colocando 75% em terinamento e o resto em validdação"
   ]
  },
  {
   "cell_type": "code",
   "execution_count": 15,
   "metadata": {},
   "outputs": [],
   "source": [
    "features_train_0, features_valid_0, target_train_0, target_valid_0 = train_test_split(\n",
    "    features_0,target_0 , test_size=0.25, random_state=12345)"
   ]
  },
  {
   "cell_type": "markdown",
   "metadata": {},
   "source": [
    "#### Conferindo se os dados foram separados corretamente"
   ]
  },
  {
   "cell_type": "code",
   "execution_count": 16,
   "metadata": {},
   "outputs": [
    {
     "name": "stdout",
     "output_type": "stream",
     "text": [
      "Tamanho do conjunto features_train_0: 75.0 %\n",
      "Tamanho do conjunto target_train_0: 75.0 %\n"
     ]
    }
   ],
   "source": [
    "print('Tamanho do conjunto features_train_0:',len(features_train_0)/len(features_0)*100,\"%\")\n",
    "print('Tamanho do conjunto target_train_0:', len(target_train_0)/len(target_0)*100, \"%\")"
   ]
  },
  {
   "cell_type": "markdown",
   "metadata": {},
   "source": [
    "#### Treinando o modelo de Regressão Linear"
   ]
  },
  {
   "cell_type": "code",
   "execution_count": 17,
   "metadata": {},
   "outputs": [],
   "source": [
    "model = LinearRegression()\n",
    "model.fit(features_train_0,target_train_0) \n",
    "predictions_valid_0 = model.predict(features_valid_0)"
   ]
  },
  {
   "cell_type": "markdown",
   "metadata": {},
   "source": [
    "####  Calculando o REQM do conjunto de validação"
   ]
  },
  {
   "cell_type": "code",
   "execution_count": 18,
   "metadata": {},
   "outputs": [
    {
     "name": "stdout",
     "output_type": "stream",
     "text": [
      "O REQM do modelo de regressão linear no conjunto de validação: 37.5794217150813\n"
     ]
    }
   ],
   "source": [
    "result = mean_squared_error(target_valid_0, predictions_valid_0) ** 0.5\n",
    "print(\"O REQM do modelo de regressão linear no conjunto de validação:\", result)"
   ]
  },
  {
   "cell_type": "markdown",
   "metadata": {},
   "source": [
    "#### Calculando o valor médio de reservas da predição"
   ]
  },
  {
   "cell_type": "code",
   "execution_count": 19,
   "metadata": {},
   "outputs": [
    {
     "name": "stdout",
     "output_type": "stream",
     "text": [
      "O valor médio no conjunto de validação do local_0: 92.59256778438035\n"
     ]
    }
   ],
   "source": [
    "med_0 = predictions_valid_0.mean()\n",
    "print(\"O valor médio no conjunto de validação do local_0:\", med_0)"
   ]
  },
  {
   "cell_type": "markdown",
   "metadata": {},
   "source": [
    "#### Salvando as predições e respostas corretas para o conjunto de validação"
   ]
  },
  {
   "cell_type": "code",
   "execution_count": 20,
   "metadata": {},
   "outputs": [
    {
     "data": {
      "text/html": [
       "<div>\n",
       "<style scoped>\n",
       "    .dataframe tbody tr th:only-of-type {\n",
       "        vertical-align: middle;\n",
       "    }\n",
       "\n",
       "    .dataframe tbody tr th {\n",
       "        vertical-align: top;\n",
       "    }\n",
       "\n",
       "    .dataframe thead th {\n",
       "        text-align: right;\n",
       "    }\n",
       "</style>\n",
       "<table border=\"1\" class=\"dataframe\">\n",
       "  <thead>\n",
       "    <tr style=\"text-align: right;\">\n",
       "      <th></th>\n",
       "      <th>target_valid</th>\n",
       "      <th>predictions_valid</th>\n",
       "    </tr>\n",
       "  </thead>\n",
       "  <tbody>\n",
       "    <tr>\n",
       "      <th>71751</th>\n",
       "      <td>10.038645</td>\n",
       "      <td>95.894952</td>\n",
       "    </tr>\n",
       "    <tr>\n",
       "      <th>80493</th>\n",
       "      <td>114.551489</td>\n",
       "      <td>77.572583</td>\n",
       "    </tr>\n",
       "    <tr>\n",
       "      <th>2655</th>\n",
       "      <td>132.603635</td>\n",
       "      <td>77.892640</td>\n",
       "    </tr>\n",
       "    <tr>\n",
       "      <th>53233</th>\n",
       "      <td>169.072125</td>\n",
       "      <td>90.175134</td>\n",
       "    </tr>\n",
       "    <tr>\n",
       "      <th>91141</th>\n",
       "      <td>122.325180</td>\n",
       "      <td>70.510088</td>\n",
       "    </tr>\n",
       "    <tr>\n",
       "      <th>9539</th>\n",
       "      <td>37.735331</td>\n",
       "      <td>69.127076</td>\n",
       "    </tr>\n",
       "    <tr>\n",
       "      <th>8482</th>\n",
       "      <td>139.227191</td>\n",
       "      <td>125.106759</td>\n",
       "    </tr>\n",
       "    <tr>\n",
       "      <th>30284</th>\n",
       "      <td>72.491987</td>\n",
       "      <td>87.643849</td>\n",
       "    </tr>\n",
       "    <tr>\n",
       "      <th>66393</th>\n",
       "      <td>11.465993</td>\n",
       "      <td>86.035871</td>\n",
       "    </tr>\n",
       "    <tr>\n",
       "      <th>99584</th>\n",
       "      <td>110.562031</td>\n",
       "      <td>98.655311</td>\n",
       "    </tr>\n",
       "  </tbody>\n",
       "</table>\n",
       "</div>"
      ],
      "text/plain": [
       "       target_valid  predictions_valid\n",
       "71751     10.038645          95.894952\n",
       "80493    114.551489          77.572583\n",
       "2655     132.603635          77.892640\n",
       "53233    169.072125          90.175134\n",
       "91141    122.325180          70.510088\n",
       "9539      37.735331          69.127076\n",
       "8482     139.227191         125.106759\n",
       "30284     72.491987          87.643849\n",
       "66393     11.465993          86.035871\n",
       "99584    110.562031          98.655311"
      ]
     },
     "execution_count": 20,
     "metadata": {},
     "output_type": "execute_result"
    }
   ],
   "source": [
    "valid_0 = pd.DataFrame({'target_valid': target_valid_0, 'predictions_valid': predictions_valid_0})\n",
    "valid_0.head(10)"
   ]
  },
  {
   "cell_type": "markdown",
   "metadata": {},
   "source": [
    "O REQM (Erro Quadrático Médio) do modelo de regressão linear no conjunto de validação está acima de 0. No entanto, ao compará-lo com o valor médio do nosso conjunto de validação, podemos considerar o valor do REQM aceitável, pois a média é quase três vezes maior que a diferença do REQM."
   ]
  },
  {
   "cell_type": "markdown",
   "metadata": {},
   "source": [
    "### Local_1"
   ]
  },
  {
   "cell_type": "markdown",
   "metadata": {},
   "source": [
    "#### Separando os dados para treino e teste, colocando 75% em terinamento e o resto em validdação"
   ]
  },
  {
   "cell_type": "code",
   "execution_count": 21,
   "metadata": {},
   "outputs": [],
   "source": [
    "features_train_1, features_valid_1, target_train_1, target_valid_1= train_test_split(\n",
    "    features_1,target_1 , test_size=0.25, random_state=12345)"
   ]
  },
  {
   "cell_type": "markdown",
   "metadata": {},
   "source": [
    "#### Conferindo se os dados foram separados corretamente"
   ]
  },
  {
   "cell_type": "code",
   "execution_count": 22,
   "metadata": {},
   "outputs": [
    {
     "name": "stdout",
     "output_type": "stream",
     "text": [
      "Tamanho do conjunto features_train_1: 75.0 %\n",
      "Tamanho do conjunto target_train_1: 75.0 %\n"
     ]
    }
   ],
   "source": [
    "print('Tamanho do conjunto features_train_1:',len(features_train_1)/len(features_1)*100,\"%\")\n",
    "print('Tamanho do conjunto target_train_1:', len(target_train_1)/len(target_1)*100, \"%\")"
   ]
  },
  {
   "cell_type": "markdown",
   "metadata": {},
   "source": [
    "#### Treinando o modelo de Regressão Linear Local_1"
   ]
  },
  {
   "cell_type": "code",
   "execution_count": 23,
   "metadata": {},
   "outputs": [],
   "source": [
    "model = LinearRegression()\n",
    "model.fit(features_train_1,target_train_1) \n",
    "predictions_valid_1 = model.predict(features_valid_1)"
   ]
  },
  {
   "cell_type": "markdown",
   "metadata": {},
   "source": [
    "#### Calculando o REQM do conjunto de validação Local_1"
   ]
  },
  {
   "cell_type": "code",
   "execution_count": 24,
   "metadata": {},
   "outputs": [
    {
     "name": "stdout",
     "output_type": "stream",
     "text": [
      "O REQM do modelo de regressão linear no conjunto de validação: 0.8930992867756165\n"
     ]
    }
   ],
   "source": [
    "result = mean_squared_error(target_valid_1, predictions_valid_1) ** 0.5\n",
    "print(\"O REQM do modelo de regressão linear no conjunto de validação:\", result)"
   ]
  },
  {
   "cell_type": "markdown",
   "metadata": {},
   "source": [
    "#### Calculando o valor médio de reservas da predição"
   ]
  },
  {
   "cell_type": "code",
   "execution_count": 25,
   "metadata": {},
   "outputs": [
    {
     "name": "stdout",
     "output_type": "stream",
     "text": [
      "O valor médio no conjunto de validação do local_1: 68.72854689544602\n"
     ]
    }
   ],
   "source": [
    "med_1 = predictions_valid_1.mean()\n",
    "print(\"O valor médio no conjunto de validação do local_1:\", med_1)"
   ]
  },
  {
   "cell_type": "markdown",
   "metadata": {},
   "source": [
    "#### Respostas corretas para o conjunto de validação"
   ]
  },
  {
   "cell_type": "code",
   "execution_count": 26,
   "metadata": {},
   "outputs": [
    {
     "data": {
      "text/html": [
       "<div>\n",
       "<style scoped>\n",
       "    .dataframe tbody tr th:only-of-type {\n",
       "        vertical-align: middle;\n",
       "    }\n",
       "\n",
       "    .dataframe tbody tr th {\n",
       "        vertical-align: top;\n",
       "    }\n",
       "\n",
       "    .dataframe thead th {\n",
       "        text-align: right;\n",
       "    }\n",
       "</style>\n",
       "<table border=\"1\" class=\"dataframe\">\n",
       "  <thead>\n",
       "    <tr style=\"text-align: right;\">\n",
       "      <th></th>\n",
       "      <th>target_valid</th>\n",
       "      <th>predictions_valid</th>\n",
       "    </tr>\n",
       "  </thead>\n",
       "  <tbody>\n",
       "    <tr>\n",
       "      <th>71751</th>\n",
       "      <td>80.859783</td>\n",
       "      <td>82.663314</td>\n",
       "    </tr>\n",
       "    <tr>\n",
       "      <th>80493</th>\n",
       "      <td>53.906522</td>\n",
       "      <td>54.431786</td>\n",
       "    </tr>\n",
       "    <tr>\n",
       "      <th>2655</th>\n",
       "      <td>30.132364</td>\n",
       "      <td>29.748760</td>\n",
       "    </tr>\n",
       "    <tr>\n",
       "      <th>53233</th>\n",
       "      <td>53.906522</td>\n",
       "      <td>53.552133</td>\n",
       "    </tr>\n",
       "    <tr>\n",
       "      <th>91141</th>\n",
       "      <td>0.000000</td>\n",
       "      <td>1.243856</td>\n",
       "    </tr>\n",
       "    <tr>\n",
       "      <th>9539</th>\n",
       "      <td>110.992147</td>\n",
       "      <td>111.438490</td>\n",
       "    </tr>\n",
       "    <tr>\n",
       "      <th>8482</th>\n",
       "      <td>137.945408</td>\n",
       "      <td>137.134374</td>\n",
       "    </tr>\n",
       "    <tr>\n",
       "      <th>30284</th>\n",
       "      <td>84.038886</td>\n",
       "      <td>82.888902</td>\n",
       "    </tr>\n",
       "    <tr>\n",
       "      <th>66393</th>\n",
       "      <td>110.992147</td>\n",
       "      <td>110.897311</td>\n",
       "    </tr>\n",
       "    <tr>\n",
       "      <th>99584</th>\n",
       "      <td>26.953261</td>\n",
       "      <td>29.219306</td>\n",
       "    </tr>\n",
       "  </tbody>\n",
       "</table>\n",
       "</div>"
      ],
      "text/plain": [
       "       target_valid  predictions_valid\n",
       "71751     80.859783          82.663314\n",
       "80493     53.906522          54.431786\n",
       "2655      30.132364          29.748760\n",
       "53233     53.906522          53.552133\n",
       "91141      0.000000           1.243856\n",
       "9539     110.992147         111.438490\n",
       "8482     137.945408         137.134374\n",
       "30284     84.038886          82.888902\n",
       "66393    110.992147         110.897311\n",
       "99584     26.953261          29.219306"
      ]
     },
     "execution_count": 26,
     "metadata": {},
     "output_type": "execute_result"
    }
   ],
   "source": [
    "valid_1 = pd.DataFrame({'target_valid': target_valid_1, 'predictions_valid': predictions_valid_1})\n",
    "valid_1.head(10)"
   ]
  },
  {
   "cell_type": "markdown",
   "metadata": {},
   "source": [
    "O REQM do modelo de regressão linear do conjunto de validação está bem próximo de 0, ou seja, quase não existe variação entre o conjunto de validação e o de teste. Podemos dizer que os valores são mais confiáveis que as demais regiões."
   ]
  },
  {
   "cell_type": "markdown",
   "metadata": {},
   "source": [
    "### Local_2"
   ]
  },
  {
   "cell_type": "markdown",
   "metadata": {},
   "source": [
    "#### Separando os dados para treino e teste, colocando 75% em terinamento e o resto em validdação"
   ]
  },
  {
   "cell_type": "code",
   "execution_count": 27,
   "metadata": {},
   "outputs": [],
   "source": [
    "features_train_2, features_valid_2, target_train_2, target_valid_2= train_test_split(\n",
    "    features_2,target_2 , test_size=0.25, random_state=12345)"
   ]
  },
  {
   "cell_type": "markdown",
   "metadata": {},
   "source": [
    "#### Conferindo se os dados foram separados corretamente"
   ]
  },
  {
   "cell_type": "code",
   "execution_count": 28,
   "metadata": {},
   "outputs": [
    {
     "name": "stdout",
     "output_type": "stream",
     "text": [
      "Tamanho do conjunto features_train_2: 75.0 %\n",
      "Tamanho do conjunto target_train_2: 75.0 %\n"
     ]
    }
   ],
   "source": [
    "print('Tamanho do conjunto features_train_2:',len(features_train_2)/len(features_2)*100,\"%\")\n",
    "print('Tamanho do conjunto target_train_2:', len(target_train_2)/len(target_2)*100,\"%\")"
   ]
  },
  {
   "cell_type": "markdown",
   "metadata": {},
   "source": [
    "#### Treinando o modelo de Regressão Linear"
   ]
  },
  {
   "cell_type": "code",
   "execution_count": 29,
   "metadata": {},
   "outputs": [],
   "source": [
    "model = LinearRegression()\n",
    "model.fit(features_train_2,target_train_2) \n",
    "predictions_valid_2 = model.predict(features_valid_2)"
   ]
  },
  {
   "cell_type": "markdown",
   "metadata": {},
   "source": [
    "####  Calculando o REQM do conjunto de validação"
   ]
  },
  {
   "cell_type": "code",
   "execution_count": 30,
   "metadata": {},
   "outputs": [
    {
     "name": "stdout",
     "output_type": "stream",
     "text": [
      "O REQM do modelo de regressão linear no conjunto de validação: 40.02970873393434\n"
     ]
    }
   ],
   "source": [
    "result = mean_squared_error(target_valid_2, predictions_valid_2) ** 0.5\n",
    "print(\"O REQM do modelo de regressão linear no conjunto de validação:\", result)\n"
   ]
  },
  {
   "cell_type": "markdown",
   "metadata": {},
   "source": [
    "####  Calculando o valor médio de reservas da predição"
   ]
  },
  {
   "cell_type": "code",
   "execution_count": 31,
   "metadata": {},
   "outputs": [
    {
     "name": "stdout",
     "output_type": "stream",
     "text": [
      "O valor médio no conjunto de validação do local_2: 94.96504596800489\n"
     ]
    }
   ],
   "source": [
    "med_2 = predictions_valid_2.mean()\n",
    "print(\"O valor médio no conjunto de validação do local_2:\", med_2)"
   ]
  },
  {
   "cell_type": "markdown",
   "metadata": {},
   "source": [
    "####  Salvando as predições e respostas corretas para o conjunto de validação"
   ]
  },
  {
   "cell_type": "code",
   "execution_count": 32,
   "metadata": {},
   "outputs": [
    {
     "data": {
      "text/html": [
       "<div>\n",
       "<style scoped>\n",
       "    .dataframe tbody tr th:only-of-type {\n",
       "        vertical-align: middle;\n",
       "    }\n",
       "\n",
       "    .dataframe tbody tr th {\n",
       "        vertical-align: top;\n",
       "    }\n",
       "\n",
       "    .dataframe thead th {\n",
       "        text-align: right;\n",
       "    }\n",
       "</style>\n",
       "<table border=\"1\" class=\"dataframe\">\n",
       "  <thead>\n",
       "    <tr style=\"text-align: right;\">\n",
       "      <th></th>\n",
       "      <th>target_valid</th>\n",
       "      <th>predictions_valid</th>\n",
       "    </tr>\n",
       "  </thead>\n",
       "  <tbody>\n",
       "    <tr>\n",
       "      <th>71751</th>\n",
       "      <td>61.212375</td>\n",
       "      <td>93.599633</td>\n",
       "    </tr>\n",
       "    <tr>\n",
       "      <th>80493</th>\n",
       "      <td>41.850118</td>\n",
       "      <td>75.105159</td>\n",
       "    </tr>\n",
       "    <tr>\n",
       "      <th>2655</th>\n",
       "      <td>57.776581</td>\n",
       "      <td>90.066809</td>\n",
       "    </tr>\n",
       "    <tr>\n",
       "      <th>53233</th>\n",
       "      <td>100.053761</td>\n",
       "      <td>105.162375</td>\n",
       "    </tr>\n",
       "    <tr>\n",
       "      <th>91141</th>\n",
       "      <td>109.897122</td>\n",
       "      <td>115.303310</td>\n",
       "    </tr>\n",
       "    <tr>\n",
       "      <th>9539</th>\n",
       "      <td>105.904629</td>\n",
       "      <td>121.939197</td>\n",
       "    </tr>\n",
       "    <tr>\n",
       "      <th>8482</th>\n",
       "      <td>51.646180</td>\n",
       "      <td>119.053040</td>\n",
       "    </tr>\n",
       "    <tr>\n",
       "      <th>30284</th>\n",
       "      <td>173.162121</td>\n",
       "      <td>75.396575</td>\n",
       "    </tr>\n",
       "    <tr>\n",
       "      <th>66393</th>\n",
       "      <td>113.143072</td>\n",
       "      <td>111.400543</td>\n",
       "    </tr>\n",
       "    <tr>\n",
       "      <th>99584</th>\n",
       "      <td>56.803215</td>\n",
       "      <td>84.029320</td>\n",
       "    </tr>\n",
       "  </tbody>\n",
       "</table>\n",
       "</div>"
      ],
      "text/plain": [
       "       target_valid  predictions_valid\n",
       "71751     61.212375          93.599633\n",
       "80493     41.850118          75.105159\n",
       "2655      57.776581          90.066809\n",
       "53233    100.053761         105.162375\n",
       "91141    109.897122         115.303310\n",
       "9539     105.904629         121.939197\n",
       "8482      51.646180         119.053040\n",
       "30284    173.162121          75.396575\n",
       "66393    113.143072         111.400543\n",
       "99584     56.803215          84.029320"
      ]
     },
     "execution_count": 32,
     "metadata": {},
     "output_type": "execute_result"
    }
   ],
   "source": [
    "valid_2 = pd.DataFrame({'target_valid': target_valid_2, 'predictions_valid': predictions_valid_2})\n",
    "valid_2.head(10)"
   ]
  },
  {
   "cell_type": "markdown",
   "metadata": {},
   "source": [
    "É possível perceber que o REQM do modelo de regressão linear do conjunto de validação está bem acima de 0, mas ao comparar com o valor médio do nosso conjunto de validação, percebemos que o valor médio está mais que o dobro de diferença do REQM, não considero essa diferença média entre o modelo e o teste aceitável pois pode interfeir na previsão de forma mais acentuada."
   ]
  },
  {
   "cell_type": "markdown",
   "metadata": {},
   "source": [
    "## Cálculo do Lucro"
   ]
  },
  {
   "cell_type": "markdown",
   "metadata": {},
   "source": [
    "###  Custo para desenvolvimento de 200 poços"
   ]
  },
  {
   "cell_type": "code",
   "execution_count": 33,
   "metadata": {},
   "outputs": [],
   "source": [
    "custo_200 = 100000000\n",
    "custo_1 = custo_200/200"
   ]
  },
  {
   "cell_type": "markdown",
   "metadata": {},
   "source": [
    "### Receita por unidade de produto (sendo que cada unidade de produto = 1.000 barris com lucro de 4,5 dólares por bar"
   ]
  },
  {
   "cell_type": "code",
   "execution_count": 34,
   "metadata": {},
   "outputs": [],
   "source": [
    "receita = 4500"
   ]
  },
  {
   "cell_type": "markdown",
   "metadata": {},
   "source": [
    "### cálculo para desenvolver um novo poço com lucro, QUAL VALOR DE PRODUTO QUE A RESERVA DEVE APRESENTAR?"
   ]
  },
  {
   "cell_type": "code",
   "execution_count": 35,
   "metadata": {},
   "outputs": [
    {
     "name": "stdout",
     "output_type": "stream",
     "text": [
      "\n",
      "Arredondando valor sera necessario 112 poços\n"
     ]
    }
   ],
   "source": [
    "reserva = custo_1/receita\n",
    "reserva=math.ceil(reserva)\n",
    "print()\n",
    "print(\"Arredondando valor sera necessario\" , reserva, \"poços\")"
   ]
  },
  {
   "cell_type": "markdown",
   "metadata": {},
   "source": [
    "### O poço precisa ter mais de 112 unidades de produto em reserva para possuir lucro."
   ]
  },
  {
   "cell_type": "code",
   "execution_count": 36,
   "metadata": {},
   "outputs": [
    {
     "name": "stdout",
     "output_type": "stream",
     "text": [
      "O valor médio das reservas de petróleo do local_0: 92.50000000000001\n",
      "O valor médio das reservas de petróleo do local_1: 68.82500000000002\n",
      "O valor médio das reservas de petróleo do local_2: 95.00000000000004\n"
     ]
    }
   ],
   "source": [
    "print('O valor médio das reservas de petróleo do local_0:', df_0['product'].mean())\n",
    "print('O valor médio das reservas de petróleo do local_1:', df_1['product'].mean())\n",
    "print('O valor médio das reservas de petróleo do local_2:', df_2['product'].mean())"
   ]
  },
  {
   "cell_type": "markdown",
   "metadata": {},
   "source": [
    "## Cálculo de eficiencia dos poços"
   ]
  },
  {
   "cell_type": "markdown",
   "metadata": {},
   "source": [
    "###  Função para o cálculo do lucro"
   ]
  },
  {
   "cell_type": "code",
   "execution_count": 37,
   "metadata": {},
   "outputs": [],
   "source": [
    "def lucro_poco(valid, reserva, receita, custo_1):\n",
    "    local_200 = valid.sort_values(by='predictions_valid', ascending=False).iloc[:200]\n",
    "    valid['lucro_predictions'] = valid['predictions_valid'].apply(lambda x: (x*receita)-custo_1 if x>=reserva else 0)   \n",
    "    return local_200 "
   ]
  },
  {
   "cell_type": "markdown",
   "metadata": {},
   "source": [
    "Para o cálculo do lucro de cada região, peguei os 200 maiores valores da reserva que foi predito pelo modelo e apliquei a fórmula do lucro, onde é o quantidade de reserva multiplicada pela receita (4500) menos o custo de apenas 1 posto de petróleo (se para 200 postos o custo é de 100 milhões, o custo para apenas 1 é de 500 mil) e o resultado é um DF com o valor do lucro de cada posto"
   ]
  },
  {
   "cell_type": "markdown",
   "metadata": {},
   "source": [
    "####  Lucro da região 0\n"
   ]
  },
  {
   "cell_type": "code",
   "execution_count": 40,
   "metadata": {},
   "outputs": [
    {
     "name": "stdout",
     "output_type": "stream",
     "text": [
      "       target_valid  predictions_valid  lucro_predictions\n",
      "93073    162.810993         180.180713      310813.208776\n",
      "46784    153.639837         176.252213      293134.959252\n",
      "78948    162.153488         175.850623      291327.804775\n",
      "43388     96.893581         175.658429      290462.930300\n",
      "6496     178.879516         173.299686      279848.587829\n",
      "...             ...                ...                ...\n",
      "30488    179.683422         148.507064      168281.787372\n",
      "98799     95.396917         148.481767      168167.950072\n",
      "53840    160.361464         148.476498      168144.241721\n",
      "4638     102.186603         148.436761      167965.426709\n",
      "75908    119.890261         148.365941      167646.734499\n",
      "\n",
      "[200 rows x 3 columns]\n",
      "39960488.77465123\n"
     ]
    }
   ],
   "source": [
    "lucro_0 = lucro_poco(valid_0, reserva, receita, custo_1 )\n",
    "print(lucro_0)\n",
    "print(lucro_0['lucro_predictions'].sum())"
   ]
  },
  {
   "cell_type": "markdown",
   "metadata": {},
   "source": [
    "#### Lucro da região 1"
   ]
  },
  {
   "cell_type": "code",
   "execution_count": 42,
   "metadata": {},
   "outputs": [
    {
     "name": "stdout",
     "output_type": "stream",
     "text": [
      "       target_valid  predictions_valid  lucro_predictions\n",
      "38665    137.945408         139.818970      129185.364156\n",
      "20191    137.945408         139.773423      128980.403308\n",
      "14041    137.945408         139.703330      128664.986409\n",
      "24274    137.945408         139.560938      128024.219177\n",
      "92782    137.945408         139.516754      127825.394320\n",
      "...             ...                ...                ...\n",
      "13370    137.945408         138.421423      122896.404035\n",
      "45823    137.945408         138.416960      122876.320892\n",
      "86987    137.945408         138.413881      122862.463171\n",
      "72313    137.945408         138.412834      122857.752128\n",
      "59892    137.945408         138.410697      122848.135315\n",
      "\n",
      "[200 rows x 3 columns]\n",
      "24857120.519735634\n"
     ]
    }
   ],
   "source": [
    "lucro_1 = lucro_poco(valid_1,reserva, receita, custo_1 )\n",
    "print(lucro_1)\n",
    "print(lucro_1['lucro_predictions'].sum())"
   ]
  },
  {
   "cell_type": "markdown",
   "metadata": {},
   "source": [
    "#### Lucro da região 2"
   ]
  },
  {
   "cell_type": "code",
   "execution_count": 44,
   "metadata": {},
   "outputs": [
    {
     "name": "stdout",
     "output_type": "stream",
     "text": [
      "       target_valid  predictions_valid  lucro_predictions\n",
      "98619    175.103291         165.856833      246355.749285\n",
      "46649    131.627481         165.679685      245558.583697\n",
      "82661    141.160070         163.439962      235479.830494\n",
      "53151    159.676082         162.062589      229281.652747\n",
      "18747    142.135203         161.797476      228088.643267\n",
      "...             ...                ...                ...\n",
      "66244    104.949568         142.490763      141208.432752\n",
      "34285     89.492500         142.485922      141186.650401\n",
      "36778    184.895101         142.465777      141095.997523\n",
      "7806     137.480469         142.454763      141046.434686\n",
      "62558    134.507140         142.408851      140839.831073\n",
      "\n",
      "[200 rows x 3 columns]\n",
      "33217543.962432623\n"
     ]
    }
   ],
   "source": [
    "lucro_2 = lucro_poco(valid_2,reserva, receita, custo_1 )\n",
    "print(lucro_2)\n",
    "print(lucro_2['lucro_predictions'].sum())"
   ]
  },
  {
   "cell_type": "markdown",
   "metadata": {},
   "source": [
    "## Bootstrapping"
   ]
  },
  {
   "cell_type": "markdown",
   "metadata": {},
   "source": [
    "### Local_1"
   ]
  },
  {
   "cell_type": "code",
   "execution_count": 49,
   "metadata": {},
   "outputs": [
    {
     "data": {
      "image/png": "[encoded data removed]",
      "text/plain": [
       "<Figure size 640x480 with 1 Axes>"
      ]
     },
     "metadata": {},
     "output_type": "display_data"
    }
   ],
   "source": [
    "# amostra original\n",
    "n = len(lucro_0)\n",
    "\n",
    "# Número de amostras de bootstrap\n",
    "n_bootstrap = 1000\n",
    "\n",
    "# Criar 1000 amostras de bootstrap\n",
    "bootstrap_samples = np.random.choice(lucro_0['lucro_predictions'], size=(n_bootstrap, n), replace=True)\n",
    "\n",
    "# Calcular o lucro para cada amostra de bootstrap\n",
    "bootstrap_means = np.mean(bootstrap_samples, axis=1)\n",
    "\n",
    "# Calcular a média, desvio padrão e intervalo de confiança da distribuição de lucro\n",
    "mean = np.mean(bootstrap_means)\n",
    "std = np.std(bootstrap_means)\n",
    "ci_95 = np.percentile(bootstrap_means, [2.5, 97.5])\n",
    "\n",
    "# Plotar o histograma da distribuição de lucro\n",
    "import matplotlib.pyplot as plt\n",
    "plt.hist(bootstrap_means, bins=20)\n",
    "plt.axvline(mean, color='r', linestyle='--', label='Média')\n",
    "plt.axvline(ci_95[0], color='g', linestyle='--', label='Intervalo de Confiança (2.5%)')\n",
    "plt.axvline(ci_95[1], color='g', linestyle='--', label='Intervalo de Confiança (97.5%)')\n",
    "plt.legend()\n",
    "plt.show()"
   ]
  },
  {
   "cell_type": "markdown",
   "metadata": {},
   "source": [
    "### local_1"
   ]
  },
  {
   "cell_type": "code",
   "execution_count": 50,
   "metadata": {},
   "outputs": [
    {
     "data": {
      "image/png": "[encoded data removed]",
      "text/plain": [
       "<Figure size 640x480 with 1 Axes>"
      ]
     },
     "metadata": {},
     "output_type": "display_data"
    }
   ],
   "source": [
    "#Tamanho da amostra original\n",
    "n = len(lucro_1)\n",
    "\n",
    "# Número de amostras de bootstrap\n",
    "n_bootstrap = 1000\n",
    "\n",
    "# Criar 1000 amostras de bootstrap\n",
    "bootstrap_samples = np.random.choice(lucro_1['lucro_predictions'], size=(n_bootstrap, n), replace=True)\n",
    "\n",
    "# Calcular o lucro para cada amostra de bootstrap\n",
    "bootstrap_means = np.mean(bootstrap_samples, axis=1)\n",
    "\n",
    "# Calcular a média, desvio padrão e intervalo de confiança da distribuição de lucro\n",
    "mean = np.mean(bootstrap_means)\n",
    "std = np.std(bootstrap_means)\n",
    "ci_95 = np.percentile(bootstrap_means, [2.5, 97.5])\n",
    "\n",
    "# Plotar o histograma da distribuição de lucro\n",
    "import matplotlib.pyplot as plt\n",
    "plt.hist(bootstrap_means, bins=20)\n",
    "plt.axvline(mean, color='r', linestyle='--', label='Média')\n",
    "plt.axvline(ci_95[0], color='g', linestyle='--', label='Intervalo de Confiança (2.5%)')\n",
    "plt.axvline(ci_95[1], color='g', linestyle='--', label='Intervalo de Confiança (97.5%)')\n",
    "plt.legend()\n",
    "plt.show()"
   ]
  },
  {
   "cell_type": "markdown",
   "metadata": {},
   "source": [
    "### local_2"
   ]
  },
  {
   "cell_type": "code",
   "execution_count": 51,
   "metadata": {},
   "outputs": [
    {
     "data": {
      "image/png": "[encoded data removed]",
      "text/plain": [
       "<Figure size 640x480 with 1 Axes>"
      ]
     },
     "metadata": {},
     "output_type": "display_data"
    }
   ],
   "source": [
    "# Tamanho da amostra original\n",
    "n = len(lucro_2)\n",
    "\n",
    "# Número de amostras de bootstrap\n",
    "n_bootstrap = 1000\n",
    "\n",
    "# Criar 1000 amostras de bootstrap\n",
    "bootstrap_samples = np.random.choice(lucro_2['lucro_predictions'], size=(n_bootstrap, n), replace=True)\n",
    "\n",
    "# Calcular o lucro para cada amostra de bootstrap\n",
    "bootstrap_means = np.mean(bootstrap_samples, axis=1)\n",
    "\n",
    "# Calcular a média, desvio padrão e intervalo de confiança da distribuição de lucro\n",
    "mean = np.mean(bootstrap_means)\n",
    "std = np.std(bootstrap_means)\n",
    "ci_95 = np.percentile(bootstrap_means, [2.5, 97.5])\n",
    "\n",
    "# Plotar o histograma da distribuição de lucro\n",
    "import matplotlib.pyplot as plt\n",
    "plt.hist(bootstrap_means, bins=20)\n",
    "plt.axvline(mean, color='r', linestyle='--', label='Média')\n",
    "plt.axvline(ci_95[0], color='g', linestyle='--', label='Intervalo de Confiança (2.5%)')\n",
    "plt.axvline(ci_95[1], color='g', linestyle='--', label='Intervalo de Confiança (97.5%)')\n",
    "plt.legend()\n",
    "plt.show()"
   ]
  },
  {
   "cell_type": "markdown",
   "metadata": {},
   "source": [
    "### Local_2"
   ]
  },
  {
   "cell_type": "code",
   "execution_count": 52,
   "metadata": {},
   "outputs": [
    {
     "data": {
      "image/png": "[encoded data removed]",
      "text/plain": [
       "<Figure size 640x480 with 1 Axes>"
      ]
     },
     "metadata": {},
     "output_type": "display_data"
    }
   ],
   "source": [
    "# Tamanho da amostra original\n",
    "n = len(lucro_2)\n",
    "\n",
    "# Número de amostras de bootstrap\n",
    "n_bootstrap = 1000\n",
    "\n",
    "# Criar 1000 amostras de bootstrap\n",
    "bootstrap_samples = np.random.choice(lucro_2['lucro_predictions'], size=(n_bootstrap, n), replace=True)\n",
    "\n",
    "# Calcular o lucro para cada amostra de bootstrap\n",
    "bootstrap_means = np.mean(bootstrap_samples, axis=1)\n",
    "\n",
    "# Calcular a média, desvio padrão e intervalo de confiança da distribuição de lucro\n",
    "mean = np.mean(bootstrap_means)\n",
    "std = np.std(bootstrap_means)\n",
    "ci_95 = np.percentile(bootstrap_means, [2.5, 97.5])\n",
    "\n",
    "# Plotar o histograma da distribuição de lucro\n",
    "import matplotlib.pyplot as plt\n",
    "plt.hist(bootstrap_means, bins=20)\n",
    "plt.axvline(mean, color='r', linestyle='--', label='Média')\n",
    "plt.axvline(ci_95[0], color='g', linestyle='--', label='Intervalo de Confiança (2.5%)')\n",
    "plt.axvline(ci_95[1], color='g', linestyle='--', label='Intervalo de Confiança (97.5%)')\n",
    "plt.legend()\n",
    "plt.show()"
   ]
  },
  {
   "cell_type": "markdown",
   "metadata": {},
   "source": [
    "## Conlusão"
   ]
  },
  {
   "cell_type": "markdown",
   "metadata": {},
   "source": [
    "Ao analisar todos os locais e postos selecionados e considerando a qualidade do modelo de regressão que desenvolvemos, acredito que a melhor região é a segunda. Embora apresente o menor lucro, o modelo é mais preciso do que os demais e considero que essa região tem a menor chance de risco"
   ]
  }
 ],
 "metadata": {
  "ExecuteTimeLog": [
   {
    "duration": 159,
    "start_time": "2024-10-22T00:39:49.134Z"
   },
   {
    "duration": 277,
    "start_time": "2024-10-22T00:40:11.499Z"
   },
   {
    "duration": 295,
    "start_time": "2024-10-22T00:40:13.773Z"
   },
   {
    "duration": 1844,
    "start_time": "2024-10-22T00:40:35.614Z"
   },
   {
    "duration": 2164,
    "start_time": "2024-10-22T15:40:20.279Z"
   },
   {
    "duration": 121,
    "start_time": "2024-10-22T15:42:39.135Z"
   },
   {
    "duration": 2,
    "start_time": "2024-10-22T15:43:01.262Z"
   },
   {
    "duration": 2,
    "start_time": "2024-10-22T15:43:47.421Z"
   },
   {
    "duration": 77,
    "start_time": "2024-10-22T15:43:50.170Z"
   },
   {
    "duration": 111,
    "start_time": "2024-10-22T15:43:51.659Z"
   },
   {
    "duration": 117,
    "start_time": "2024-10-22T15:43:56.066Z"
   },
   {
    "duration": 2,
    "start_time": "2024-10-22T16:14:04.183Z"
   },
   {
    "duration": 458,
    "start_time": "2024-10-22T16:14:24.776Z"
   },
   {
    "duration": 272,
    "start_time": "2024-10-22T16:15:09.950Z"
   },
   {
    "duration": 9,
    "start_time": "2024-10-22T16:15:55.878Z"
   },
   {
    "duration": 8,
    "start_time": "2024-10-22T16:53:13.561Z"
   },
   {
    "duration": 3,
    "start_time": "2024-10-22T16:56:25.708Z"
   },
   {
    "duration": 12,
    "start_time": "2024-10-22T16:57:15.513Z"
   },
   {
    "duration": 11,
    "start_time": "2024-10-22T17:05:51.662Z"
   },
   {
    "duration": 84,
    "start_time": "2024-10-22T17:05:57.682Z"
   },
   {
    "duration": 11,
    "start_time": "2024-10-22T17:06:38.623Z"
   },
   {
    "duration": 11,
    "start_time": "2024-10-22T17:07:24.704Z"
   },
   {
    "duration": 3,
    "start_time": "2024-10-22T17:10:32.049Z"
   },
   {
    "duration": 2,
    "start_time": "2024-10-22T17:11:45.421Z"
   },
   {
    "duration": 9,
    "start_time": "2024-10-22T17:12:06.685Z"
   },
   {
    "duration": 10,
    "start_time": "2024-10-22T17:12:18.388Z"
   },
   {
    "duration": 2,
    "start_time": "2024-10-22T17:12:25.342Z"
   },
   {
    "duration": 3,
    "start_time": "2024-10-22T17:12:37.896Z"
   },
   {
    "duration": 3,
    "start_time": "2024-10-22T17:12:52.322Z"
   },
   {
    "duration": 2,
    "start_time": "2024-10-22T17:13:00.786Z"
   },
   {
    "duration": 9,
    "start_time": "2024-10-22T17:13:17.383Z"
   },
   {
    "duration": 2,
    "start_time": "2024-10-22T17:13:32.099Z"
   },
   {
    "duration": 4,
    "start_time": "2024-10-22T17:13:40.174Z"
   },
   {
    "duration": 5,
    "start_time": "2024-10-22T17:13:48.176Z"
   },
   {
    "duration": 3,
    "start_time": "2024-10-22T17:14:10.101Z"
   },
   {
    "duration": 4,
    "start_time": "2024-10-22T17:14:26.047Z"
   },
   {
    "duration": 2,
    "start_time": "2024-10-22T17:14:34.798Z"
   },
   {
    "duration": 8,
    "start_time": "2024-10-22T17:14:46.719Z"
   },
   {
    "duration": 7,
    "start_time": "2024-10-22T17:38:41.729Z"
   },
   {
    "duration": 3,
    "start_time": "2024-10-22T17:40:25.451Z"
   },
   {
    "duration": 3,
    "start_time": "2024-10-22T17:46:51.877Z"
   },
   {
    "duration": 3,
    "start_time": "2024-10-22T17:47:35.751Z"
   },
   {
    "duration": 12,
    "start_time": "2024-10-22T17:48:03.574Z"
   },
   {
    "duration": 3,
    "start_time": "2024-10-22T17:48:21.644Z"
   },
   {
    "duration": 2,
    "start_time": "2024-10-22T17:48:22.909Z"
   },
   {
    "duration": 7,
    "start_time": "2024-10-22T17:48:24.184Z"
   },
   {
    "duration": 4,
    "start_time": "2024-10-22T17:51:47.386Z"
   },
   {
    "duration": 6,
    "start_time": "2024-10-22T17:53:56.467Z"
   },
   {
    "duration": 2,
    "start_time": "2024-10-22T17:54:02.024Z"
   },
   {
    "duration": 16,
    "start_time": "2024-10-22T17:54:49.912Z"
   },
   {
    "duration": 14,
    "start_time": "2024-10-22T17:55:15.239Z"
   },
   {
    "duration": 14,
    "start_time": "2024-10-22T17:55:31.931Z"
   },
   {
    "duration": 3,
    "start_time": "2024-10-22T17:55:56.000Z"
   },
   {
    "duration": 3,
    "start_time": "2024-10-22T17:56:02.584Z"
   },
   {
    "duration": 13,
    "start_time": "2024-10-22T17:57:09.610Z"
   },
   {
    "duration": 17,
    "start_time": "2024-10-22T17:57:20.396Z"
   },
   {
    "duration": 4,
    "start_time": "2024-10-22T17:57:41.498Z"
   },
   {
    "duration": 3,
    "start_time": "2024-10-22T17:57:52.280Z"
   },
   {
    "duration": 6,
    "start_time": "2024-10-22T17:58:04.905Z"
   },
   {
    "duration": 3,
    "start_time": "2024-10-22T17:58:29.944Z"
   },
   {
    "duration": 3,
    "start_time": "2024-10-22T17:59:02.370Z"
   },
   {
    "duration": 6,
    "start_time": "2024-10-22T17:59:09.114Z"
   },
   {
    "duration": 2,
    "start_time": "2024-10-22T17:59:52.927Z"
   },
   {
    "duration": 431,
    "start_time": "2024-10-22T18:00:11.683Z"
   },
   {
    "duration": 3,
    "start_time": "2024-10-22T18:02:28.084Z"
   },
   {
    "duration": 2,
    "start_time": "2024-10-22T18:02:55.237Z"
   },
   {
    "duration": 46,
    "start_time": "2024-10-22T18:03:25.917Z"
   },
   {
    "duration": 42,
    "start_time": "2024-10-22T18:03:54.439Z"
   },
   {
    "duration": 2,
    "start_time": "2024-10-22T18:04:40.049Z"
   },
   {
    "duration": 18,
    "start_time": "2024-10-22T18:04:50.210Z"
   },
   {
    "duration": 2,
    "start_time": "2024-10-22T18:05:01.565Z"
   },
   {
    "duration": 2,
    "start_time": "2024-10-22T18:05:05.256Z"
   },
   {
    "duration": 2,
    "start_time": "2024-10-22T18:05:12.027Z"
   },
   {
    "duration": 2,
    "start_time": "2024-10-22T18:05:14.367Z"
   },
   {
    "duration": 19,
    "start_time": "2024-10-22T18:05:31.670Z"
   },
   {
    "duration": 23,
    "start_time": "2024-10-22T18:05:33.797Z"
   },
   {
    "duration": 3,
    "start_time": "2024-10-22T18:06:57.091Z"
   },
   {
    "duration": 11,
    "start_time": "2024-10-22T18:08:24.726Z"
   },
   {
    "duration": 11,
    "start_time": "2024-10-22T18:56:04.362Z"
   },
   {
    "duration": 3,
    "start_time": "2024-10-22T19:00:44.067Z"
   },
   {
    "duration": 4,
    "start_time": "2024-10-22T19:01:02.694Z"
   },
   {
    "duration": 2,
    "start_time": "2024-10-22T19:01:29.540Z"
   },
   {
    "duration": 3,
    "start_time": "2024-10-22T19:02:45.373Z"
   },
   {
    "duration": 8,
    "start_time": "2024-10-22T19:03:05.991Z"
   },
   {
    "duration": 11,
    "start_time": "2024-10-22T19:03:07.783Z"
   },
   {
    "duration": 3,
    "start_time": "2024-10-22T19:03:40.501Z"
   },
   {
    "duration": 3,
    "start_time": "2024-10-22T19:18:42.715Z"
   },
   {
    "duration": 2,
    "start_time": "2024-10-22T19:19:41.867Z"
   },
   {
    "duration": 8,
    "start_time": "2024-10-22T19:20:42.507Z"
   },
   {
    "duration": 9,
    "start_time": "2024-10-22T19:20:44.539Z"
   },
   {
    "duration": 8,
    "start_time": "2024-10-22T19:20:45.623Z"
   },
   {
    "duration": 2,
    "start_time": "2024-10-22T19:21:10.698Z"
   },
   {
    "duration": 3,
    "start_time": "2024-10-22T19:21:24.696Z"
   },
   {
    "duration": 3,
    "start_time": "2024-10-22T19:22:00.952Z"
   },
   {
    "duration": 7,
    "start_time": "2024-10-22T19:22:58.108Z"
   },
   {
    "duration": 7,
    "start_time": "2024-10-22T19:23:16.204Z"
   },
   {
    "duration": 4,
    "start_time": "2024-10-22T19:23:26.935Z"
   },
   {
    "duration": 12,
    "start_time": "2024-10-22T19:24:06.796Z"
   },
   {
    "duration": 9,
    "start_time": "2024-10-22T19:24:52.937Z"
   },
   {
    "duration": 3,
    "start_time": "2024-10-22T19:25:16.250Z"
   },
   {
    "duration": 3,
    "start_time": "2024-10-22T19:25:35.978Z"
   },
   {
    "duration": 16,
    "start_time": "2024-10-22T19:26:00.567Z"
   },
   {
    "duration": 4,
    "start_time": "2024-10-22T19:26:27.544Z"
   },
   {
    "duration": 5,
    "start_time": "2024-10-22T19:26:58.273Z"
   },
   {
    "duration": 2,
    "start_time": "2024-10-22T19:27:14.185Z"
   },
   {
    "duration": 7,
    "start_time": "2024-10-22T19:27:43.418Z"
   },
   {
    "duration": 2,
    "start_time": "2024-10-22T19:29:01.732Z"
   },
   {
    "duration": 3,
    "start_time": "2024-10-22T19:29:11.675Z"
   },
   {
    "duration": 3,
    "start_time": "2024-10-22T19:29:29.910Z"
   },
   {
    "duration": 3,
    "start_time": "2024-10-22T19:29:49.884Z"
   },
   {
    "duration": 4,
    "start_time": "2024-10-22T19:29:58.604Z"
   },
   {
    "duration": 3,
    "start_time": "2024-10-22T19:30:04.986Z"
   },
   {
    "duration": 3,
    "start_time": "2024-10-22T19:30:21.089Z"
   },
   {
    "duration": 3,
    "start_time": "2024-10-22T19:30:42.819Z"
   },
   {
    "duration": 3,
    "start_time": "2024-10-22T19:30:54.476Z"
   },
   {
    "duration": 15,
    "start_time": "2024-10-22T19:31:43.006Z"
   },
   {
    "duration": 2,
    "start_time": "2024-10-22T19:32:43.272Z"
   },
   {
    "duration": 50,
    "start_time": "2024-10-22T19:33:01.770Z"
   },
   {
    "duration": 3,
    "start_time": "2024-10-22T19:34:07.677Z"
   },
   {
    "duration": 4,
    "start_time": "2024-10-22T19:34:29.800Z"
   },
   {
    "duration": 3,
    "start_time": "2024-10-22T19:34:42.571Z"
   },
   {
    "duration": 3,
    "start_time": "2024-10-22T19:34:43.432Z"
   },
   {
    "duration": 16,
    "start_time": "2024-10-22T19:34:43.995Z"
   },
   {
    "duration": 14,
    "start_time": "2024-10-22T19:34:44.290Z"
   },
   {
    "duration": 2,
    "start_time": "2024-10-22T19:35:18.209Z"
   },
   {
    "duration": 53,
    "start_time": "2024-10-22T19:35:40.910Z"
   },
   {
    "duration": 15,
    "start_time": "2024-10-22T19:35:48.508Z"
   },
   {
    "duration": 243,
    "start_time": "2024-10-22T19:36:09.979Z"
   },
   {
    "duration": 4,
    "start_time": "2024-10-22T19:36:12.434Z"
   },
   {
    "duration": 268,
    "start_time": "2024-10-22T19:36:16.555Z"
   },
   {
    "duration": 223,
    "start_time": "2024-10-22T19:36:21.300Z"
   },
   {
    "duration": 5,
    "start_time": "2024-10-22T19:36:35.889Z"
   },
   {
    "duration": 252,
    "start_time": "2024-10-22T19:36:55.087Z"
   },
   {
    "duration": 3,
    "start_time": "2024-10-22T19:37:38.312Z"
   },
   {
    "duration": 85,
    "start_time": "2024-10-22T19:37:38.317Z"
   },
   {
    "duration": 10,
    "start_time": "2024-10-22T19:37:38.404Z"
   },
   {
    "duration": 85,
    "start_time": "2024-10-22T19:37:38.416Z"
   },
   {
    "duration": 11,
    "start_time": "2024-10-22T19:37:38.504Z"
   },
   {
    "duration": 92,
    "start_time": "2024-10-22T19:37:38.517Z"
   },
   {
    "duration": 24,
    "start_time": "2024-10-22T19:37:38.610Z"
   },
   {
    "duration": 6,
    "start_time": "2024-10-22T19:37:38.635Z"
   },
   {
    "duration": 8,
    "start_time": "2024-10-22T19:37:38.643Z"
   },
   {
    "duration": 3,
    "start_time": "2024-10-22T19:37:38.653Z"
   },
   {
    "duration": 8,
    "start_time": "2024-10-22T19:37:38.657Z"
   },
   {
    "duration": 4,
    "start_time": "2024-10-22T19:37:38.667Z"
   },
   {
    "duration": 3,
    "start_time": "2024-10-22T19:37:38.730Z"
   },
   {
    "duration": 10,
    "start_time": "2024-10-22T19:37:38.740Z"
   },
   {
    "duration": 84,
    "start_time": "2024-10-22T19:37:38.752Z"
   },
   {
    "duration": 3,
    "start_time": "2024-10-22T19:37:38.838Z"
   },
   {
    "duration": 13,
    "start_time": "2024-10-22T19:37:38.843Z"
   },
   {
    "duration": 4,
    "start_time": "2024-10-22T19:37:38.857Z"
   },
   {
    "duration": 3,
    "start_time": "2024-10-22T19:37:38.862Z"
   },
   {
    "duration": 10,
    "start_time": "2024-10-22T19:37:38.931Z"
   },
   {
    "duration": 12,
    "start_time": "2024-10-22T19:37:38.943Z"
   },
   {
    "duration": 76,
    "start_time": "2024-10-22T19:37:38.957Z"
   },
   {
    "duration": 11,
    "start_time": "2024-10-22T19:37:39.035Z"
   },
   {
    "duration": 6,
    "start_time": "2024-10-22T19:37:39.047Z"
   },
   {
    "duration": 3,
    "start_time": "2024-10-22T19:37:39.054Z"
   },
   {
    "duration": 74,
    "start_time": "2024-10-22T19:37:39.058Z"
   },
   {
    "duration": 2,
    "start_time": "2024-10-22T19:37:39.134Z"
   },
   {
    "duration": 2,
    "start_time": "2024-10-22T19:37:39.138Z"
   },
   {
    "duration": 3,
    "start_time": "2024-10-22T19:37:39.142Z"
   },
   {
    "duration": 3,
    "start_time": "2024-10-22T19:37:39.147Z"
   },
   {
    "duration": 123,
    "start_time": "2024-10-22T19:37:39.152Z"
   },
   {
    "duration": 0,
    "start_time": "2024-10-22T19:37:39.277Z"
   },
   {
    "duration": 0,
    "start_time": "2024-10-22T19:37:39.278Z"
   },
   {
    "duration": 0,
    "start_time": "2024-10-22T19:37:39.279Z"
   },
   {
    "duration": 0,
    "start_time": "2024-10-22T19:37:39.281Z"
   },
   {
    "duration": 0,
    "start_time": "2024-10-22T19:37:39.282Z"
   },
   {
    "duration": 0,
    "start_time": "2024-10-22T19:37:39.284Z"
   },
   {
    "duration": 15,
    "start_time": "2024-10-22T19:38:02.264Z"
   },
   {
    "duration": 56,
    "start_time": "2024-10-22T19:38:05.154Z"
   },
   {
    "duration": 58,
    "start_time": "2024-10-22T19:38:05.667Z"
   },
   {
    "duration": 3,
    "start_time": "2024-10-22T19:40:04.155Z"
   },
   {
    "duration": 78,
    "start_time": "2024-10-22T19:40:25.094Z"
   },
   {
    "duration": 76,
    "start_time": "2024-10-22T19:40:31.284Z"
   },
   {
    "duration": 10,
    "start_time": "2024-10-22T19:40:33.275Z"
   },
   {
    "duration": 79,
    "start_time": "2024-10-22T19:40:35.405Z"
   },
   {
    "duration": 92,
    "start_time": "2024-10-22T19:40:47.802Z"
   },
   {
    "duration": 80,
    "start_time": "2024-10-22T19:40:49.894Z"
   },
   {
    "duration": 77,
    "start_time": "2024-10-22T19:40:51.461Z"
   },
   {
    "duration": 79,
    "start_time": "2024-10-22T19:40:55.224Z"
   },
   {
    "duration": 81,
    "start_time": "2024-10-22T19:40:57.910Z"
   },
   {
    "duration": 76,
    "start_time": "2024-10-22T19:41:01.069Z"
   },
   {
    "duration": 11,
    "start_time": "2024-10-22T19:41:04.490Z"
   },
   {
    "duration": 79,
    "start_time": "2024-10-22T19:41:17.124Z"
   },
   {
    "duration": 77,
    "start_time": "2024-10-22T19:41:19.605Z"
   },
   {
    "duration": 12,
    "start_time": "2024-10-22T19:41:21.184Z"
   },
   {
    "duration": 6,
    "start_time": "2024-10-22T19:41:23.636Z"
   },
   {
    "duration": 9,
    "start_time": "2024-10-22T19:41:28.095Z"
   },
   {
    "duration": 3,
    "start_time": "2024-10-22T19:41:29.540Z"
   },
   {
    "duration": 12,
    "start_time": "2024-10-22T19:41:30.883Z"
   },
   {
    "duration": 4,
    "start_time": "2024-10-22T19:41:32.545Z"
   },
   {
    "duration": 3,
    "start_time": "2024-10-22T19:41:34.037Z"
   },
   {
    "duration": 8,
    "start_time": "2024-10-22T19:41:35.254Z"
   },
   {
    "duration": 10,
    "start_time": "2024-10-22T19:41:37.815Z"
   },
   {
    "duration": 3,
    "start_time": "2024-10-22T19:41:39.340Z"
   },
   {
    "duration": 14,
    "start_time": "2024-10-22T19:41:40.768Z"
   },
   {
    "duration": 4,
    "start_time": "2024-10-22T19:41:42.371Z"
   },
   {
    "duration": 3,
    "start_time": "2024-10-22T19:41:45.205Z"
   },
   {
    "duration": 9,
    "start_time": "2024-10-22T19:41:47.782Z"
   },
   {
    "duration": 9,
    "start_time": "2024-10-22T19:41:52.909Z"
   },
   {
    "duration": 3,
    "start_time": "2024-10-22T19:41:54.465Z"
   },
   {
    "duration": 10,
    "start_time": "2024-10-22T19:41:56.049Z"
   },
   {
    "duration": 4,
    "start_time": "2024-10-22T19:41:59.731Z"
   },
   {
    "duration": 3,
    "start_time": "2024-10-22T19:42:01.778Z"
   },
   {
    "duration": 7,
    "start_time": "2024-10-22T19:42:03.301Z"
   },
   {
    "duration": 2,
    "start_time": "2024-10-22T19:42:06.883Z"
   },
   {
    "duration": 2,
    "start_time": "2024-10-22T19:42:10.416Z"
   },
   {
    "duration": 3,
    "start_time": "2024-10-22T19:42:18.910Z"
   },
   {
    "duration": 3,
    "start_time": "2024-10-22T19:42:31.591Z"
   },
   {
    "duration": 3,
    "start_time": "2024-10-22T19:42:35.304Z"
   },
   {
    "duration": 50,
    "start_time": "2024-10-22T19:42:38.407Z"
   },
   {
    "duration": 55,
    "start_time": "2024-10-22T19:43:32.773Z"
   },
   {
    "duration": 64,
    "start_time": "2024-10-22T19:43:34.212Z"
   },
   {
    "duration": 48,
    "start_time": "2024-10-22T19:43:37.156Z"
   },
   {
    "duration": 43,
    "start_time": "2024-10-22T19:43:39.210Z"
   },
   {
    "duration": 50,
    "start_time": "2024-10-22T19:43:40.669Z"
   },
   {
    "duration": 43,
    "start_time": "2024-10-22T19:43:41.624Z"
   },
   {
    "duration": 4,
    "start_time": "2024-10-22T19:44:09.090Z"
   },
   {
    "duration": 3,
    "start_time": "2024-10-22T19:46:10.489Z"
   },
   {
    "duration": 2,
    "start_time": "2024-10-22T19:46:12.249Z"
   },
   {
    "duration": 953,
    "start_time": "2024-10-22T19:46:22.252Z"
   },
   {
    "duration": 88,
    "start_time": "2024-10-22T19:46:23.225Z"
   },
   {
    "duration": 14,
    "start_time": "2024-10-22T19:46:23.642Z"
   },
   {
    "duration": 87,
    "start_time": "2024-10-22T19:46:23.954Z"
   },
   {
    "duration": 14,
    "start_time": "2024-10-22T19:46:24.370Z"
   },
   {
    "duration": 83,
    "start_time": "2024-10-22T19:46:24.701Z"
   },
   {
    "duration": 14,
    "start_time": "2024-10-22T19:46:25.020Z"
   },
   {
    "duration": 7,
    "start_time": "2024-10-22T19:46:25.463Z"
   },
   {
    "duration": 10,
    "start_time": "2024-10-22T19:46:25.915Z"
   },
   {
    "duration": 4,
    "start_time": "2024-10-22T19:46:26.204Z"
   },
   {
    "duration": 11,
    "start_time": "2024-10-22T19:46:26.501Z"
   },
   {
    "duration": 4,
    "start_time": "2024-10-22T19:46:26.837Z"
   },
   {
    "duration": 4,
    "start_time": "2024-10-22T19:46:27.143Z"
   },
   {
    "duration": 7,
    "start_time": "2024-10-22T19:46:27.456Z"
   },
   {
    "duration": 16,
    "start_time": "2024-10-22T19:46:28.125Z"
   },
   {
    "duration": 3,
    "start_time": "2024-10-22T19:46:28.458Z"
   },
   {
    "duration": 17,
    "start_time": "2024-10-22T19:46:28.804Z"
   },
   {
    "duration": 4,
    "start_time": "2024-10-22T19:46:29.125Z"
   },
   {
    "duration": 3,
    "start_time": "2024-10-22T19:46:29.488Z"
   },
   {
    "duration": 7,
    "start_time": "2024-10-22T19:46:29.805Z"
   },
   {
    "duration": 11,
    "start_time": "2024-10-22T19:46:30.489Z"
   },
   {
    "duration": 3,
    "start_time": "2024-10-22T19:46:30.814Z"
   },
   {
    "duration": 10,
    "start_time": "2024-10-22T19:46:31.143Z"
   },
   {
    "duration": 4,
    "start_time": "2024-10-22T19:46:31.477Z"
   },
   {
    "duration": 3,
    "start_time": "2024-10-22T19:46:31.815Z"
   },
   {
    "duration": 8,
    "start_time": "2024-10-22T19:46:32.178Z"
   },
   {
    "duration": 2,
    "start_time": "2024-10-22T19:46:32.881Z"
   },
   {
    "duration": 2,
    "start_time": "2024-10-22T19:46:33.212Z"
   },
   {
    "duration": 278,
    "start_time": "2024-10-22T19:46:33.574Z"
   },
   {
    "duration": 3,
    "start_time": "2024-10-22T19:46:34.054Z"
   },
   {
    "duration": 14,
    "start_time": "2024-10-22T19:46:35.205Z"
   },
   {
    "duration": 14,
    "start_time": "2024-10-22T19:46:35.611Z"
   },
   {
    "duration": 13,
    "start_time": "2024-10-22T19:46:35.935Z"
   },
   {
    "duration": 14,
    "start_time": "2024-10-22T19:47:06.461Z"
   },
   {
    "duration": 14,
    "start_time": "2024-10-22T19:47:27.393Z"
   },
   {
    "duration": 3,
    "start_time": "2024-10-22T19:48:35.452Z"
   },
   {
    "duration": 3,
    "start_time": "2024-10-22T19:48:55.729Z"
   },
   {
    "duration": 3,
    "start_time": "2024-10-22T19:48:56.556Z"
   },
   {
    "duration": 4,
    "start_time": "2024-10-22T19:48:57.037Z"
   },
   {
    "duration": 3,
    "start_time": "2024-10-22T19:48:57.421Z"
   },
   {
    "duration": 3,
    "start_time": "2024-10-22T19:48:59.348Z"
   },
   {
    "duration": 3,
    "start_time": "2024-10-22T19:49:00.910Z"
   },
   {
    "duration": 442,
    "start_time": "2024-10-22T19:49:03.840Z"
   },
   {
    "duration": 53,
    "start_time": "2024-10-22T19:49:05.532Z"
   },
   {
    "duration": 50,
    "start_time": "2024-10-22T19:49:07.019Z"
   },
   {
    "duration": 16,
    "start_time": "2024-10-22T19:50:17.969Z"
   },
   {
    "duration": 4,
    "start_time": "2024-10-22T19:50:32.653Z"
   },
   {
    "duration": 15,
    "start_time": "2024-10-22T19:51:13.639Z"
   },
   {
    "duration": 15,
    "start_time": "2024-10-22T19:51:16.386Z"
   },
   {
    "duration": 18,
    "start_time": "2024-10-22T19:51:17.739Z"
   },
   {
    "duration": 248,
    "start_time": "2024-10-22T19:51:19.680Z"
   },
   {
    "duration": 259,
    "start_time": "2024-10-22T19:51:21.428Z"
   },
   {
    "duration": 263,
    "start_time": "2024-10-22T19:51:21.947Z"
   },
   {
    "duration": 238,
    "start_time": "2024-10-22T19:51:22.268Z"
   },
   {
    "duration": 80,
    "start_time": "2024-10-22T19:52:13.891Z"
   }
  ],
  "kernelspec": {
   "display_name": "Python 3",
   "language": "python",
   "name": "python3"
  },
  "language_info": {
   "codemirror_mode": {
    "name": "ipython",
    "version": 3
   },
   "file_extension": ".py",
   "mimetype": "text/x-python",
   "name": "python",
   "nbconvert_exporter": "python",
   "pygments_lexer": "ipython3",
   "version": "3.12.7"
  },
  "toc": {
   "base_numbering": 1,
   "nav_menu": {},
   "number_sections": true,
   "sideBar": true,
   "skip_h1_title": true,
   "title_cell": "Table of Contents",
   "title_sidebar": "Contents",
   "toc_cell": false,
   "toc_position": {},
   "toc_section_display": true,
   "toc_window_display": false
  }
 },
 "nbformat": 4,
 "nbformat_minor": 2
}
